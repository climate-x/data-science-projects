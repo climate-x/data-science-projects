{
 "cells": [
  {
   "cell_type": "markdown",
   "metadata": {},
   "source": [
    "# Project - Clean and Analyze Employee Exit Surveys with Pandas\n",
    "In this  project, we'll work with exit surveys from employees of the Department of Education, Training and Employment (DETE) and the Technical and Further Education (TAFE) institute in Queensland, Australia. We can find the TAFE exit survey [here](https://data.gov.au/dataset/ds-qld-89970a3b-182b-41ea-aea2-6f9f17b5907e/details?q=exit%20survey) and the survey for the DETE [here](https://data.gov.au/dataset/ds-qld-fe96ff30-d157-4a81-851d-215f2a0fe26d/details?q=exit%20survey). We've made some slight modifications to these datasets to make them easier to work with, including changing the encoding to UTF-8 (the original ones are encoded using cp1252.)\n",
    "\n",
    "As data analysts we want to know the following:\n",
    "\n",
    "- Are employees who only worked for the institutes for a short period of time resigning due to some kind of dissatisfaction? What about employees who have been there longer?\n",
    "- Are younger employees resigning due to some kind of dissatisfaction? What about older employees?\n",
    "\n",
    "Below is a preview of a couple columns we'll work with from the dete_survey.csv:\n",
    "\n",
    "`ID`: An id used to identify the participant of the survey\n",
    "`SeparationType`: The reason why the person's employment ended\n",
    "`Cease Date`: The year or month the person's employment ended\n",
    "`DETE Start Date`: The year the person began employment with the DETE\n",
    "\n",
    "Below is a preview of a couple columns we'll work with from the tafe_survey.csv:\n",
    "\n",
    "`Record ID`: An id used to identify the participant of the survey\n",
    "`Reason for ceasing employment`: The reason why the person's employment ended\n",
    "`LengthofServiceOverall`. Overall Length of Service at Institute (in years): The length of the person's employment (in years)"
   ]
  },
  {
   "cell_type": "markdown",
   "metadata": {},
   "source": [
    "### Step-1: Datasets Exploration"
   ]
  },
  {
   "cell_type": "code",
   "execution_count": 1,
   "metadata": {
    "scrolled": true
   },
   "outputs": [
    {
     "name": "stdout",
     "output_type": "stream",
     "text": [
      "(822, 56)\n",
      "(702, 72)\n"
     ]
    }
   ],
   "source": [
    "import numpy as np\n",
    "import pandas as pd\n",
    "import matplotlib.pyplot as plt\n",
    "%matplotlib inline\n",
    "import seaborn as sns\n",
    "dete_survey=pd.read_csv('dete_survey.csv')\n",
    "tafe_survey=pd.read_csv('tafe_survey.csv')\n",
    "pd.options.display.max_columns = 150 # to avoid truncated output \n",
    "print(dete_survey.shape)\n",
    "print(tafe_survey.shape)"
   ]
  },
  {
   "cell_type": "code",
   "execution_count": 2,
   "metadata": {},
   "outputs": [
    {
     "name": "stdout",
     "output_type": "stream",
     "text": [
      "<class 'pandas.core.frame.DataFrame'>\n",
      "RangeIndex: 822 entries, 0 to 821\n",
      "Data columns (total 56 columns):\n",
      " #   Column                               Non-Null Count  Dtype \n",
      "---  ------                               --------------  ----- \n",
      " 0   ID                                   822 non-null    int64 \n",
      " 1   SeparationType                       822 non-null    object\n",
      " 2   Cease Date                           822 non-null    object\n",
      " 3   DETE Start Date                      822 non-null    object\n",
      " 4   Role Start Date                      822 non-null    object\n",
      " 5   Position                             817 non-null    object\n",
      " 6   Classification                       455 non-null    object\n",
      " 7   Region                               822 non-null    object\n",
      " 8   Business Unit                        126 non-null    object\n",
      " 9   Employment Status                    817 non-null    object\n",
      " 10  Career move to public sector         822 non-null    bool  \n",
      " 11  Career move to private sector        822 non-null    bool  \n",
      " 12  Interpersonal conflicts              822 non-null    bool  \n",
      " 13  Job dissatisfaction                  822 non-null    bool  \n",
      " 14  Dissatisfaction with the department  822 non-null    bool  \n",
      " 15  Physical work environment            822 non-null    bool  \n",
      " 16  Lack of recognition                  822 non-null    bool  \n",
      " 17  Lack of job security                 822 non-null    bool  \n",
      " 18  Work location                        822 non-null    bool  \n",
      " 19  Employment conditions                822 non-null    bool  \n",
      " 20  Maternity/family                     822 non-null    bool  \n",
      " 21  Relocation                           822 non-null    bool  \n",
      " 22  Study/Travel                         822 non-null    bool  \n",
      " 23  Ill Health                           822 non-null    bool  \n",
      " 24  Traumatic incident                   822 non-null    bool  \n",
      " 25  Work life balance                    822 non-null    bool  \n",
      " 26  Workload                             822 non-null    bool  \n",
      " 27  None of the above                    822 non-null    bool  \n",
      " 28  Professional Development             808 non-null    object\n",
      " 29  Opportunities for promotion          735 non-null    object\n",
      " 30  Staff morale                         816 non-null    object\n",
      " 31  Workplace issue                      788 non-null    object\n",
      " 32  Physical environment                 817 non-null    object\n",
      " 33  Worklife balance                     815 non-null    object\n",
      " 34  Stress and pressure support          810 non-null    object\n",
      " 35  Performance of supervisor            813 non-null    object\n",
      " 36  Peer support                         812 non-null    object\n",
      " 37  Initiative                           813 non-null    object\n",
      " 38  Skills                               811 non-null    object\n",
      " 39  Coach                                767 non-null    object\n",
      " 40  Career Aspirations                   746 non-null    object\n",
      " 41  Feedback                             792 non-null    object\n",
      " 42  Further PD                           768 non-null    object\n",
      " 43  Communication                        814 non-null    object\n",
      " 44  My say                               812 non-null    object\n",
      " 45  Information                          816 non-null    object\n",
      " 46  Kept informed                        813 non-null    object\n",
      " 47  Wellness programs                    766 non-null    object\n",
      " 48  Health & Safety                      793 non-null    object\n",
      " 49  Gender                               798 non-null    object\n",
      " 50  Age                                  811 non-null    object\n",
      " 51  Aboriginal                           16 non-null     object\n",
      " 52  Torres Strait                        3 non-null      object\n",
      " 53  South Sea                            7 non-null      object\n",
      " 54  Disability                           23 non-null     object\n",
      " 55  NESB                                 32 non-null     object\n",
      "dtypes: bool(18), int64(1), object(37)\n",
      "memory usage: 258.6+ KB\n",
      "None\n",
      "   ID                    SeparationType Cease Date DETE Start Date  \\\n",
      "0   1             Ill Health Retirement    08/2012            1984   \n",
      "1   2  Voluntary Early Retirement (VER)    08/2012      Not Stated   \n",
      "2   3  Voluntary Early Retirement (VER)    05/2012            2011   \n",
      "3   4         Resignation-Other reasons    05/2012            2005   \n",
      "4   5                    Age Retirement    05/2012            1970   \n",
      "\n",
      "  Role Start Date                                      Position  \\\n",
      "0            2004                                Public Servant   \n",
      "1      Not Stated                                Public Servant   \n",
      "2            2011                               Schools Officer   \n",
      "3            2006                                       Teacher   \n",
      "4            1989  Head of Curriculum/Head of Special Education   \n",
      "\n",
      "  Classification              Region                      Business Unit  \\\n",
      "0        A01-A04      Central Office  Corporate Strategy and Peformance   \n",
      "1        AO5-AO7      Central Office  Corporate Strategy and Peformance   \n",
      "2            NaN      Central Office               Education Queensland   \n",
      "3        Primary  Central Queensland                                NaN   \n",
      "4            NaN          South East                                NaN   \n",
      "\n",
      "     Employment Status  Career move to public sector  \\\n",
      "0  Permanent Full-time                          True   \n",
      "1  Permanent Full-time                         False   \n",
      "2  Permanent Full-time                         False   \n",
      "3  Permanent Full-time                         False   \n",
      "4  Permanent Full-time                         False   \n",
      "\n",
      "   Career move to private sector  Interpersonal conflicts  \\\n",
      "0                          False                    False   \n",
      "1                          False                    False   \n",
      "2                          False                    False   \n",
      "3                           True                    False   \n",
      "4                          False                    False   \n",
      "\n",
      "   Job dissatisfaction  Dissatisfaction with the department  \\\n",
      "0                 True                                False   \n",
      "1                False                                False   \n",
      "2                False                                False   \n",
      "3                False                                False   \n",
      "4                False                                False   \n",
      "\n",
      "   Physical work environment  Lack of recognition  Lack of job security  \\\n",
      "0                      False                 True                 False   \n",
      "1                      False                False                 False   \n",
      "2                      False                False                 False   \n",
      "3                      False                False                 False   \n",
      "4                      False                False                 False   \n",
      "\n",
      "   Work location  Employment conditions  Maternity/family  Relocation  \\\n",
      "0          False                  False             False       False   \n",
      "1          False                  False             False       False   \n",
      "2          False                  False             False       False   \n",
      "3          False                  False             False       False   \n",
      "4          False                  False             False       False   \n",
      "\n",
      "   Study/Travel  Ill Health  Traumatic incident  Work life balance  Workload  \\\n",
      "0         False       False               False              False     False   \n",
      "1         False       False               False              False     False   \n",
      "2         False       False               False              False     False   \n",
      "3         False       False               False              False     False   \n",
      "4         False       False               False               True     False   \n",
      "\n",
      "   None of the above Professional Development Opportunities for promotion  \\\n",
      "0               True                        A                           A   \n",
      "1              False                        A                           A   \n",
      "2               True                        N                           N   \n",
      "3              False                        A                           N   \n",
      "4              False                        A                           A   \n",
      "\n",
      "  Staff morale Workplace issue Physical environment Worklife balance  \\\n",
      "0            N               N                    N                A   \n",
      "1            N               N                    N                N   \n",
      "2            N               N                    N                N   \n",
      "3            N               N                    A                A   \n",
      "4            N               N                    D                D   \n",
      "\n",
      "  Stress and pressure support Performance of supervisor Peer support  \\\n",
      "0                           A                         A            A   \n",
      "1                           A                         A            A   \n",
      "2                           N                         N            N   \n",
      "3                           N                         N            A   \n",
      "4                           N                         A            A   \n",
      "\n",
      "  Initiative Skills Coach Career Aspirations Feedback Further PD  \\\n",
      "0          N      N     N                  A        A          A   \n",
      "1          N      N     N                  A        A          A   \n",
      "2          N      N     N                  N        N          N   \n",
      "3          A      A     A                  A        A          A   \n",
      "4          A      A     A                  A       SA         SA   \n",
      "\n",
      "  Communication My say Information Kept informed Wellness programs  \\\n",
      "0             N      A           A             N                 N   \n",
      "1             N      A           A             N                 N   \n",
      "2             A      A           N             N                 N   \n",
      "3             A      A           A             A                 N   \n",
      "4             D      D           A             N                 A   \n",
      "\n",
      "  Health & Safety  Gender          Age Aboriginal Torres Strait South Sea  \\\n",
      "0               N    Male        56-60        NaN           NaN       NaN   \n",
      "1               N    Male        56-60        NaN           NaN       NaN   \n",
      "2               N    Male  61 or older        NaN           NaN       NaN   \n",
      "3               A  Female        36-40        NaN           NaN       NaN   \n",
      "4               M  Female  61 or older        NaN           NaN       NaN   \n",
      "\n",
      "  Disability NESB  \n",
      "0        NaN  Yes  \n",
      "1        NaN  NaN  \n",
      "2        NaN  NaN  \n",
      "3        NaN  NaN  \n",
      "4        NaN  NaN  \n"
     ]
    }
   ],
   "source": [
    "print(dete_survey.info())\n",
    "print(dete_survey.head())"
   ]
  },
  {
   "cell_type": "code",
   "execution_count": 3,
   "metadata": {},
   "outputs": [
    {
     "name": "stdout",
     "output_type": "stream",
     "text": [
      "<class 'pandas.core.frame.DataFrame'>\n",
      "RangeIndex: 702 entries, 0 to 701\n",
      "Data columns (total 72 columns):\n",
      " #   Column                                                                                                                                                         Non-Null Count  Dtype  \n",
      "---  ------                                                                                                                                                         --------------  -----  \n",
      " 0   Record ID                                                                                                                                                      702 non-null    float64\n",
      " 1   Institute                                                                                                                                                      702 non-null    object \n",
      " 2   WorkArea                                                                                                                                                       702 non-null    object \n",
      " 3   CESSATION YEAR                                                                                                                                                 695 non-null    float64\n",
      " 4   Reason for ceasing employment                                                                                                                                  701 non-null    object \n",
      " 5   Contributing Factors. Career Move - Public Sector                                                                                                              437 non-null    object \n",
      " 6   Contributing Factors. Career Move - Private Sector                                                                                                             437 non-null    object \n",
      " 7   Contributing Factors. Career Move - Self-employment                                                                                                            437 non-null    object \n",
      " 8   Contributing Factors. Ill Health                                                                                                                               437 non-null    object \n",
      " 9   Contributing Factors. Maternity/Family                                                                                                                         437 non-null    object \n",
      " 10  Contributing Factors. Dissatisfaction                                                                                                                          437 non-null    object \n",
      " 11  Contributing Factors. Job Dissatisfaction                                                                                                                      437 non-null    object \n",
      " 12  Contributing Factors. Interpersonal Conflict                                                                                                                   437 non-null    object \n",
      " 13  Contributing Factors. Study                                                                                                                                    437 non-null    object \n",
      " 14  Contributing Factors. Travel                                                                                                                                   437 non-null    object \n",
      " 15  Contributing Factors. Other                                                                                                                                    437 non-null    object \n",
      " 16  Contributing Factors. NONE                                                                                                                                     437 non-null    object \n",
      " 17  Main Factor. Which of these was the main factor for leaving?                                                                                                   113 non-null    object \n",
      " 18  InstituteViews. Topic:1. I feel the senior leadership had a clear vision and direction                                                                         608 non-null    object \n",
      " 19  InstituteViews. Topic:2. I was given access to skills training to help me do my job better                                                                     613 non-null    object \n",
      " 20  InstituteViews. Topic:3. I was given adequate opportunities for personal development                                                                           610 non-null    object \n",
      " 21  InstituteViews. Topic:4. I was given adequate opportunities for promotion within %Institute]Q25LBL%                                                            608 non-null    object \n",
      " 22  InstituteViews. Topic:5. I felt the salary for the job was right for the responsibilities I had                                                                615 non-null    object \n",
      " 23  InstituteViews. Topic:6. The organisation recognised when staff did good work                                                                                  607 non-null    object \n",
      " 24  InstituteViews. Topic:7. Management was generally supportive of me                                                                                             614 non-null    object \n",
      " 25  InstituteViews. Topic:8. Management was generally supportive of my team                                                                                        608 non-null    object \n",
      " 26  InstituteViews. Topic:9. I was kept informed of the changes in the organisation which would affect me                                                          610 non-null    object \n",
      " 27  InstituteViews. Topic:10. Staff morale was positive within the Institute                                                                                       602 non-null    object \n",
      " 28  InstituteViews. Topic:11. If I had a workplace issue it was dealt with quickly                                                                                 601 non-null    object \n",
      " 29  InstituteViews. Topic:12. If I had a workplace issue it was dealt with efficiently                                                                             597 non-null    object \n",
      " 30  InstituteViews. Topic:13. If I had a workplace issue it was dealt with discreetly                                                                              601 non-null    object \n",
      " 31  WorkUnitViews. Topic:14. I was satisfied with the quality of the management and supervision within my work unit                                                609 non-null    object \n",
      " 32  WorkUnitViews. Topic:15. I worked well with my colleagues                                                                                                      605 non-null    object \n",
      " 33  WorkUnitViews. Topic:16. My job was challenging and interesting                                                                                                607 non-null    object \n",
      " 34  WorkUnitViews. Topic:17. I was encouraged to use my initiative in the course of my work                                                                        610 non-null    object \n",
      " 35  WorkUnitViews. Topic:18. I had sufficient contact with other people in my job                                                                                  613 non-null    object \n",
      " 36  WorkUnitViews. Topic:19. I was given adequate support and co-operation by my peers to enable me to do my job                                                   609 non-null    object \n",
      " 37  WorkUnitViews. Topic:20. I was able to use the full range of my skills in my job                                                                               609 non-null    object \n",
      " 38  WorkUnitViews. Topic:21. I was able to use the full range of my abilities in my job. ; Category:Level of Agreement; Question:YOUR VIEWS ABOUT YOUR WORK UNIT]  608 non-null    object \n",
      " 39  WorkUnitViews. Topic:22. I was able to use the full range of my knowledge in my job                                                                            608 non-null    object \n",
      " 40  WorkUnitViews. Topic:23. My job provided sufficient variety                                                                                                    611 non-null    object \n",
      " 41  WorkUnitViews. Topic:24. I was able to cope with the level of stress and pressure in my job                                                                    610 non-null    object \n",
      " 42  WorkUnitViews. Topic:25. My job allowed me to balance the demands of work and family to my satisfaction                                                        611 non-null    object \n",
      " 43  WorkUnitViews. Topic:26. My supervisor gave me adequate personal recognition and feedback on my performance                                                    606 non-null    object \n",
      " 44  WorkUnitViews. Topic:27. My working environment was satisfactory e.g. sufficient space, good lighting, suitable seating and working area                       610 non-null    object \n",
      " 45  WorkUnitViews. Topic:28. I was given the opportunity to mentor and coach others in order for me to pass on my skills and knowledge prior to my cessation date  609 non-null    object \n",
      " 46  WorkUnitViews. Topic:29. There was adequate communication between staff in my unit                                                                             603 non-null    object \n",
      " 47  WorkUnitViews. Topic:30. Staff morale was positive within my work unit                                                                                         606 non-null    object \n",
      " 48  Induction. Did you undertake Workplace Induction?                                                                                                              619 non-null    object \n",
      " 49  InductionInfo. Topic:Did you undertake a Corporate Induction?                                                                                                  432 non-null    object \n",
      " 50  InductionInfo. Topic:Did you undertake a Institute Induction?                                                                                                  483 non-null    object \n",
      " 51  InductionInfo. Topic: Did you undertake Team Induction?                                                                                                        440 non-null    object \n",
      " 52  InductionInfo. Face to Face Topic:Did you undertake a Corporate Induction; Category:How it was conducted?                                                      555 non-null    object \n",
      " 53  InductionInfo. On-line Topic:Did you undertake a Corporate Induction; Category:How it was conducted?                                                           555 non-null    object \n",
      " 54  InductionInfo. Induction Manual Topic:Did you undertake a Corporate Induction?                                                                                 555 non-null    object \n",
      " 55  InductionInfo. Face to Face Topic:Did you undertake a Institute Induction?                                                                                     530 non-null    object \n",
      " 56  InductionInfo. On-line Topic:Did you undertake a Institute Induction?                                                                                          555 non-null    object \n",
      " 57  InductionInfo. Induction Manual Topic:Did you undertake a Institute Induction?                                                                                 553 non-null    object \n",
      " 58  InductionInfo. Face to Face Topic: Did you undertake Team Induction; Category?                                                                                 555 non-null    object \n",
      " 59  InductionInfo. On-line Topic: Did you undertake Team Induction?process you undertook and how it was conducted.]                                                555 non-null    object \n",
      " 60  InductionInfo. Induction Manual Topic: Did you undertake Team Induction?                                                                                       555 non-null    object \n",
      " 61  Workplace. Topic:Did you and your Manager develop a Performance and Professional Development Plan (PPDP)?                                                      608 non-null    object \n",
      " 62  Workplace. Topic:Does your workplace promote a work culture free from all forms of unlawful discrimination?                                                    594 non-null    object \n",
      " 63  Workplace. Topic:Does your workplace promote and practice the principles of employment equity?                                                                 587 non-null    object \n",
      " 64  Workplace. Topic:Does your workplace value the diversity of its employees?                                                                                     586 non-null    object \n",
      " 65  Workplace. Topic:Would you recommend the Institute as an employer to others?                                                                                   581 non-null    object \n",
      " 66  Gender. What is your Gender?                                                                                                                                   596 non-null    object \n",
      " 67  CurrentAge. Current Age                                                                                                                                        596 non-null    object \n",
      " 68  Employment Type. Employment Type                                                                                                                               596 non-null    object \n",
      " 69  Classification. Classification                                                                                                                                 596 non-null    object \n",
      " 70  LengthofServiceOverall. Overall Length of Service at Institute (in years)                                                                                      596 non-null    object \n",
      " 71  LengthofServiceCurrent. Length of Service at current workplace (in years)                                                                                      596 non-null    object \n",
      "dtypes: float64(2), object(70)\n",
      "memory usage: 395.0+ KB\n",
      "None\n",
      "      Record ID                              Institute  \\\n",
      "0  6.341330e+17  Southern Queensland Institute of TAFE   \n",
      "1  6.341337e+17            Mount Isa Institute of TAFE   \n",
      "2  6.341388e+17            Mount Isa Institute of TAFE   \n",
      "3  6.341399e+17            Mount Isa Institute of TAFE   \n",
      "4  6.341466e+17  Southern Queensland Institute of TAFE   \n",
      "\n",
      "                   WorkArea  CESSATION YEAR Reason for ceasing employment  \\\n",
      "0  Non-Delivery (corporate)          2010.0              Contract Expired   \n",
      "1  Non-Delivery (corporate)          2010.0                    Retirement   \n",
      "2       Delivery (teaching)          2010.0                    Retirement   \n",
      "3  Non-Delivery (corporate)          2010.0                   Resignation   \n",
      "4       Delivery (teaching)          2010.0                   Resignation   \n",
      "\n",
      "  Contributing Factors. Career Move - Public Sector   \\\n",
      "0                                                NaN   \n",
      "1                                                  -   \n",
      "2                                                  -   \n",
      "3                                                  -   \n",
      "4                                                  -   \n",
      "\n",
      "  Contributing Factors. Career Move - Private Sector   \\\n",
      "0                                                NaN    \n",
      "1                                                  -    \n",
      "2                                                  -    \n",
      "3                                                  -    \n",
      "4                       Career Move - Private Sector    \n",
      "\n",
      "  Contributing Factors. Career Move - Self-employment  \\\n",
      "0                                                NaN    \n",
      "1                                                  -    \n",
      "2                                                  -    \n",
      "3                                                  -    \n",
      "4                                                  -    \n",
      "\n",
      "  Contributing Factors. Ill Health Contributing Factors. Maternity/Family  \\\n",
      "0                              NaN                                    NaN   \n",
      "1                                -                                      -   \n",
      "2                                -                                      -   \n",
      "3                                -                                      -   \n",
      "4                                -                                      -   \n",
      "\n",
      "  Contributing Factors. Dissatisfaction  \\\n",
      "0                                   NaN   \n",
      "1                                     -   \n",
      "2                                     -   \n",
      "3                                     -   \n",
      "4                                     -   \n",
      "\n",
      "  Contributing Factors. Job Dissatisfaction  \\\n",
      "0                                       NaN   \n",
      "1                                         -   \n",
      "2                                         -   \n",
      "3                                         -   \n",
      "4                                         -   \n",
      "\n",
      "  Contributing Factors. Interpersonal Conflict Contributing Factors. Study  \\\n",
      "0                                          NaN                         NaN   \n",
      "1                                            -                           -   \n",
      "2                                            -                           -   \n",
      "3                                            -                           -   \n",
      "4                                            -                           -   \n",
      "\n",
      "  Contributing Factors. Travel Contributing Factors. Other  \\\n",
      "0                          NaN                         NaN   \n",
      "1                       Travel                           -   \n",
      "2                            -                           -   \n",
      "3                       Travel                           -   \n",
      "4                            -                           -   \n",
      "\n",
      "  Contributing Factors. NONE  \\\n",
      "0                        NaN   \n",
      "1                          -   \n",
      "2                       NONE   \n",
      "3                          -   \n",
      "4                          -   \n",
      "\n",
      "  Main Factor. Which of these was the main factor for leaving?  \\\n",
      "0                                                NaN             \n",
      "1                                                NaN             \n",
      "2                                                NaN             \n",
      "3                                                NaN             \n",
      "4                                                NaN             \n",
      "\n",
      "  InstituteViews. Topic:1. I feel the senior leadership had a clear vision and direction  \\\n",
      "0                                              Agree                                       \n",
      "1                                              Agree                                       \n",
      "2                                              Agree                                       \n",
      "3                                              Agree                                       \n",
      "4                                              Agree                                       \n",
      "\n",
      "  InstituteViews. Topic:2. I was given access to skills training to help me do my job better  \\\n",
      "0                                              Agree                                           \n",
      "1                                              Agree                                           \n",
      "2                                              Agree                                           \n",
      "3                                              Agree                                           \n",
      "4                                              Agree                                           \n",
      "\n",
      "  InstituteViews. Topic:3. I was given adequate opportunities for personal development  \\\n",
      "0                                              Agree                                     \n",
      "1                                              Agree                                     \n",
      "2                                              Agree                                     \n",
      "3                                              Agree                                     \n",
      "4                                     Strongly Agree                                     \n",
      "\n",
      "  InstituteViews. Topic:4. I was given adequate opportunities for promotion within %Institute]Q25LBL%  \\\n",
      "0                                            Neutral                                                    \n",
      "1                                              Agree                                                    \n",
      "2                                              Agree                                                    \n",
      "3                                              Agree                                                    \n",
      "4                                              Agree                                                    \n",
      "\n",
      "  InstituteViews. Topic:5. I felt the salary for the job was right for the responsibilities I had  \\\n",
      "0                                              Agree                                                \n",
      "1                                              Agree                                                \n",
      "2                                              Agree                                                \n",
      "3                                              Agree                                                \n",
      "4                                     Strongly Agree                                                \n",
      "\n",
      "  InstituteViews. Topic:6. The organisation recognised when staff did good work  \\\n",
      "0                                              Agree                              \n",
      "1                                     Strongly Agree                              \n",
      "2                                              Agree                              \n",
      "3                                              Agree                              \n",
      "4                                     Strongly Agree                              \n",
      "\n",
      "  InstituteViews. Topic:7. Management was generally supportive of me  \\\n",
      "0                                              Agree                   \n",
      "1                                     Strongly Agree                   \n",
      "2                                     Strongly Agree                   \n",
      "3                                              Agree                   \n",
      "4                                     Strongly Agree                   \n",
      "\n",
      "  InstituteViews. Topic:8. Management was generally supportive of my team  \\\n",
      "0                                              Agree                        \n",
      "1                                              Agree                        \n",
      "2                                              Agree                        \n",
      "3                                              Agree                        \n",
      "4                                     Strongly Agree                        \n",
      "\n",
      "  InstituteViews. Topic:9. I was kept informed of the changes in the organisation which would affect me  \\\n",
      "0                                              Agree                                                      \n",
      "1                                     Strongly Agree                                                      \n",
      "2                                              Agree                                                      \n",
      "3                                              Agree                                                      \n",
      "4                                              Agree                                                      \n",
      "\n",
      "  InstituteViews. Topic:10. Staff morale was positive within the Institute  \\\n",
      "0                                              Agree                         \n",
      "1                                              Agree                         \n",
      "2                                              Agree                         \n",
      "3                                              Agree                         \n",
      "4                                     Strongly Agree                         \n",
      "\n",
      "  InstituteViews. Topic:11. If I had a workplace issue it was dealt with quickly  \\\n",
      "0                                              Agree                               \n",
      "1                                              Agree                               \n",
      "2                                              Agree                               \n",
      "3                                              Agree                               \n",
      "4                                     Strongly Agree                               \n",
      "\n",
      "  InstituteViews. Topic:12. If I had a workplace issue it was dealt with efficiently  \\\n",
      "0                                              Agree                                   \n",
      "1                                              Agree                                   \n",
      "2                                            Neutral                                   \n",
      "3                                              Agree                                   \n",
      "4                                              Agree                                   \n",
      "\n",
      "  InstituteViews. Topic:13. If I had a workplace issue it was dealt with discreetly  \\\n",
      "0                                              Agree                                  \n",
      "1                                           Disagree                                  \n",
      "2                                            Neutral                                  \n",
      "3                                              Agree                                  \n",
      "4                                     Strongly Agree                                  \n",
      "\n",
      "  WorkUnitViews. Topic:14. I was satisfied with the quality of the management and supervision within my work unit  \\\n",
      "0                                              Agree                                                                \n",
      "1                                     Strongly Agree                                                                \n",
      "2                                     Strongly Agree                                                                \n",
      "3                                     Strongly Agree                                                                \n",
      "4                                     Strongly Agree                                                                \n",
      "\n",
      "  WorkUnitViews. Topic:15. I worked well with my colleagues  \\\n",
      "0                                              Agree          \n",
      "1                                     Strongly Agree          \n",
      "2                                     Strongly Agree          \n",
      "3                                     Strongly Agree          \n",
      "4                                     Strongly Agree          \n",
      "\n",
      "  WorkUnitViews. Topic:16. My job was challenging and interesting  \\\n",
      "0                                              Agree                \n",
      "1                                     Strongly Agree                \n",
      "2                                              Agree                \n",
      "3                                     Strongly Agree                \n",
      "4                                     Strongly Agree                \n",
      "\n",
      "  WorkUnitViews. Topic:17. I was encouraged to use my initiative in the course of my work  \\\n",
      "0                                     Strongly Agree                                        \n",
      "1                                              Agree                                        \n",
      "2                                              Agree                                        \n",
      "3                                     Strongly Agree                                        \n",
      "4                                     Strongly Agree                                        \n",
      "\n",
      "  WorkUnitViews. Topic:18. I had sufficient contact with other people in my job  \\\n",
      "0                                              Agree                              \n",
      "1                                              Agree                              \n",
      "2                                              Agree                              \n",
      "3                                     Strongly Agree                              \n",
      "4                                     Strongly Agree                              \n",
      "\n",
      "  WorkUnitViews. Topic:19. I was given adequate support and co-operation by my peers to enable me to do my job  \\\n",
      "0                                              Agree                                                             \n",
      "1                                              Agree                                                             \n",
      "2                                              Agree                                                             \n",
      "3                                     Strongly Agree                                                             \n",
      "4                                     Strongly Agree                                                             \n",
      "\n",
      "  WorkUnitViews. Topic:20. I was able to use the full range of my skills in my job  \\\n",
      "0                                              Agree                                 \n",
      "1                                     Strongly Agree                                 \n",
      "2                                              Agree                                 \n",
      "3                                     Strongly Agree                                 \n",
      "4                                     Strongly Agree                                 \n",
      "\n",
      "  WorkUnitViews. Topic:21. I was able to use the full range of my abilities in my job. ; Category:Level of Agreement; Question:YOUR VIEWS ABOUT YOUR WORK UNIT]  \\\n",
      "0                                              Agree                                                                                                              \n",
      "1                                              Agree                                                                                                              \n",
      "2                                              Agree                                                                                                              \n",
      "3                                     Strongly Agree                                                                                                              \n",
      "4                                     Strongly Agree                                                                                                              \n",
      "\n",
      "  WorkUnitViews. Topic:22. I was able to use the full range of my knowledge in my job  \\\n",
      "0                                              Agree                                    \n",
      "1                                              Agree                                    \n",
      "2                                              Agree                                    \n",
      "3                                     Strongly Agree                                    \n",
      "4                                     Strongly Agree                                    \n",
      "\n",
      "  WorkUnitViews. Topic:23. My job provided sufficient variety  \\\n",
      "0                                              Agree            \n",
      "1                                              Agree            \n",
      "2                                              Agree            \n",
      "3                                     Strongly Agree            \n",
      "4                                     Strongly Agree            \n",
      "\n",
      "  WorkUnitViews. Topic:24. I was able to cope with the level of stress and pressure in my job  \\\n",
      "0                                              Agree                                            \n",
      "1                                     Strongly Agree                                            \n",
      "2                                              Agree                                            \n",
      "3                                     Strongly Agree                                            \n",
      "4                                     Strongly Agree                                            \n",
      "\n",
      "  WorkUnitViews. Topic:25. My job allowed me to balance the demands of work and family to my satisfaction  \\\n",
      "0                                              Agree                                                        \n",
      "1                                              Agree                                                        \n",
      "2                                              Agree                                                        \n",
      "3                                     Strongly Agree                                                        \n",
      "4                                     Strongly Agree                                                        \n",
      "\n",
      "  WorkUnitViews. Topic:26. My supervisor gave me adequate personal recognition and feedback on my performance  \\\n",
      "0                                              Agree                                                            \n",
      "1                                     Strongly Agree                                                            \n",
      "2                                              Agree                                                            \n",
      "3                                     Strongly Agree                                                            \n",
      "4                                     Strongly Agree                                                            \n",
      "\n",
      "  WorkUnitViews. Topic:27. My working environment was satisfactory e.g. sufficient space, good lighting, suitable seating and working area  \\\n",
      "0                                              Agree                                                                                         \n",
      "1                                     Strongly Agree                                                                                         \n",
      "2                                              Agree                                                                                         \n",
      "3                                     Strongly Agree                                                                                         \n",
      "4                                     Strongly Agree                                                                                         \n",
      "\n",
      "  WorkUnitViews. Topic:28. I was given the opportunity to mentor and coach others in order for me to pass on my skills and knowledge prior to my cessation date  \\\n",
      "0                                            Neutral                                                                                                              \n",
      "1                                              Agree                                                                                                              \n",
      "2                                              Agree                                                                                                              \n",
      "3                                     Strongly Agree                                                                                                              \n",
      "4                                     Strongly Agree                                                                                                              \n",
      "\n",
      "  WorkUnitViews. Topic:29. There was adequate communication between staff in my unit  \\\n",
      "0                                              Agree                                   \n",
      "1                                              Agree                                   \n",
      "2                                              Agree                                   \n",
      "3                                     Strongly Agree                                   \n",
      "4                                     Strongly Agree                                   \n",
      "\n",
      "  WorkUnitViews. Topic:30. Staff morale was positive within my work unit  \\\n",
      "0                                              Agree                       \n",
      "1                                     Strongly Agree                       \n",
      "2                                              Agree                       \n",
      "3                                     Strongly Agree                       \n",
      "4                                     Strongly Agree                       \n",
      "\n",
      "  Induction. Did you undertake Workplace Induction?  \\\n",
      "0                                               Yes   \n",
      "1                                                No   \n",
      "2                                                No   \n",
      "3                                               Yes   \n",
      "4                                               Yes   \n",
      "\n",
      "  InductionInfo. Topic:Did you undertake a Corporate Induction?  \\\n",
      "0                                                Yes              \n",
      "1                                                NaN              \n",
      "2                                                NaN              \n",
      "3                                                 No              \n",
      "4                                                Yes              \n",
      "\n",
      "  InductionInfo. Topic:Did you undertake a Institute Induction?  \\\n",
      "0                                                Yes              \n",
      "1                                                NaN              \n",
      "2                                                NaN              \n",
      "3                                                Yes              \n",
      "4                                                Yes              \n",
      "\n",
      "  InductionInfo. Topic: Did you undertake Team Induction?  \\\n",
      "0                                                Yes        \n",
      "1                                                NaN        \n",
      "2                                                NaN        \n",
      "3                                                Yes        \n",
      "4                                                Yes        \n",
      "\n",
      "  InductionInfo. Face to Face Topic:Did you undertake a Corporate Induction; Category:How it was conducted?  \\\n",
      "0                                       Face to Face                                                          \n",
      "1                                                NaN                                                          \n",
      "2                                                NaN                                                          \n",
      "3                                                  -                                                          \n",
      "4                                                  -                                                          \n",
      "\n",
      "  InductionInfo. On-line Topic:Did you undertake a Corporate Induction; Category:How it was conducted?  \\\n",
      "0                                                  -                                                     \n",
      "1                                                NaN                                                     \n",
      "2                                                NaN                                                     \n",
      "3                                                  -                                                     \n",
      "4                                                  -                                                     \n",
      "\n",
      "  InductionInfo. Induction Manual Topic:Did you undertake a Corporate Induction?  \\\n",
      "0                                                  -                               \n",
      "1                                                NaN                               \n",
      "2                                                NaN                               \n",
      "3                                                  -                               \n",
      "4                                   Induction Manual                               \n",
      "\n",
      "  InductionInfo. Face to Face Topic:Did you undertake a Institute Induction?  \\\n",
      "0                                       Face to Face                           \n",
      "1                                                NaN                           \n",
      "2                                                NaN                           \n",
      "3                                                NaN                           \n",
      "4                                       Face to Face                           \n",
      "\n",
      "  InductionInfo. On-line Topic:Did you undertake a Institute Induction?  \\\n",
      "0                                                  -                      \n",
      "1                                                NaN                      \n",
      "2                                                NaN                      \n",
      "3                                                  -                      \n",
      "4                                                  -                      \n",
      "\n",
      "  InductionInfo. Induction Manual Topic:Did you undertake a Institute Induction?  \\\n",
      "0                                                  -                               \n",
      "1                                                NaN                               \n",
      "2                                                NaN                               \n",
      "3                                                  -                               \n",
      "4                                                  -                               \n",
      "\n",
      "  InductionInfo. Face to Face Topic: Did you undertake Team Induction; Category?  \\\n",
      "0                                       Face to Face                               \n",
      "1                                                NaN                               \n",
      "2                                                NaN                               \n",
      "3                                                  -                               \n",
      "4                                       Face to Face                               \n",
      "\n",
      "  InductionInfo. On-line Topic: Did you undertake Team Induction?process you undertook and how it was conducted.]  \\\n",
      "0                                                  -                                                                \n",
      "1                                                NaN                                                                \n",
      "2                                                NaN                                                                \n",
      "3                                                  -                                                                \n",
      "4                                                  -                                                                \n",
      "\n",
      "  InductionInfo. Induction Manual Topic: Did you undertake Team Induction?  \\\n",
      "0                                                  -                         \n",
      "1                                                NaN                         \n",
      "2                                                NaN                         \n",
      "3                                                  -                         \n",
      "4                                                  -                         \n",
      "\n",
      "  Workplace. Topic:Did you and your Manager develop a Performance and Professional Development Plan (PPDP)?  \\\n",
      "0                                                Yes                                                          \n",
      "1                                                Yes                                                          \n",
      "2                                                Yes                                                          \n",
      "3                                                Yes                                                          \n",
      "4                                                Yes                                                          \n",
      "\n",
      "  Workplace. Topic:Does your workplace promote a work culture free from all forms of unlawful discrimination?  \\\n",
      "0                                                Yes                                                            \n",
      "1                                                Yes                                                            \n",
      "2                                                Yes                                                            \n",
      "3                                                Yes                                                            \n",
      "4                                                Yes                                                            \n",
      "\n",
      "  Workplace. Topic:Does your workplace promote and practice the principles of employment equity?  \\\n",
      "0                                                Yes                                               \n",
      "1                                                Yes                                               \n",
      "2                                                Yes                                               \n",
      "3                                                Yes                                               \n",
      "4                                                Yes                                               \n",
      "\n",
      "  Workplace. Topic:Does your workplace value the diversity of its employees?  \\\n",
      "0                                                Yes                           \n",
      "1                                                Yes                           \n",
      "2                                                Yes                           \n",
      "3                                                Yes                           \n",
      "4                                                Yes                           \n",
      "\n",
      "  Workplace. Topic:Would you recommend the Institute as an employer to others?  \\\n",
      "0                                                Yes                             \n",
      "1                                                Yes                             \n",
      "2                                                Yes                             \n",
      "3                                                Yes                             \n",
      "4                                                Yes                             \n",
      "\n",
      "  Gender. What is your Gender? CurrentAge. Current Age  \\\n",
      "0                       Female                  26  30   \n",
      "1                          NaN                     NaN   \n",
      "2                          NaN                     NaN   \n",
      "3                          NaN                     NaN   \n",
      "4                         Male                  41  45   \n",
      "\n",
      "  Employment Type. Employment Type Classification. Classification  \\\n",
      "0              Temporary Full-time            Administration (AO)   \n",
      "1                              NaN                            NaN   \n",
      "2                              NaN                            NaN   \n",
      "3                              NaN                            NaN   \n",
      "4              Permanent Full-time        Teacher (including LVT)   \n",
      "\n",
      "  LengthofServiceOverall. Overall Length of Service at Institute (in years)  \\\n",
      "0                                                1-2                          \n",
      "1                                                NaN                          \n",
      "2                                                NaN                          \n",
      "3                                                NaN                          \n",
      "4                                                3-4                          \n",
      "\n",
      "  LengthofServiceCurrent. Length of Service at current workplace (in years)  \n",
      "0                                                1-2                         \n",
      "1                                                NaN                         \n",
      "2                                                NaN                         \n",
      "3                                                NaN                         \n",
      "4                                                3-4                         \n"
     ]
    }
   ],
   "source": [
    "print(tafe_survey.info())\n",
    "print(tafe_survey.head())"
   ]
  },
  {
   "cell_type": "markdown",
   "metadata": {},
   "source": [
    "### Identifying Missing Values using [`Series.isnull(self)` method](https://pandas.pydata.org/pandas-docs/stable/reference/api/pandas.Series.isnull.html)\n",
    "We use `isnull()` combined with `sum()` to give total no of NAN values for each column"
   ]
  },
  {
   "cell_type": "code",
   "execution_count": 4,
   "metadata": {
    "scrolled": false
   },
   "outputs": [
    {
     "name": "stdout",
     "output_type": "stream",
     "text": [
      "ID                                       0\n",
      "SeparationType                           0\n",
      "Cease Date                               0\n",
      "DETE Start Date                          0\n",
      "Role Start Date                          0\n",
      "Position                                 5\n",
      "Classification                         367\n",
      "Region                                   0\n",
      "Business Unit                          696\n",
      "Employment Status                        5\n",
      "Career move to public sector             0\n",
      "Career move to private sector            0\n",
      "Interpersonal conflicts                  0\n",
      "Job dissatisfaction                      0\n",
      "Dissatisfaction with the department      0\n",
      "Physical work environment                0\n",
      "Lack of recognition                      0\n",
      "Lack of job security                     0\n",
      "Work location                            0\n",
      "Employment conditions                    0\n",
      "Maternity/family                         0\n",
      "Relocation                               0\n",
      "Study/Travel                             0\n",
      "Ill Health                               0\n",
      "Traumatic incident                       0\n",
      "Work life balance                        0\n",
      "Workload                                 0\n",
      "None of the above                        0\n",
      "Professional Development                14\n",
      "Opportunities for promotion             87\n",
      "Staff morale                             6\n",
      "Workplace issue                         34\n",
      "Physical environment                     5\n",
      "Worklife balance                         7\n",
      "Stress and pressure support             12\n",
      "Performance of supervisor                9\n",
      "Peer support                            10\n",
      "Initiative                               9\n",
      "Skills                                  11\n",
      "Coach                                   55\n",
      "Career Aspirations                      76\n",
      "Feedback                                30\n",
      "Further PD                              54\n",
      "Communication                            8\n",
      "My say                                  10\n",
      "Information                              6\n",
      "Kept informed                            9\n",
      "Wellness programs                       56\n",
      "Health & Safety                         29\n",
      "Gender                                  24\n",
      "Age                                     11\n",
      "Aboriginal                             806\n",
      "Torres Strait                          819\n",
      "South Sea                              815\n",
      "Disability                             799\n",
      "NESB                                   790\n",
      "dtype: int64\n"
     ]
    }
   ],
   "source": [
    "missing_dete_survey=dete_survey.isnull().sum()\n",
    "\n",
    "print(missing_dete_survey)\n"
   ]
  },
  {
   "cell_type": "code",
   "execution_count": 5,
   "metadata": {},
   "outputs": [
    {
     "name": "stdout",
     "output_type": "stream",
     "text": [
      "Record ID                                                                      0\n",
      "Institute                                                                      0\n",
      "WorkArea                                                                       0\n",
      "CESSATION YEAR                                                                 7\n",
      "Reason for ceasing employment                                                  1\n",
      "                                                                            ... \n",
      "CurrentAge. Current Age                                                      106\n",
      "Employment Type. Employment Type                                             106\n",
      "Classification. Classification                                               106\n",
      "LengthofServiceOverall. Overall Length of Service at Institute (in years)    106\n",
      "LengthofServiceCurrent. Length of Service at current workplace (in years)    106\n",
      "Length: 72, dtype: int64\n"
     ]
    }
   ],
   "source": [
    "missing_tafe_survey=tafe_survey.isnull().sum()\n",
    "print(missing_tafe_survey)"
   ]
  },
  {
   "cell_type": "markdown",
   "metadata": {},
   "source": [
    "### Identifying Missing Values and Drop Unnecessary Columns\n",
    "- Dataframes contain 'Not Stated' values that indicate values are missing, but they aren't represented as NaN.\n",
    "- Both the dete_survey and tafe_survey dataframes contain many columns that we don't need to complete our analysis.\n",
    "- Each dataframe contains many of the same columns, but the column names are different.\n",
    "- There are multiple columns/answers that indicate an employee resigned because they were dissatisfied.\n",
    "\n",
    "#### [Reread](https://pandas.pydata.org/pandas-docs/stable/reference/api/pandas.read_csv.html) `csv files` with  the `na_values` parameter set to ` str` to be read as NAN\n",
    "We also use `df.drop()` [method](https://pandas.pydata.org/pandas-docs/stable/reference/api/pandas.DataFrame.drop.html) to drop columns not relevant to our inquiry.\n",
    "We have evaluated that following columns are not very relevant to our inquiry, hence we will drop them using `df.drop()` [method](https://pandas.pydata.org/pandas-docs/stable/reference/api/pandas.DataFrame.drop.html)\n",
    "- from dete_survey: dete_survey.columns[28:49]. \n",
    "- from tafe_survey: tafe_survey.columns[17:66]. "
   ]
  },
  {
   "cell_type": "code",
   "execution_count": 6,
   "metadata": {
    "scrolled": true
   },
   "outputs": [
    {
     "name": "stdout",
     "output_type": "stream",
     "text": [
      "<class 'pandas.core.frame.DataFrame'>\n",
      "RangeIndex: 822 entries, 0 to 821\n",
      "Data columns (total 56 columns):\n",
      " #   Column                               Non-Null Count  Dtype  \n",
      "---  ------                               --------------  -----  \n",
      " 0   ID                                   822 non-null    int64  \n",
      " 1   SeparationType                       822 non-null    object \n",
      " 2   Cease Date                           788 non-null    object \n",
      " 3   DETE Start Date                      749 non-null    float64\n",
      " 4   Role Start Date                      724 non-null    float64\n",
      " 5   Position                             817 non-null    object \n",
      " 6   Classification                       455 non-null    object \n",
      " 7   Region                               717 non-null    object \n",
      " 8   Business Unit                        126 non-null    object \n",
      " 9   Employment Status                    817 non-null    object \n",
      " 10  Career move to public sector         822 non-null    bool   \n",
      " 11  Career move to private sector        822 non-null    bool   \n",
      " 12  Interpersonal conflicts              822 non-null    bool   \n",
      " 13  Job dissatisfaction                  822 non-null    bool   \n",
      " 14  Dissatisfaction with the department  822 non-null    bool   \n",
      " 15  Physical work environment            822 non-null    bool   \n",
      " 16  Lack of recognition                  822 non-null    bool   \n",
      " 17  Lack of job security                 822 non-null    bool   \n",
      " 18  Work location                        822 non-null    bool   \n",
      " 19  Employment conditions                822 non-null    bool   \n",
      " 20  Maternity/family                     822 non-null    bool   \n",
      " 21  Relocation                           822 non-null    bool   \n",
      " 22  Study/Travel                         822 non-null    bool   \n",
      " 23  Ill Health                           822 non-null    bool   \n",
      " 24  Traumatic incident                   822 non-null    bool   \n",
      " 25  Work life balance                    822 non-null    bool   \n",
      " 26  Workload                             822 non-null    bool   \n",
      " 27  None of the above                    822 non-null    bool   \n",
      " 28  Professional Development             808 non-null    object \n",
      " 29  Opportunities for promotion          735 non-null    object \n",
      " 30  Staff morale                         816 non-null    object \n",
      " 31  Workplace issue                      788 non-null    object \n",
      " 32  Physical environment                 817 non-null    object \n",
      " 33  Worklife balance                     815 non-null    object \n",
      " 34  Stress and pressure support          810 non-null    object \n",
      " 35  Performance of supervisor            813 non-null    object \n",
      " 36  Peer support                         812 non-null    object \n",
      " 37  Initiative                           813 non-null    object \n",
      " 38  Skills                               811 non-null    object \n",
      " 39  Coach                                767 non-null    object \n",
      " 40  Career Aspirations                   746 non-null    object \n",
      " 41  Feedback                             792 non-null    object \n",
      " 42  Further PD                           768 non-null    object \n",
      " 43  Communication                        814 non-null    object \n",
      " 44  My say                               812 non-null    object \n",
      " 45  Information                          816 non-null    object \n",
      " 46  Kept informed                        813 non-null    object \n",
      " 47  Wellness programs                    766 non-null    object \n",
      " 48  Health & Safety                      793 non-null    object \n",
      " 49  Gender                               798 non-null    object \n",
      " 50  Age                                  811 non-null    object \n",
      " 51  Aboriginal                           16 non-null     object \n",
      " 52  Torres Strait                        3 non-null      object \n",
      " 53  South Sea                            7 non-null      object \n",
      " 54  Disability                           23 non-null     object \n",
      " 55  NESB                                 32 non-null     object \n",
      "dtypes: bool(18), float64(2), int64(1), object(35)\n",
      "memory usage: 258.6+ KB\n",
      "None\n"
     ]
    }
   ],
   "source": [
    "# Read in the data again, read `Not Stated` values as `NaN`\n",
    "dete_survey = pd.read_csv('dete_survey.csv', na_values='Not Stated')\n",
    "print(dete_survey.info()) # Note changes below in non-null values in columns 2,3,4\n"
   ]
  },
  {
   "cell_type": "code",
   "execution_count": 7,
   "metadata": {
    "scrolled": false
   },
   "outputs": [
    {
     "name": "stdout",
     "output_type": "stream",
     "text": [
      "<class 'pandas.core.frame.DataFrame'>\n",
      "RangeIndex: 822 entries, 0 to 821\n",
      "Data columns (total 35 columns):\n",
      " #   Column                               Non-Null Count  Dtype  \n",
      "---  ------                               --------------  -----  \n",
      " 0   ID                                   822 non-null    int64  \n",
      " 1   SeparationType                       822 non-null    object \n",
      " 2   Cease Date                           788 non-null    object \n",
      " 3   DETE Start Date                      749 non-null    float64\n",
      " 4   Role Start Date                      724 non-null    float64\n",
      " 5   Position                             817 non-null    object \n",
      " 6   Classification                       455 non-null    object \n",
      " 7   Region                               717 non-null    object \n",
      " 8   Business Unit                        126 non-null    object \n",
      " 9   Employment Status                    817 non-null    object \n",
      " 10  Career move to public sector         822 non-null    bool   \n",
      " 11  Career move to private sector        822 non-null    bool   \n",
      " 12  Interpersonal conflicts              822 non-null    bool   \n",
      " 13  Job dissatisfaction                  822 non-null    bool   \n",
      " 14  Dissatisfaction with the department  822 non-null    bool   \n",
      " 15  Physical work environment            822 non-null    bool   \n",
      " 16  Lack of recognition                  822 non-null    bool   \n",
      " 17  Lack of job security                 822 non-null    bool   \n",
      " 18  Work location                        822 non-null    bool   \n",
      " 19  Employment conditions                822 non-null    bool   \n",
      " 20  Maternity/family                     822 non-null    bool   \n",
      " 21  Relocation                           822 non-null    bool   \n",
      " 22  Study/Travel                         822 non-null    bool   \n",
      " 23  Ill Health                           822 non-null    bool   \n",
      " 24  Traumatic incident                   822 non-null    bool   \n",
      " 25  Work life balance                    822 non-null    bool   \n",
      " 26  Workload                             822 non-null    bool   \n",
      " 27  None of the above                    822 non-null    bool   \n",
      " 28  Gender                               798 non-null    object \n",
      " 29  Age                                  811 non-null    object \n",
      " 30  Aboriginal                           16 non-null     object \n",
      " 31  Torres Strait                        3 non-null      object \n",
      " 32  South Sea                            7 non-null      object \n",
      " 33  Disability                           23 non-null     object \n",
      " 34  NESB                                 32 non-null     object \n",
      "dtypes: bool(18), float64(2), int64(1), object(14)\n",
      "memory usage: 123.7+ KB\n",
      "None\n",
      "<class 'pandas.core.frame.DataFrame'>\n",
      "RangeIndex: 702 entries, 0 to 701\n",
      "Data columns (total 23 columns):\n",
      " #   Column                                                                     Non-Null Count  Dtype  \n",
      "---  ------                                                                     --------------  -----  \n",
      " 0   Record ID                                                                  702 non-null    float64\n",
      " 1   Institute                                                                  702 non-null    object \n",
      " 2   WorkArea                                                                   702 non-null    object \n",
      " 3   CESSATION YEAR                                                             695 non-null    float64\n",
      " 4   Reason for ceasing employment                                              701 non-null    object \n",
      " 5   Contributing Factors. Career Move - Public Sector                          437 non-null    object \n",
      " 6   Contributing Factors. Career Move - Private Sector                         437 non-null    object \n",
      " 7   Contributing Factors. Career Move - Self-employment                        437 non-null    object \n",
      " 8   Contributing Factors. Ill Health                                           437 non-null    object \n",
      " 9   Contributing Factors. Maternity/Family                                     437 non-null    object \n",
      " 10  Contributing Factors. Dissatisfaction                                      437 non-null    object \n",
      " 11  Contributing Factors. Job Dissatisfaction                                  437 non-null    object \n",
      " 12  Contributing Factors. Interpersonal Conflict                               437 non-null    object \n",
      " 13  Contributing Factors. Study                                                437 non-null    object \n",
      " 14  Contributing Factors. Travel                                               437 non-null    object \n",
      " 15  Contributing Factors. Other                                                437 non-null    object \n",
      " 16  Contributing Factors. NONE                                                 437 non-null    object \n",
      " 17  Gender. What is your Gender?                                               596 non-null    object \n",
      " 18  CurrentAge. Current Age                                                    596 non-null    object \n",
      " 19  Employment Type. Employment Type                                           596 non-null    object \n",
      " 20  Classification. Classification                                             596 non-null    object \n",
      " 21  LengthofServiceOverall. Overall Length of Service at Institute (in years)  596 non-null    object \n",
      " 22  LengthofServiceCurrent. Length of Service at current workplace (in years)  596 non-null    object \n",
      "dtypes: float64(2), object(21)\n",
      "memory usage: 126.3+ KB\n",
      "None\n"
     ]
    }
   ],
   "source": [
    "dete_survey_updated = dete_survey.drop(dete_survey.columns[28:49], axis=1)\n",
    "tafe_survey_updated = tafe_survey.drop(tafe_survey.columns[17:66], axis=1)\n",
    "print(dete_survey_updated.info())\n",
    "print(tafe_survey_updated.info())"
   ]
  },
  {
   "cell_type": "markdown",
   "metadata": {},
   "source": [
    "### Clean Column Names\n",
    "We have to perform following steps to clean column name in both dataframes:\n",
    "- Standardize name format through use of `str` operation\n",
    "- Identify columns with similar data but different names and make them identical\n",
    "\n",
    "We will:\n",
    "Rename the remaining columns in the dete_survey_updated dataframe as under:\n",
    "- Make all the capitalization lowercase.\n",
    "- Remove any trailing whitespace from the end of the strings.\n",
    "- Replace spaces with underscores ('_').\n",
    "Use the `DataFrame.rename()` [method](https://pandas.pydata.org/pandas-docs/stable/reference/api/pandas.DataFrame.rename.html) to update the columns below in `tafe_survey_updated`: \n",
    "- 'Record ID': 'id'\n",
    "- 'CESSATION YEAR': 'cease_date'\n",
    "- 'Reason for ceasing employment': 'separationtype'\n",
    "- 'Gender. What is your Gender?': 'gender'\n",
    "- CurrentAge. Current Age': 'age'\n",
    "- 'Employment Type. Employment Type': 'employment_status'\n",
    "- 'Classification. Classification': 'position'\n",
    "- 'LengthofServiceOverall. Overall Length of Service at Institute (in years)': 'institute_service'\n",
    "- 'LengthofServiceCurrent. Length of Service at current workplace (in years)': 'role_service'"
   ]
  },
  {
   "cell_type": "code",
   "execution_count": 8,
   "metadata": {},
   "outputs": [
    {
     "name": "stdout",
     "output_type": "stream",
     "text": [
      "Index(['id', 'separationtype', 'cease_date', 'dete_start_date',\n",
      "       'role_start_date', 'position', 'classification', 'region',\n",
      "       'business_unit', 'employment_status', 'career_move_to_public_sector',\n",
      "       'career_move_to_private_sector', 'interpersonal_conflicts',\n",
      "       'job_dissatisfaction', 'dissatisfaction_with_the_department',\n",
      "       'physical_work_environment', 'lack_of_recognition',\n",
      "       'lack_of_job_security', 'work_location', 'employment_conditions',\n",
      "       'maternity/family', 'relocation', 'study/travel', 'ill_health',\n",
      "       'traumatic_incident', 'work_life_balance', 'workload',\n",
      "       'none_of_the_above', 'gender', 'age', 'aboriginal', 'torres_strait',\n",
      "       'south_sea', 'disability', 'nesb'],\n",
      "      dtype='object')\n"
     ]
    }
   ],
   "source": [
    "dete_survey_updated.columns = dete_survey_updated.columns.str.lower().str.strip().str.replace(' ', '_')\n",
    "print(dete_survey_updated.columns)\n"
   ]
  },
  {
   "cell_type": "code",
   "execution_count": 9,
   "metadata": {
    "scrolled": true
   },
   "outputs": [
    {
     "name": "stdout",
     "output_type": "stream",
     "text": [
      "Index(['id', 'Institute', 'WorkArea', 'cease_date', 'separationtype',\n",
      "       'Contributing Factors. Career Move - Public Sector ',\n",
      "       'Contributing Factors. Career Move - Private Sector ',\n",
      "       'Contributing Factors. Career Move - Self-employment',\n",
      "       'Contributing Factors. Ill Health',\n",
      "       'Contributing Factors. Maternity/Family',\n",
      "       'Contributing Factors. Dissatisfaction',\n",
      "       'Contributing Factors. Job Dissatisfaction',\n",
      "       'Contributing Factors. Interpersonal Conflict',\n",
      "       'Contributing Factors. Study', 'Contributing Factors. Travel',\n",
      "       'Contributing Factors. Other', 'Contributing Factors. NONE', 'gender',\n",
      "       'age', 'employment_status', 'position', 'institute_service',\n",
      "       'role_service'],\n",
      "      dtype='object')\n"
     ]
    }
   ],
   "source": [
    "mapping = {'Record ID': 'id', 'CESSATION YEAR': 'cease_date', 'Reason for ceasing employment': 'separationtype', 'Gender. What is your Gender?': 'gender', 'CurrentAge. Current Age': 'age',\n",
    "       'Employment Type. Employment Type': 'employment_status',\n",
    "       'Classification. Classification': 'position',\n",
    "       'LengthofServiceOverall. Overall Length of Service at Institute (in years)': 'institute_service',\n",
    "       'LengthofServiceCurrent. Length of Service at current workplace (in years)': 'role_service'}\n",
    "tafe_survey_updated = tafe_survey_updated.rename(mapping, axis = 1)\n",
    "print(tafe_survey_updated.columns)"
   ]
  },
  {
   "cell_type": "markdown",
   "metadata": {},
   "source": [
    "### Filtering Data\n",
    "Since we are interested in discovering the reasons for early retirement, we will first focus on `separationtype` columnm, and  analyze survey respondents who resigned, so their separation type contains the string `'Resignation'. "
   ]
  },
  {
   "cell_type": "code",
   "execution_count": 10,
   "metadata": {
    "scrolled": true
   },
   "outputs": [
    {
     "data": {
      "text/plain": [
       "Age Retirement                          285\n",
       "Resignation-Other reasons               150\n",
       "Resignation-Other employer               91\n",
       "Resignation-Move overseas/interstate     70\n",
       "Voluntary Early Retirement (VER)         67\n",
       "Ill Health Retirement                    61\n",
       "Other                                    49\n",
       "Contract Expired                         34\n",
       "Termination                              15\n",
       "Name: separationtype, dtype: int64"
      ]
     },
     "execution_count": 10,
     "metadata": {},
     "output_type": "execute_result"
    }
   ],
   "source": [
    "dete_survey_updated['separationtype'].value_counts()"
   ]
  },
  {
   "cell_type": "code",
   "execution_count": 11,
   "metadata": {
    "scrolled": true
   },
   "outputs": [
    {
     "data": {
      "text/plain": [
       "Resignation                 340\n",
       "Contract Expired            127\n",
       "Retrenchment/ Redundancy    104\n",
       "Retirement                   82\n",
       "Transfer                     25\n",
       "Termination                  23\n",
       "Name: separationtype, dtype: int64"
      ]
     },
     "execution_count": 11,
     "metadata": {},
     "output_type": "execute_result"
    }
   ],
   "source": [
    "tafe_survey_updated['separationtype'].value_counts()"
   ]
  },
  {
   "cell_type": "code",
   "execution_count": 12,
   "metadata": {
    "scrolled": true
   },
   "outputs": [
    {
     "data": {
      "text/plain": [
       "Resignation                         311\n",
       "Age Retirement                      285\n",
       "Voluntary Early Retirement (VER)     67\n",
       "Ill Health Retirement                61\n",
       "Other                                49\n",
       "Contract Expired                     34\n",
       "Termination                          15\n",
       "Name: separationtype, dtype: int64"
      ]
     },
     "execution_count": 12,
     "metadata": {},
     "output_type": "execute_result"
    }
   ],
   "source": [
    "# update \"Resignation+strings\" separation type in dete_survey to read just \"Resignation\"\n",
    "dete_survey_updated['separationtype']=dete_survey_updated['separationtype'].str.split('-').str[0]\n",
    "dete_survey_updated['separationtype'].value_counts()"
   ]
  },
  {
   "cell_type": "code",
   "execution_count": 13,
   "metadata": {
    "scrolled": true
   },
   "outputs": [
    {
     "name": "stdout",
     "output_type": "stream",
     "text": [
      "<class 'pandas.core.frame.DataFrame'>\n",
      "Int64Index: 311 entries, 3 to 821\n",
      "Data columns (total 35 columns):\n",
      " #   Column                               Non-Null Count  Dtype  \n",
      "---  ------                               --------------  -----  \n",
      " 0   id                                   311 non-null    int64  \n",
      " 1   separationtype                       311 non-null    object \n",
      " 2   cease_date                           300 non-null    object \n",
      " 3   dete_start_date                      283 non-null    float64\n",
      " 4   role_start_date                      271 non-null    float64\n",
      " 5   position                             308 non-null    object \n",
      " 6   classification                       161 non-null    object \n",
      " 7   region                               265 non-null    object \n",
      " 8   business_unit                        32 non-null     object \n",
      " 9   employment_status                    307 non-null    object \n",
      " 10  career_move_to_public_sector         311 non-null    bool   \n",
      " 11  career_move_to_private_sector        311 non-null    bool   \n",
      " 12  interpersonal_conflicts              311 non-null    bool   \n",
      " 13  job_dissatisfaction                  311 non-null    bool   \n",
      " 14  dissatisfaction_with_the_department  311 non-null    bool   \n",
      " 15  physical_work_environment            311 non-null    bool   \n",
      " 16  lack_of_recognition                  311 non-null    bool   \n",
      " 17  lack_of_job_security                 311 non-null    bool   \n",
      " 18  work_location                        311 non-null    bool   \n",
      " 19  employment_conditions                311 non-null    bool   \n",
      " 20  maternity/family                     311 non-null    bool   \n",
      " 21  relocation                           311 non-null    bool   \n",
      " 22  study/travel                         311 non-null    bool   \n",
      " 23  ill_health                           311 non-null    bool   \n",
      " 24  traumatic_incident                   311 non-null    bool   \n",
      " 25  work_life_balance                    311 non-null    bool   \n",
      " 26  workload                             311 non-null    bool   \n",
      " 27  none_of_the_above                    311 non-null    bool   \n",
      " 28  gender                               302 non-null    object \n",
      " 29  age                                  306 non-null    object \n",
      " 30  aboriginal                           7 non-null      object \n",
      " 31  torres_strait                        0 non-null      object \n",
      " 32  south_sea                            3 non-null      object \n",
      " 33  disability                           8 non-null      object \n",
      " 34  nesb                                 9 non-null      object \n",
      "dtypes: bool(18), float64(2), int64(1), object(14)\n",
      "memory usage: 49.2+ KB\n",
      "None\n"
     ]
    }
   ],
   "source": [
    "dete_resignations=dete_survey_updated[dete_survey_updated['separationtype']=='Resignation'].copy()\n",
    "print(dete_resignations.info())"
   ]
  },
  {
   "cell_type": "code",
   "execution_count": 14,
   "metadata": {
    "scrolled": false
   },
   "outputs": [
    {
     "name": "stdout",
     "output_type": "stream",
     "text": [
      "<class 'pandas.core.frame.DataFrame'>\n",
      "Int64Index: 268 entries, 3 to 701\n",
      "Data columns (total 23 columns):\n",
      " #   Column                                               Non-Null Count  Dtype  \n",
      "---  ------                                               --------------  -----  \n",
      " 0   id                                                   268 non-null    float64\n",
      " 1   Institute                                            268 non-null    object \n",
      " 2   WorkArea                                             268 non-null    object \n",
      " 3   cease_date                                           265 non-null    float64\n",
      " 4   separationtype                                       267 non-null    object \n",
      " 5   Contributing Factors. Career Move - Public Sector    171 non-null    object \n",
      " 6   Contributing Factors. Career Move - Private Sector   171 non-null    object \n",
      " 7   Contributing Factors. Career Move - Self-employment  171 non-null    object \n",
      " 8   Contributing Factors. Ill Health                     171 non-null    object \n",
      " 9   Contributing Factors. Maternity/Family               171 non-null    object \n",
      " 10  Contributing Factors. Dissatisfaction                171 non-null    object \n",
      " 11  Contributing Factors. Job Dissatisfaction            171 non-null    object \n",
      " 12  Contributing Factors. Interpersonal Conflict         171 non-null    object \n",
      " 13  Contributing Factors. Study                          171 non-null    object \n",
      " 14  Contributing Factors. Travel                         171 non-null    object \n",
      " 15  Contributing Factors. Other                          171 non-null    object \n",
      " 16  Contributing Factors. NONE                           171 non-null    object \n",
      " 17  gender                                               221 non-null    object \n",
      " 18  age                                                  221 non-null    object \n",
      " 19  employment_status                                    221 non-null    object \n",
      " 20  position                                             221 non-null    object \n",
      " 21  institute_service                                    221 non-null    object \n",
      " 22  role_service                                         221 non-null    object \n",
      "dtypes: float64(2), object(21)\n",
      "memory usage: 50.2+ KB\n",
      "None\n"
     ]
    },
    {
     "name": "stderr",
     "output_type": "stream",
     "text": [
      "C:\\Users\\pc\\anaconda3\\lib\\site-packages\\ipykernel_launcher.py:1: UserWarning: Boolean Series key will be reindexed to match DataFrame index.\n",
      "  \"\"\"Entry point for launching an IPython kernel.\n"
     ]
    }
   ],
   "source": [
    "tafe_resignations=tafe_survey_updated[dete_survey_updated['separationtype']=='Resignation'].copy()\n",
    "print(tafe_resignations.info())"
   ]
  },
  {
   "cell_type": "markdown",
   "metadata": {},
   "source": [
    "Above we have created truncated dataframes `dete_resignations` and `tafe_resignations` suitable for our purpose and comparatively easy to manage. `dete_resignations` has only 311 entries as compared to original 822 and `tafe_resignations` has 268 entries as compared to original 702."
   ]
  },
  {
   "cell_type": "markdown",
   "metadata": {},
   "source": [
    "### Verification of Data\n",
    "Now we will check the columns containing `date` data for logical inconsistencies. We will be working with \n",
    "- clean the `cease_date column` in` dete_resignations`.\n",
    "-  check the values in the `cease_date` and `dete_start_date` columns in `dete_resignations` and the `cease_date column` in `tafe_resignations`.\n",
    "- plot the values of any numeric columns with a [histogram](https://pandas.pydata.org/pandas-docs/stable/reference/api/pandas.DataFrame.plot.hist.html)  to identify distribution."
   ]
  },
  {
   "cell_type": "code",
   "execution_count": 15,
   "metadata": {
    "scrolled": true
   },
   "outputs": [
    {
     "data": {
      "text/plain": [
       "2012       126\n",
       "2013        74\n",
       "01/2014     22\n",
       "12/2013     17\n",
       "06/2013     14\n",
       "09/2013     11\n",
       "11/2013      9\n",
       "07/2013      9\n",
       "10/2013      6\n",
       "08/2013      4\n",
       "05/2013      2\n",
       "05/2012      2\n",
       "07/2012      1\n",
       "07/2006      1\n",
       "09/2010      1\n",
       "2010         1\n",
       "Name: cease_date, dtype: int64"
      ]
     },
     "execution_count": 15,
     "metadata": {},
     "output_type": "execute_result"
    }
   ],
   "source": [
    "dete_resignations['cease_date'].value_counts()"
   ]
  },
  {
   "cell_type": "code",
   "execution_count": 16,
   "metadata": {},
   "outputs": [
    {
     "name": "stdout",
     "output_type": "stream",
     "text": [
      "2006.0      1\n",
      "2010.0      2\n",
      "2012.0    129\n",
      "2013.0    146\n",
      "2014.0     22\n",
      "Name: cease_date, dtype: int64\n"
     ]
    },
    {
     "data": {
      "text/plain": [
       "<matplotlib.axes._subplots.AxesSubplot at 0xb07f988>"
      ]
     },
     "execution_count": 16,
     "metadata": {},
     "output_type": "execute_result"
    },
    {
     "data": {
      "image/png": "[encoded data removed]",
      "text/plain": [
       "<Figure size 432x288 with 1 Axes>"
      ]
     },
     "metadata": {
      "needs_background": "light"
     },
     "output_type": "display_data"
    }
   ],
   "source": [
    "dete_resignations['cease_date']=dete_resignations['cease_date'].str.split('/').str[-1]\n",
    "dete_resignations['cease_date'].value_counts()\n",
    "dete_resignations['cease_date']=dete_resignations['cease_date'].astype('float')\n",
    "print(dete_resignations['cease_date'].value_counts().sort_index()) # check again for outlying entries\n",
    "dete_resignations['cease_date'].plot.hist()"
   ]
  },
  {
   "cell_type": "code",
   "execution_count": 17,
   "metadata": {
    "scrolled": true
   },
   "outputs": [
    {
     "name": "stdout",
     "output_type": "stream",
     "text": [
      "1963.0     1\n",
      "1971.0     1\n",
      "1972.0     1\n",
      "1973.0     1\n",
      "1974.0     2\n",
      "1975.0     1\n",
      "1976.0     2\n",
      "1977.0     1\n",
      "1980.0     5\n",
      "1982.0     1\n",
      "1983.0     2\n",
      "1984.0     1\n",
      "1985.0     3\n",
      "1986.0     3\n",
      "1987.0     1\n",
      "1988.0     4\n",
      "1989.0     4\n",
      "1990.0     5\n",
      "1991.0     4\n",
      "1992.0     6\n",
      "1993.0     5\n",
      "1994.0     6\n",
      "1995.0     4\n",
      "1996.0     6\n",
      "1997.0     5\n",
      "1998.0     6\n",
      "1999.0     8\n",
      "2000.0     9\n",
      "2001.0     3\n",
      "2002.0     6\n",
      "2003.0     6\n",
      "2004.0    14\n",
      "2005.0    15\n",
      "2006.0    13\n",
      "2007.0    21\n",
      "2008.0    22\n",
      "2009.0    13\n",
      "2010.0    17\n",
      "2011.0    24\n",
      "2012.0    21\n",
      "2013.0    10\n",
      "Name: dete_start_date, dtype: int64\n"
     ]
    },
    {
     "data": {
      "text/plain": [
       "<matplotlib.axes._subplots.AxesSubplot at 0xb1bc548>"
      ]
     },
     "execution_count": 17,
     "metadata": {},
     "output_type": "execute_result"
    },
    {
     "data": {
      "image/png": "[encoded data removed]",
      "text/plain": [
       "<Figure size 432x288 with 1 Axes>"
      ]
     },
     "metadata": {
      "needs_background": "light"
     },
     "output_type": "display_data"
    }
   ],
   "source": [
    "dete_values= dete_resignations['dete_start_date'].value_counts().sort_index()\n",
    "print(dete_values)\n",
    "dete_resignations['dete_start_date'].plot.hist()"
   ]
  },
  {
   "cell_type": "code",
   "execution_count": 18,
   "metadata": {
    "scrolled": true
   },
   "outputs": [
    {
     "data": {
      "text/plain": [
       "2009.0     2\n",
       "2010.0    37\n",
       "2011.0    92\n",
       "2012.0    93\n",
       "2013.0    41\n",
       "Name: cease_date, dtype: int64"
      ]
     },
     "execution_count": 18,
     "metadata": {},
     "output_type": "execute_result"
    }
   ],
   "source": [
    "tafe_resignations['cease_date'].value_counts().sort_index()"
   ]
  },
  {
   "cell_type": "markdown",
   "metadata": {},
   "source": [
    "There are no apparent logical inconsistencies in the date columns. It is difficult to comment on duration of service in case of tafe since dates for start of employment are not given, however these can be interpreted from `institute_service` column. Bulk of resignations for tafe came between 2010-2013, while in case of dete 2012 and 2013 saw maximum resignations (275 out of 311 considered). When compared with start dates where as t\n",
    "he bulk of start dates for those resigning was skewed towards 2000 or later (see histogram) **indicating a mean service in the range of 10-12 years for resigned employees.** We will confirm this inference in the next step.\n",
    "Next we will be focusing on duration of service for both dete and taft to analyze the trends."
   ]
  },
  {
   "cell_type": "markdown",
   "metadata": {},
   "source": [
    "### Analyzing Duration of Service for 'Resigned' Employees \n",
    "- We will first create an `institute_service` column for `dete_resignations` dataframe. \n",
    "- For tafe_resignations `institute_service` column already exists.\n",
    "- Calculate mean service for resigned employees."
   ]
  },
  {
   "cell_type": "code",
   "execution_count": 19,
   "metadata": {
    "scrolled": true
   },
   "outputs": [
    {
     "name": "stdout",
     "output_type": "stream",
     "text": [
      "mean_dete_service : 10.457875457875458\n",
      "5.0     23\n",
      "1.0     22\n",
      "3.0     20\n",
      "0.0     20\n",
      "6.0     17\n",
      "4.0     16\n",
      "9.0     14\n",
      "2.0     14\n",
      "7.0     13\n",
      "13.0     8\n",
      "8.0      8\n",
      "20.0     7\n",
      "15.0     7\n",
      "10.0     6\n",
      "22.0     6\n",
      "14.0     6\n",
      "17.0     6\n",
      "12.0     6\n",
      "16.0     5\n",
      "18.0     5\n",
      "23.0     4\n",
      "11.0     4\n",
      "24.0     4\n",
      "39.0     3\n",
      "19.0     3\n",
      "21.0     3\n",
      "32.0     3\n",
      "28.0     2\n",
      "26.0     2\n",
      "25.0     2\n",
      "30.0     2\n",
      "36.0     2\n",
      "29.0     1\n",
      "33.0     1\n",
      "42.0     1\n",
      "27.0     1\n",
      "41.0     1\n",
      "35.0     1\n",
      "38.0     1\n",
      "34.0     1\n",
      "49.0     1\n",
      "31.0     1\n",
      "Name: institute_service, dtype: int64\n"
     ]
    },
    {
     "data": {
      "text/plain": [
       "<matplotlib.axes._subplots.AxesSubplot at 0xb2bdd88>"
      ]
     },
     "execution_count": 19,
     "metadata": {},
     "output_type": "execute_result"
    },
    {
     "data": {
      "image/png": "[encoded data removed]",
      "text/plain": [
       "<Figure size 432x288 with 1 Axes>"
      ]
     },
     "metadata": {
      "needs_background": "light"
     },
     "output_type": "display_data"
    }
   ],
   "source": [
    "dete_resignations['institute_service']=dete_resignations['cease_date']-dete_resignations['dete_start_date']\n",
    "mean_dete_service=dete_resignations['institute_service'].mean()\n",
    "print('mean_dete_service',':',mean_dete_service)\n",
    "print(dete_resignations['institute_service'].value_counts())\n",
    "dete_resignations['institute_service'].plot.hist()\n"
   ]
  },
  {
   "cell_type": "markdown",
   "metadata": {},
   "source": [
    "***As it can be seen, that our prediction from visualization of dete date datas was correct(10-12 years of mean service for resigned employees).\n"
   ]
  },
  {
   "cell_type": "code",
   "execution_count": 20,
   "metadata": {},
   "outputs": [
    {
     "name": "stdout",
     "output_type": "stream",
     "text": [
      "3       NaN\n",
      "5      7-10\n",
      "8       3-4\n",
      "9       1-2\n",
      "11    11-20\n",
      "Name: institute_service, dtype: object\n",
      "Less than 1 year      49\n",
      "NaN                   47\n",
      "3-4                   41\n",
      "11-20                 33\n",
      "More than 20 years    30\n",
      "1-2                   30\n",
      "7-10                  20\n",
      "5-6                   18\n",
      "Name: institute_service, dtype: int64\n"
     ]
    }
   ],
   "source": [
    "print(tafe_resignations['institute_service'].head())\n",
    "print(tafe_resignations['institute_service'].value_counts(dropna=False)) "
   ]
  },
  {
   "cell_type": "markdown",
   "metadata": {},
   "source": [
    "\n",
    "***For tafe data above, we do not need to convert the values for analysis as it is quite clear that there are only 63 employees out of 268 who had service duration greater than 10 years. 205 employees who resigned served for less than 10 years with approx 150 having service less than 5 years.  "
   ]
  },
  {
   "cell_type": "markdown",
   "metadata": {},
   "source": [
    "### Identification of 'Resigned' Employees Dissatisfaction\n",
    "We will consider following columns for identification of employee dissatisfaction. We will use following columns in respective dataframes:\n",
    "\n",
    "`tafe_resignations`:\n",
    "  `Contributing Factors. Dissatisfaction`\n",
    "  `Contributing Factors. Job Dissatisfaction`\n",
    "`dete_resignations`:\n",
    "  `job_dissatisfaction`\n",
    "  `dissatisfaction_with_the_department`\n",
    "  `physical_work_environment`\n",
    "  `lack_of_recognition`\n",
    "  `lack_of_job_security`\n",
    "  `work_location`\n",
    "  `employment_conditions`\n",
    "  `work_life_balance`\n",
    "  `workload`\n",
    "- All above factors are equal weightage, dissatisfaction in one will mark an employee as dissatisfied.\n",
    "- We will use `DataFrame.any()` [method](https://pandas.pydata.org/pandas-docs/stable/reference/api/pandas.DataFrame.any.html) to perform above bolean operation.\n",
    "- `True`, `False` and `NAN` values will be assigned to a new column `dissatisfied` in both dataframes."
   ]
  },
  {
   "cell_type": "code",
   "execution_count": 21,
   "metadata": {
    "scrolled": false
   },
   "outputs": [
    {
     "name": "stdout",
     "output_type": "stream",
     "text": [
      "Dissatisfaction : -                                         146\n",
      "NaN                                        97\n",
      "Contributing Factors. Dissatisfaction      25\n",
      "Name: Contributing Factors. Dissatisfaction, dtype: int64\n",
      "Job Dissatisfaction : -                      141\n",
      "NaN                     97\n",
      "Job Dissatisfaction     30\n",
      "Name: Contributing Factors. Job Dissatisfaction, dtype: int64\n"
     ]
    }
   ],
   "source": [
    "tafe_cfd=tafe_resignations['Contributing Factors. Dissatisfaction'].value_counts(dropna=False)\n",
    "tafe_cfjd=tafe_resignations['Contributing Factors. Job Dissatisfaction'].value_counts(dropna=False)\n",
    "print('Dissatisfaction',':',tafe_cfd)\n",
    "print('Job Dissatisfaction',':',tafe_cfjd)"
   ]
  },
  {
   "cell_type": "code",
   "execution_count": 22,
   "metadata": {},
   "outputs": [
    {
     "data": {
      "text/plain": [
       "False    128\n",
       "True      97\n",
       "True      43\n",
       "Name: dissatisfied, dtype: int64"
      ]
     },
     "execution_count": 22,
     "metadata": {},
     "output_type": "execute_result"
    }
   ],
   "source": [
    "def update_vals(val):\n",
    "    if val == '-':\n",
    "        return False\n",
    "    elif pd.isnull(val):\n",
    "        return np.nan\n",
    "    else:\n",
    "        return True\n",
    "tafe_resignations['dissatisfied']= tafe_resignations[['Contributing Factors. Dissatisfaction','Contributing Factors. Job Dissatisfaction']].applymap(update_vals).any(axis=1,skipna=False)   \n",
    "tafe_resignations_up=tafe_resignations.copy()\n",
    "tafe_resignations_up['dissatisfied'].value_counts(dropna=False)"
   ]
  },
  {
   "cell_type": "code",
   "execution_count": 23,
   "metadata": {},
   "outputs": [
    {
     "data": {
      "text/plain": [
       "False    162\n",
       "True     149\n",
       "Name: dissatisfied, dtype: int64"
      ]
     },
     "execution_count": 23,
     "metadata": {},
     "output_type": "execute_result"
    }
   ],
   "source": [
    "dete_resignations['dissatisfied'] = dete_resignations[['job_dissatisfaction',\n",
    "       'dissatisfaction_with_the_department', 'physical_work_environment',\n",
    "       'lack_of_recognition', 'lack_of_job_security', 'work_location',\n",
    "       'employment_conditions', 'work_life_balance',\n",
    "       'workload']].any(1, skipna=False) #update_vals function not required as values already in required format\n",
    "dete_resignations_up = dete_resignations.copy()\n",
    "dete_resignations_up['dissatisfied'].value_counts(dropna=False)"
   ]
  },
  {
   "cell_type": "markdown",
   "metadata": {},
   "source": [
    "### Combining Data \n",
    "we will combine our datasets with a view to aggregate the data according to the `institute_service `column."
   ]
  },
  {
   "cell_type": "code",
   "execution_count": null,
   "metadata": {},
   "outputs": [],
   "source": [
    "dete_resignations_up['institute'] = 'DETE' # for distinction when later combined\n",
    "tafe_resignations_up['institute'] = 'TAFE'"
   ]
  },
  {
   "cell_type": "code",
   "execution_count": 24,
   "metadata": {
    "scrolled": false
   },
   "outputs": [
    {
     "name": "stdout",
     "output_type": "stream",
     "text": [
      "<class 'pandas.core.frame.DataFrame'>\n",
      "RangeIndex: 579 entries, 0 to 578\n",
      "Data columns (total 52 columns):\n",
      " #   Column                                               Non-Null Count  Dtype  \n",
      "---  ------                                               --------------  -----  \n",
      " 0   id                                                   579 non-null    float64\n",
      " 1   separationtype                                       578 non-null    object \n",
      " 2   cease_date                                           565 non-null    float64\n",
      " 3   dete_start_date                                      283 non-null    float64\n",
      " 4   role_start_date                                      271 non-null    float64\n",
      " 5   position                                             529 non-null    object \n",
      " 6   classification                                       161 non-null    object \n",
      " 7   region                                               265 non-null    object \n",
      " 8   business_unit                                        32 non-null     object \n",
      " 9   employment_status                                    528 non-null    object \n",
      " 10  career_move_to_public_sector                         311 non-null    object \n",
      " 11  career_move_to_private_sector                        311 non-null    object \n",
      " 12  interpersonal_conflicts                              311 non-null    object \n",
      " 13  job_dissatisfaction                                  311 non-null    object \n",
      " 14  dissatisfaction_with_the_department                  311 non-null    object \n",
      " 15  physical_work_environment                            311 non-null    object \n",
      " 16  lack_of_recognition                                  311 non-null    object \n",
      " 17  lack_of_job_security                                 311 non-null    object \n",
      " 18  work_location                                        311 non-null    object \n",
      " 19  employment_conditions                                311 non-null    object \n",
      " 20  maternity/family                                     311 non-null    object \n",
      " 21  relocation                                           311 non-null    object \n",
      " 22  study/travel                                         311 non-null    object \n",
      " 23  ill_health                                           311 non-null    object \n",
      " 24  traumatic_incident                                   311 non-null    object \n",
      " 25  work_life_balance                                    311 non-null    object \n",
      " 26  workload                                             311 non-null    object \n",
      " 27  none_of_the_above                                    311 non-null    object \n",
      " 28  gender                                               523 non-null    object \n",
      " 29  age                                                  527 non-null    object \n",
      " 30  aboriginal                                           7 non-null      object \n",
      " 31  torres_strait                                        0 non-null      object \n",
      " 32  south_sea                                            3 non-null      object \n",
      " 33  disability                                           8 non-null      object \n",
      " 34  nesb                                                 9 non-null      object \n",
      " 35  institute_service                                    494 non-null    object \n",
      " 36  dissatisfied                                         482 non-null    object \n",
      " 37  Institute                                            268 non-null    object \n",
      " 38  WorkArea                                             268 non-null    object \n",
      " 39  Contributing Factors. Career Move - Public Sector    171 non-null    object \n",
      " 40  Contributing Factors. Career Move - Private Sector   171 non-null    object \n",
      " 41  Contributing Factors. Career Move - Self-employment  171 non-null    object \n",
      " 42  Contributing Factors. Ill Health                     171 non-null    object \n",
      " 43  Contributing Factors. Maternity/Family               171 non-null    object \n",
      " 44  Contributing Factors. Dissatisfaction                171 non-null    object \n",
      " 45  Contributing Factors. Job Dissatisfaction            171 non-null    object \n",
      " 46  Contributing Factors. Interpersonal Conflict         171 non-null    object \n",
      " 47  Contributing Factors. Study                          171 non-null    object \n",
      " 48  Contributing Factors. Travel                         171 non-null    object \n",
      " 49  Contributing Factors. Other                          171 non-null    object \n",
      " 50  Contributing Factors. NONE                           171 non-null    object \n",
      " 51  role_service                                         221 non-null    object \n",
      "dtypes: float64(4), object(48)\n",
      "memory usage: 235.3+ KB\n"
     ]
    }
   ],
   "source": [
    "combined = pd.concat([dete_resignations_up, tafe_resignations_up],axis=0, ignore_index=True)\n",
    "combined.info()\n"
   ]
  },
  {
   "cell_type": "code",
   "execution_count": 27,
   "metadata": {},
   "outputs": [
    {
     "data": {
      "text/plain": [
       "torres_strait                                            0\n",
       "south_sea                                                3\n",
       "aboriginal                                               7\n",
       "disability                                               8\n",
       "nesb                                                     9\n",
       "business_unit                                           32\n",
       "classification                                         161\n",
       "Contributing Factors. Maternity/Family                 171\n",
       "Contributing Factors. Career Move - Public Sector      171\n",
       "Contributing Factors. Career Move - Private Sector     171\n",
       "Contributing Factors. Career Move - Self-employment    171\n",
       "Contributing Factors. Ill Health                       171\n",
       "Contributing Factors. NONE                             171\n",
       "Contributing Factors. Dissatisfaction                  171\n",
       "Contributing Factors. Job Dissatisfaction              171\n",
       "Contributing Factors. Interpersonal Conflict           171\n",
       "Contributing Factors. Study                            171\n",
       "Contributing Factors. Travel                           171\n",
       "Contributing Factors. Other                            171\n",
       "role_service                                           221\n",
       "region                                                 265\n",
       "WorkArea                                               268\n",
       "Institute                                              268\n",
       "role_start_date                                        271\n",
       "dete_start_date                                        283\n",
       "none_of_the_above                                      311\n",
       "work_life_balance                                      311\n",
       "traumatic_incident                                     311\n",
       "career_move_to_public_sector                           311\n",
       "career_move_to_private_sector                          311\n",
       "interpersonal_conflicts                                311\n",
       "job_dissatisfaction                                    311\n",
       "dissatisfaction_with_the_department                    311\n",
       "physical_work_environment                              311\n",
       "workload                                               311\n",
       "lack_of_job_security                                   311\n",
       "work_location                                          311\n",
       "lack_of_recognition                                    311\n",
       "employment_conditions                                  311\n",
       "maternity/family                                       311\n",
       "relocation                                             311\n",
       "study/travel                                           311\n",
       "ill_health                                             311\n",
       "dissatisfied                                           482\n",
       "institute_service                                      494\n",
       "gender                                                 523\n",
       "age                                                    527\n",
       "employment_status                                      528\n",
       "position                                               529\n",
       "cease_date                                             565\n",
       "separationtype                                         578\n",
       "id                                                     579\n",
       "dtype: int64"
      ]
     },
     "execution_count": 27,
     "metadata": {},
     "output_type": "execute_result"
    }
   ],
   "source": [
    "combined.notnull().sum().sort_values() # to reconfirm above results"
   ]
  },
  {
   "cell_type": "code",
   "execution_count": 28,
   "metadata": {},
   "outputs": [
    {
     "name": "stdout",
     "output_type": "stream",
     "text": [
      "<class 'pandas.core.frame.DataFrame'>\n",
      "RangeIndex: 579 entries, 0 to 578\n",
      "Data columns (total 9 columns):\n",
      " #   Column             Non-Null Count  Dtype  \n",
      "---  ------             --------------  -----  \n",
      " 0   id                 579 non-null    float64\n",
      " 1   separationtype     578 non-null    object \n",
      " 2   cease_date         565 non-null    float64\n",
      " 3   position           529 non-null    object \n",
      " 4   employment_status  528 non-null    object \n",
      " 5   gender             523 non-null    object \n",
      " 6   age                527 non-null    object \n",
      " 7   institute_service  494 non-null    object \n",
      " 8   dissatisfied       482 non-null    object \n",
      "dtypes: float64(2), object(7)\n",
      "memory usage: 40.8+ KB\n"
     ]
    }
   ],
   "source": [
    "combined_updated = combined.dropna(thresh = 480, axis =1).copy() # thresh=480 to retain both columns 'institute_service' and 'dissatisfied'\n",
    "combined_updated.info()"
   ]
  },
  {
   "cell_type": "markdown",
   "metadata": {},
   "source": [
    "Since we intend to base our analysis on 'institute_service'(494) and 'dissatisfied'(482) columns, we have set thresh=480 to retain both columns. "
   ]
  },
  {
   "cell_type": "markdown",
   "metadata": {},
   "source": [
    "### Cleaning the `institute_service` Column\n",
    "- We will categorize the column in accordance with stages of service as given [here](https://www.businesswire.com/news/home/20171108006002/en/Age-Number-Engage-Employees-Career-Stage), as under:\n",
    "- New: Less than 3 years at a company\n",
    "- Experienced: 3-6 years at a company\n",
    "- Established: 7-10 years at a company\n",
    "- Veteran: 11 or more years at a company\n",
    "First, we'll extract the years of service from each value in the institute_service column and then map each value to one of the career stage definitions above.\n",
    "\n",
    "***Note: [Regular Expression (RE)](https://docs.python.org/3/library/re.html#module-re) uses `\\d` For Unicode (str) patterns: Matches any Unicode decimal digit followed by `+` which causes the resulting RE to match 1 or more repetitions of the preceding RE i.e. `r'(\\d+)'` will match any decimal digit in a string for infinite number of repetitions.  \n"
   ]
  },
  {
   "cell_type": "code",
   "execution_count": 29,
   "metadata": {
    "scrolled": false
   },
   "outputs": [
    {
     "data": {
      "text/plain": [
       "NaN                   85\n",
       "Less than 1 year      49\n",
       "3-4                   41\n",
       "11-20                 33\n",
       "1-2                   30\n",
       "More than 20 years    30\n",
       "5.0                   23\n",
       "1.0                   22\n",
       "3.0                   20\n",
       "7-10                  20\n",
       "0.0                   20\n",
       "5-6                   18\n",
       "6.0                   17\n",
       "4.0                   16\n",
       "2.0                   14\n",
       "9.0                   14\n",
       "7.0                   13\n",
       "8.0                    8\n",
       "13.0                   8\n",
       "15.0                   7\n",
       "20.0                   7\n",
       "10.0                   6\n",
       "12.0                   6\n",
       "14.0                   6\n",
       "17.0                   6\n",
       "22.0                   6\n",
       "18.0                   5\n",
       "16.0                   5\n",
       "23.0                   4\n",
       "11.0                   4\n",
       "24.0                   4\n",
       "19.0                   3\n",
       "39.0                   3\n",
       "32.0                   3\n",
       "21.0                   3\n",
       "36.0                   2\n",
       "30.0                   2\n",
       "28.0                   2\n",
       "26.0                   2\n",
       "25.0                   2\n",
       "29.0                   1\n",
       "31.0                   1\n",
       "27.0                   1\n",
       "33.0                   1\n",
       "34.0                   1\n",
       "35.0                   1\n",
       "38.0                   1\n",
       "41.0                   1\n",
       "42.0                   1\n",
       "49.0                   1\n",
       "Name: institute_service, dtype: int64"
      ]
     },
     "execution_count": 29,
     "metadata": {},
     "output_type": "execute_result"
    }
   ],
   "source": [
    "combined_updated['institute_service'].value_counts(dropna=False)"
   ]
  },
  {
   "cell_type": "code",
   "execution_count": 31,
   "metadata": {},
   "outputs": [
    {
     "data": {
      "text/plain": [
       "0.0      20\n",
       "1.0     101\n",
       "2.0      14\n",
       "3.0      61\n",
       "4.0      16\n",
       "5.0      41\n",
       "6.0      17\n",
       "7.0      33\n",
       "8.0       8\n",
       "9.0      14\n",
       "10.0      6\n",
       "11.0     37\n",
       "12.0      6\n",
       "13.0      8\n",
       "14.0      6\n",
       "15.0      7\n",
       "16.0      5\n",
       "17.0      6\n",
       "18.0      5\n",
       "19.0      3\n",
       "20.0     37\n",
       "21.0      3\n",
       "22.0      6\n",
       "23.0      4\n",
       "24.0      4\n",
       "25.0      2\n",
       "26.0      2\n",
       "27.0      1\n",
       "28.0      2\n",
       "29.0      1\n",
       "30.0      2\n",
       "31.0      1\n",
       "32.0      3\n",
       "33.0      1\n",
       "34.0      1\n",
       "35.0      1\n",
       "36.0      2\n",
       "38.0      1\n",
       "39.0      3\n",
       "41.0      1\n",
       "42.0      1\n",
       "49.0      1\n",
       "Name: institute_service_up, dtype: int64"
      ]
     },
     "execution_count": 31,
     "metadata": {},
     "output_type": "execute_result"
    }
   ],
   "source": [
    "# RE `r'(\\d+)'` will match any decimal digit in a string for infinite number of repetitions.\n",
    "# extract() instead of extractall() will extract first match of pattern, hence '3' in '3-4' and '11' in '11-20'\n",
    "combined_updated['institute_service_up'] = combined_updated['institute_service'].astype('str').str.extract(r'(\\d+)') \n",
    "#str chars converted to float\n",
    "combined_updated['institute_service_up'] = combined_updated['institute_service_up'].astype('float')\n",
    "combined_updated['institute_service_up'].value_counts().sort_index() # confirming years extracted"
   ]
  },
  {
   "cell_type": "code",
   "execution_count": 32,
   "metadata": {},
   "outputs": [
    {
     "data": {
      "text/plain": [
       "494"
      ]
     },
     "execution_count": 32,
     "metadata": {},
     "output_type": "execute_result"
    }
   ],
   "source": [
    "combined_updated['institute_service_up'].count()"
   ]
  },
  {
   "cell_type": "code",
   "execution_count": 37,
   "metadata": {
    "scrolled": true
   },
   "outputs": [
    {
     "name": "stdout",
     "output_type": "stream",
     "text": [
      "494\n"
     ]
    },
    {
     "data": {
      "text/plain": [
       "Veteran        163\n",
       "New            135\n",
       "Experienced    135\n",
       "NaN             85\n",
       "Established     61\n",
       "Name: service_cat, dtype: int64"
      ]
     },
     "execution_count": 37,
     "metadata": {},
     "output_type": "execute_result"
    }
   ],
   "source": [
    "def car_stage(val):\n",
    "    if val >= 11: \n",
    "        return \"Veteran\"\n",
    "    elif 7 <= val < 11:\n",
    "        return \"Established\"\n",
    "    elif 3 <= val < 7:\n",
    "        return \"Experienced\"\n",
    "    elif pd.isnull(val):\n",
    "        return np.nan\n",
    "    else:\n",
    "        return \"New\"\n",
    "combined_updated['service_cat']=combined_updated['institute_service_up'].apply(car_stage) \n",
    "print(combined_updated['service_cat'].count())\n",
    "combined_updated['service_cat'].value_counts(dropna=False)\n"
   ]
  },
  {
   "cell_type": "markdown",
   "metadata": {},
   "source": [
    "### Preliminary Analysis\n",
    "- In this preliminary analysis, we will determine the percentage of `dissatisfied` employees in each `service_cat` who `resigned` from service, and plot the results. \n",
    "- Above, we have already carried out initial analysis on separate dataframes according to which:\n",
    "  - Mean service for resigned dete employees was 10.45 years (established and veterans cats).\n",
    "  - Over 50% of resigned tafe employees served for less than 5 years (experienced and new cats).\n",
    "- We can now do a combined analysis for each category separately   "
   ]
  },
  {
   "cell_type": "code",
   "execution_count": 39,
   "metadata": {
    "scrolled": true
   },
   "outputs": [
    {
     "data": {
      "text/plain": [
       "False    290\n",
       "True     192\n",
       "True      97\n",
       "Name: dissatisfied, dtype: int64"
      ]
     },
     "execution_count": 39,
     "metadata": {},
     "output_type": "execute_result"
    }
   ],
   "source": [
    "combined_updated['dissatisfied'].value_counts(dropna=False)"
   ]
  },
  {
   "cell_type": "markdown",
   "metadata": {},
   "source": [
    "#### Dropping or Filling Values\n",
    "There are 85 NAN values in `service_cat` column and 97 in `dissatisfied column`. We can either drop them or fill them with reasonable approximations. \n",
    "- We can fill `dissatisfied` column on the basis of value occuring most frequently i.e. `'False'` and `service_cat` column on the basis of mean institute_service. But corelation between the two is hard to establish at this stage.\n",
    "- Therefore,we will only fill the `dissatisfied` column with `\"False\"` and let the missing values in `service_cat` column automatically drop if they are NAN"
   ]
  },
  {
   "cell_type": "code",
   "execution_count": 40,
   "metadata": {
    "scrolled": true
   },
   "outputs": [
    {
     "data": {
      "text/plain": [
       "<matplotlib.axes._subplots.AxesSubplot at 0xb311948>"
      ]
     },
     "execution_count": 40,
     "metadata": {},
     "output_type": "execute_result"
    },
    {
     "data": {
      "image/png": "[encoded data removed]",
      "text/plain": [
       "<Figure size 432x288 with 1 Axes>"
      ]
     },
     "metadata": {
      "needs_background": "light"
     },
     "output_type": "display_data"
    }
   ],
   "source": [
    "combined_updated['dissatisfied'] = combined_updated['dissatisfied'].fillna(False)\n",
    "dis_pct = combined_updated.pivot_table(index='service_cat', values='dissatisfied',aggfunc=np.mean)\n",
    "dis_pct.plot(kind='bar', rot=15)\n",
    "\n",
    "    "
   ]
  },
  {
   "cell_type": "markdown",
   "metadata": {},
   "source": [
    "### Findings\n",
    "- Our initial findings from dete dataframe that \"Established\" and \"Veterans\" were more likely to resign early are also manifested in combined analysis.\n",
    "- Approx 50% of 'Established' and 40% of 'Veterans' were `dissatisfied`before they resigned.\n",
    "- Between 25-30% of 'Experienced' and \"New' employees were `dissatisfied` before they resigned.\n",
    "- Further analysis may confirm that senior and entrenched employees leave early due to job dissatisfaction while newer employees may leave early due to some other factor such as 'better opportunities' elsewhere. "
   ]
  }
 ],
 "metadata": {
  "kernelspec": {
   "display_name": "Python 3",
   "language": "python",
   "name": "python3"
  },
  "language_info": {
   "codemirror_mode": {
    "name": "ipython",
    "version": 3
   },
   "file_extension": ".py",
   "mimetype": "text/x-python",
   "name": "python",
   "nbconvert_exporter": "python",
   "pygments_lexer": "ipython3",
   "version": "3.7.6"
  }
 },
 "nbformat": 4,
 "nbformat_minor": 4
}
