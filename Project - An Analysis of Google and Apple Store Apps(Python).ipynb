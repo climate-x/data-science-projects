{
 "cells": [
  {
   "cell_type": "markdown",
   "metadata": {},
   "source": [
    "# An Analysis of Applications on Google and Apple Stores\n",
    "Mobile apps usage is analyzed to determine the type of applications which draw more number of users. As data analysts for a company that builds Android and iOS mobile apps, we try to identify mobile app profiles that are profitable for the Google and Apple App stores and Google Play markets. \n",
    "We are only interested in apps that are free and our main source of revenue consists of  ads. This means that our revenue for any given app is mostly influenced by the number of users that use our app. Our goal for this project is to analyze data to help our developers understand what kinds of apps are likely to attract more users.\n",
    "**Our aim in this analysis is also to make it elegant so the same analysis can be used for other datasets if needed. We do so by defining functions at each step instead of coding separately for each datasets. We also try to avoid inelegant tools such as \"counters\" inside \"For Loops\" and try to use \"Dictionaries\" for counting wherever possible.** \n",
    "\n",
    "### Downloading, Opening and Exploring Datasets\n",
    "\n",
    "1. First we download two datasets with details of [android](https://www.kaggle.com/lava18/google-play-store-apps) and [ios](https://www.kaggle.com/ramamet4/app-store-apple-data-set-10k-apps) apps. \n",
    " Both data sets are downloaded and saved [here](http://localhost:8888/tree/Projects%20and%20Data%20sets) \n",
    "\n",
    "2. We carryout preliminary data assessment by exploring the two downloaded datasets. We do this by defining a function which takes in as input the datasets as \"lists of lists/tables\" and desired range; and gives as output the data rows over the range as well as the number of rows and columns in the datasets:\n",
    "\n",
    "       \n",
    "3. Downloaded datasesets' documentations are described in detail for ease of understanding features (columns) of the data: [android](https://www.kaggle.com/lava18/google-play-store-apps) and [ios](https://www.kaggle.com/lava18/google-play-store-apps).\n",
    "\n",
    "4. Both datasets are opened in code editor using `open` command, and then read using `import` and `reader` commands. Headers, i.e. column headings are assigned to separate variables `apple_header=appsdata_apple[0]` and `google_header=appsdata_google[0]`, and both datasets without headers are also assinged to separate variables: `dataset_apple=appsdata_apple[1:]`, and `dataset_google=appsdata_google[1:]`. `explore_dataset()` and `print()` functions are then applied to print headers (column headings), first five rows of datasets, number of rows and number of columns in each dataset.                       \n",
    "                   "
   ]
  },
  {
   "cell_type": "markdown",
   "metadata": {},
   "source": [
    "## Preliminary Exploration of Datasets\n",
    "We carryout preliminary data assessment by exploring the two downloaded datasets. We do this by defining a function `explore_dataset(dataset,start,end,rows_and_columns=False)` which takes in as input the datasets as \"lists of lists/tables\" and desired range; and gives as output the data rows over the range as well as the number of rows and columns in the datasets:"
   ]
  },
  {
   "cell_type": "code",
   "execution_count": 1,
   "metadata": {},
   "outputs": [],
   "source": [
    "def explore_dataset(dataset,start,end,rows_and_columns=False):\n",
    "        dataset_slice=dataset[start:end]\n",
    "        for row in dataset_slice:\n",
    "            print(row)\n",
    "            print('\\n') #adds an empty line after each row\n",
    "        if rows_and_columns:\n",
    "            print('Number of rows',len(dataset))\n",
    "            print('Number of Columns',len(dataset[0]))"
   ]
  },
  {
   "cell_type": "markdown",
   "metadata": {},
   "source": [
    "## Opening the Datasets\n",
    "Both datasets are opened in code editor using `open` command, and then read using `import` and `reader` commands. Headers, i.e. column headings are assigned to separate variables `apple_header=appsdata_apple[0]` and `google_header=appsdata_google[0]`, and both datasets without headers are also assinged to separate variables: `dataset_apple=appsdata_apple[1:]`, and `dataset_google=appsdata_google[1:]`. `explore_dataset()` and `print()` functions are then applied to print headers (column headings), first five rows of datasets, number of rows and number of columns in each dataset.  "
   ]
  },
  {
   "cell_type": "code",
   "execution_count": 2,
   "metadata": {},
   "outputs": [
    {
     "name": "stdout",
     "output_type": "stream",
     "text": [
      "Applestore Columns: ['id', 'track_name', 'size_bytes', 'currency', 'price', 'rating_count_tot', 'rating_count_ver', 'user_rating', 'user_rating_ver', 'ver', 'cont_rating', 'prime_genre', 'sup_devices.num', 'ipadSc_urls.num', 'lang.num', 'vpp_lic'] \n",
      "\n",
      "['284882215', 'Facebook', '389879808', 'USD', '0.0', '2974676', '212', '3.5', '3.5', '95.0', '4+', 'Social Networking', '37', '1', '29', '1']\n",
      "\n",
      "\n",
      "['389801252', 'Instagram', '113954816', 'USD', '0.0', '2161558', '1289', '4.5', '4.0', '10.23', '12+', 'Photo & Video', '37', '0', '29', '1']\n",
      "\n",
      "\n",
      "['529479190', 'Clash of Clans', '116476928', 'USD', '0.0', '2130805', '579', '4.5', '4.5', '9.24.12', '9+', 'Games', '38', '5', '18', '1']\n",
      "\n",
      "\n",
      "['420009108', 'Temple Run', '65921024', 'USD', '0.0', '1724546', '3842', '4.5', '4.0', '1.6.2', '9+', 'Games', '40', '5', '1', '1']\n",
      "\n",
      "\n",
      "['284035177', 'Pandora - Music & Radio', '130242560', 'USD', '0.0', '1126879', '3594', '4.0', '4.5', '8.4.1', '12+', 'Music', '37', '4', '1', '1']\n",
      "\n",
      "\n",
      "Number of rows 7197\n",
      "Number of Columns 16\n",
      "None\n"
     ]
    }
   ],
   "source": [
    "opened_file_apple=open('AppleStore.csv',encoding=\"utf8\")\n",
    "from csv import reader\n",
    "read_file_apple=reader(opened_file_apple)\n",
    "appsdata_apple=list(read_file_apple)\n",
    "apple_header=appsdata_apple[0]\n",
    "dataset_apple=appsdata_apple[1:]\n",
    "print('Applestore Columns:',apple_header,'\\n')\n",
    "dataset_apple_5rows= explore_dataset(dataset_apple,0,5,True)\n",
    "print(dataset_apple_5rows)"
   ]
  },
  {
   "cell_type": "code",
   "execution_count": 3,
   "metadata": {
    "scrolled": true
   },
   "outputs": [
    {
     "name": "stdout",
     "output_type": "stream",
     "text": [
      "Playstore Columns: ['App', 'Category', 'Rating', 'Reviews', 'Size', 'Installs', 'Type', 'Price', 'Content Rating', 'Genres', 'Last Updated', 'Current Ver', 'Android Ver'] \n",
      "\n",
      "['Photo Editor & Candy Camera & Grid & ScrapBook', 'ART_AND_DESIGN', '4.1', '159', '19M', '10,000+', 'Free', '0', 'Everyone', 'Art & Design', 'January 7, 2018', '1.0.0', '4.0.3 and up']\n",
      "\n",
      "\n",
      "['Coloring book moana', 'ART_AND_DESIGN', '3.9', '967', '14M', '500,000+', 'Free', '0', 'Everyone', 'Art & Design;Pretend Play', 'January 15, 2018', '2.0.0', '4.0.3 and up']\n",
      "\n",
      "\n",
      "['U Launcher Lite – FREE Live Cool Themes, Hide Apps', 'ART_AND_DESIGN', '4.7', '87510', '8.7M', '5,000,000+', 'Free', '0', 'Everyone', 'Art & Design', 'August 1, 2018', '1.2.4', '4.0.3 and up']\n",
      "\n",
      "\n",
      "['Sketch - Draw & Paint', 'ART_AND_DESIGN', '4.5', '215644', '25M', '50,000,000+', 'Free', '0', 'Teen', 'Art & Design', 'June 8, 2018', 'Varies with device', '4.2 and up']\n",
      "\n",
      "\n",
      "['Pixel Draw - Number Art Coloring Book', 'ART_AND_DESIGN', '4.3', '967', '2.8M', '100,000+', 'Free', '0', 'Everyone', 'Art & Design;Creativity', 'June 20, 2018', '1.1', '4.4 and up']\n",
      "\n",
      "\n",
      "Number of rows 10841\n",
      "Number of Columns 13\n",
      "None\n"
     ]
    }
   ],
   "source": [
    "opened_file_google=open('googleplaystore.csv',encoding=\"utf8\")\n",
    "from csv import reader\n",
    "read_file_google=reader(opened_file_google)\n",
    "appsdata_google=list(read_file_google)\n",
    "google_header=appsdata_google[0]\n",
    "dataset_google=appsdata_google[1:]\n",
    "print('Playstore Columns:',google_header,'\\n')\n",
    "dataset_google_5rows= explore_dataset(dataset_google,0,5,True)\n",
    "print(dataset_google_5rows)"
   ]
  },
  {
   "cell_type": "markdown",
   "metadata": {},
   "source": [
    "## Short Length Entries\n",
    "The first step in data cleaning is to identify wrong entries i.e data which is not entered correctly. 1. A common type of \"wrong entry\" is short length i.e. a row of data in which some column was missed out. First, we crawl the discussion forums to identify any such entries for both [apple](https://www.kaggle.com/ramamet4/app-store-apple-data-set-10k-apps/discussion) and [google](https://www.kaggle.com/lava18/google-play-store-apps/discussion). We find one such entry for the [dataset_google](https://www.kaggle.com/lava18/google-play-store-apps/discussion/66015). We check it using `print` and `len` commands for row 10472 and few adjoining rows, and find it indeed to be the case. Row 10472 has 12 columns instead of 13 in the header and other entries that we checked. We delete this entry using the `delete` command and check length of dataset before and after deletion using the `len` command.\n",
    "2. After above we check both datasets completely to identify further duplicate entries. For this we write a function `short_length_entries(dataset,n,dataset_header)`, where n is the index number in the dataset where name of the application appears (0 for apple, and 1 for google). We check both data sets for short or missing entries using the above function before and after the delete operation described above, and find that line 10472 was the only short entry in both data sets.\n",
    " \n"
   ]
  },
  {
   "cell_type": "code",
   "execution_count": 4,
   "metadata": {},
   "outputs": [
    {
     "name": "stdout",
     "output_type": "stream",
     "text": [
      "['App', 'Category', 'Rating', 'Reviews', 'Size', 'Installs', 'Type', 'Price', 'Content Rating', 'Genres', 'Last Updated', 'Current Ver', 'Android Ver'] \n",
      "\n",
      "['Photo Editor & Candy Camera & Grid & ScrapBook', 'ART_AND_DESIGN', '4.1', '159', '19M', '10,000+', 'Free', '0', 'Everyone', 'Art & Design', 'January 7, 2018', '1.0.0', '4.0.3 and up'] \n",
      "\n",
      "['Life Made WI-Fi Touchscreen Photo Frame', '1.9', '19', '3.0M', '1,000+', 'Free', '0', 'Everyone', '', 'February 11, 2018', '1.0.19', '4.0 and up']\n",
      "13 13 12 13\n"
     ]
    }
   ],
   "source": [
    "print(google_header,'\\n')\n",
    "print(dataset_google[0],'\\n')\n",
    "print(dataset_google[10472])\n",
    "print(len(dataset_google[10470]),len(dataset_google[10471]),len(dataset_google[10472]),len(dataset_google[10473]))"
   ]
  },
  {
   "cell_type": "code",
   "execution_count": 5,
   "metadata": {},
   "outputs": [
    {
     "name": "stdout",
     "output_type": "stream",
     "text": [
      "(1, {'Life Made WI-Fi Touchscreen Photo Frame': 1}, [10472])\n",
      "(0, {}, [])\n"
     ]
    }
   ],
   "source": [
    "def short_length_entries(dataset,n,dataset_header):\n",
    "    short_length_entries_count={}\n",
    "    short_length_list=[]\n",
    "    short_length_index=[]\n",
    "    \n",
    "    for row in dataset:\n",
    "        name_of_app=row[n]\n",
    "        length_of_entries=len(row)-n\n",
    "        position=dataset.index(row)\n",
    "        \n",
    "        if length_of_entries<len(dataset_header)-n:\n",
    "            short_length_list.append(name_of_app)\n",
    "            short_length_index.append(position)\n",
    "    for name_of_app in short_length_list:\n",
    "        if name_of_app in short_length_entries_count:\n",
    "            short_length_entries_count[name_of_app]+=1\n",
    "        else:\n",
    "            short_length_entries_count[name_of_app]=1\n",
    "    return len(short_length_list),short_length_entries_count,short_length_index\n",
    "    \n",
    "print(short_length_entries(dataset_google,0, google_header))\n",
    "print(short_length_entries(dataset_apple,1, apple_header))"
   ]
  },
  {
   "cell_type": "code",
   "execution_count": 6,
   "metadata": {
    "scrolled": true
   },
   "outputs": [
    {
     "name": "stdout",
     "output_type": "stream",
     "text": [
      "10841\n",
      "10840\n"
     ]
    }
   ],
   "source": [
    "print (len(dataset_google))\n",
    "del dataset_google[10472]\n",
    "print(len(dataset_google))"
   ]
  },
  {
   "cell_type": "code",
   "execution_count": 7,
   "metadata": {
    "scrolled": true
   },
   "outputs": [
    {
     "name": "stdout",
     "output_type": "stream",
     "text": [
      "(0, {}, [])\n",
      "(0, {}, [])\n"
     ]
    }
   ],
   "source": [
    "  \n",
    "print(short_length_entries(dataset_google,0, google_header))\n",
    "print(short_length_entries(dataset_apple,1, apple_header))"
   ]
  },
  {
   "cell_type": "markdown",
   "metadata": {},
   "source": [
    "## Duplicate Entries\n",
    "The next step in data cleaning is identification of duplicate entries and exploration of the reasons for duplication. We define a function: `duplicate_entries_count(dataset,n)` in which n is the index number of the row in dataset where the name of the application appear. The instances of duplication are assigned to a dictionary named: `duplicate_entries_freq`. We learn that there are 2 instances of duplication in apple dataset and 1181 instances in the google dataset."
   ]
  },
  {
   "cell_type": "code",
   "execution_count": 8,
   "metadata": {},
   "outputs": [
    {
     "name": "stdout",
     "output_type": "stream",
     "text": [
      "Apple Dataset Duplicate Data \n",
      "\n",
      "length of duplicate entries: 2 length of unique entries: 7195\n",
      "2\n",
      "2\n",
      "{'Mannequin Challenge': 2, 'VR Roller Coaster': 2}\n",
      "\n",
      " Google Dataset Duplicate Data \n",
      "\n",
      "length of duplicate entries: 1181 length of unique entries: 9659\n",
      "1181\n",
      "798\n",
      "{'Quick PDF Scanner + OCR FREE': 3, 'Box': 3, 'Google My Business': 3, 'ZOOM Cloud Meetings': 2, 'join.me - Simple Meetings': 3, 'Zenefits': 2, 'Google Ads': 3, 'Slack': 3, 'FreshBooks Classic': 2, 'Insightly CRM': 2, 'QuickBooks Accounting: Invoicing & Expenses': 3, 'HipChat - Chat Built for Teams': 2, 'Xero Accounting Software': 2, 'MailChimp - Email, Marketing Automation': 2, 'Crew - Free Messaging and Scheduling': 2, 'Asana: organize team projects': 2, 'Google Analytics': 2, 'AdWords Express': 2, 'Accounting App - Zoho Books': 2, 'Invoice & Time Tracking - Zoho': 2, 'Invoice 2go — Professional Invoices and Estimates': 2, 'SignEasy | Sign and Fill PDF and other Documents': 2, 'Genius Scan - PDF Scanner': 2, 'Tiny Scanner - PDF Scanner App': 2, 'Fast Scanner : Free PDF Scan': 2, 'Mobile Doc Scanner (MDScan) Lite': 2, 'TurboScan: scan documents and receipts in PDF': 2, 'Tiny Scanner Pro: PDF Doc Scan': 2, 'Docs To Go™ Free Office Suite': 2, 'OfficeSuite : Free Office + PDF Editor': 2, 'WhatsApp Messenger': 3, 'Messenger – Text and Video Chat for Free': 3, 'imo free video calls and chat': 4, 'Viber Messenger': 5, 'Hangouts': 4, 'WeChat': 4, 'Telegram': 3, 'Who': 2, 'Google Voice': 3, 'Android Messages': 2, 'Firefox Focus: The privacy browser': 3, 'Google Allo': 3, 'Google Chrome: Fast & Secure': 3, 'Firefox Browser fast & private': 3, 'Puffin Web Browser': 3, 'Opera Browser: Fast and Secure': 3, 'Opera Mini - fast web browser': 3, 'UC Browser Mini -Tiny Fast Private & Secure': 3, 'UC Browser - Fast Download Private & Secure': 3, 'Calls & Text by Mo+': 2, 'Call Blocker': 2, 'Gmail': 3, 'Yahoo Mail – Stay Organized': 3, 'free video calls and chat': 3, 'Skype - free IM & video calls': 3, 'Glide - Video Chat Messenger': 2, 'Talkray - Free Calls & Texts': 2, 'LINE: Free Calls & Messages': 3, 'KakaoTalk: Free Calls & Text': 3, 'OkCupid Dating': 3, 'CMB Free Dating App': 2, 'Hily: Dating, Chat, Match, Meet & Hook up': 3, 'Hinge: Dating & Relationships': 2, 'BBW Dating & Plus Size Chat': 3, 'Casual Dating & Adult Singles - Joyride': 2, 'EliteSingles – Dating for Single Professionals': 2, 'Clover Dating App': 2, 'Moco - Chat, Meet People': 3, 'Hot or Not - Find someone right now': 3, 'Just She - Top Lesbian Dating': 3, 'Once - Quality Matches Every day': 2, 'Sudy – Meet Elite & Rich Single': 2, 'muzmatch: Muslim & Arab Singles, Marriage & Dating': 3, 'Chispa, the Dating App for Latino, Latina Singles': 2, 'Blendr - Chat, Flirt & Meet': 2, 'Find Real Love — YouLove Premium Dating': 2, 'Cougar Dating Life : Date Older Women Sugar Mummy': 2, 'stranger chat - anonymous chat': 2, 'Millionaire Match: Rich Singles Dating App': 2, 'Dating for 50 plus Mature Singles – FINALLY': 2, 'Moco+ - Chat, Meet People': 2, 'Chat Rooms, Avatars, Date - Galaxy': 2, 'FastMeet: Chat, Dating, Love': 2, 'Christian Dating For Free App': 2, 'Meet24 - Love, Chat, Singles': 2, 'Black White Interracial Dating - Interracial Match': 2, 'Gay Sugar Daddy Dating & Hookup – Sudy Gay': 2, 'Adult Dirty Emojis': 3, 'Hide App, Private Dating, Safe Chat - PrivacyHider': 2, 'Meet4U - Chat, Love, Singles!': 2, '95Live -SG#1 Live Streaming App': 2, 'O-Star': 3, 'Random Video Chat': 2, 'Black People Meet Singles Date': 2, 'Howlr': 2, 'Free Dating & Flirt Chat - Choice of Love': 2, 'Cardi B Live Stream Video Chat - Prank': 2, 'Chat Kids - Chat Room For Kids': 2, 'Transenger – Ts Dating and Chat for Free': 2, 'BBW Dating & Curvy Singles Chat- LargeFriends': 2, 'MouseMingle': 2, 'FlirtChat - ♥Free Dating/Flirting App♥': 2, 'Live Talk - Free Text and Video Chat': 2, 'Free Cam Girls - Live Webcam': 2, 'Random Video Chat App With Strangers': 2, 'Live Girls Talk - Free Video Chat': 2, 'Girls Live Chat - Free Text & Video Chat': 2, 'Free Dating App - Meet Local Singles - Flirt Chat': 2, 'iPair-Meet, Chat, Dating': 2, 'Free Dating Hook Up Messenger': 2, 'Free Dating App - YoCutie - Flirt, Chat & Meet': 2, 'Khan Academy': 3, 'TED': 4, 'Lumosity: #1 Brain Games & Cognitive Training App': 2, 'Udemy - Online Courses': 3, 'Duolingo: Learn Languages Free': 7, 'Quizlet: Learn Languages & Vocab with Flashcards': 4, 'Coursera: Online courses': 2, 'Udacity - Lifelong Learning': 2, 'edX - Online Courses by Harvard, MIT & more': 2, 'Lynda - Online Training Videos': 2, 'Learn languages, grammar & vocabulary with Memrise': 4, 'Brilliant': 2, 'Babbel – Learn Languages': 4, 'Rosetta Stone: Learn to Speak & Read New Languages': 4, 'Learn English with Wlingua': 2, 'Google Classroom': 3, 'Learn 50 languages': 2, 'Mango Languages: Lovable Language Courses': 2, 'busuu: Learn Languages - Spanish, English & More': 4, 'My Class Schedule: Timetable': 2, 'Socratic - Math Answers & Homework Help': 2, 'ClassDojo': 3, 'HelloTalk — Chat, Speak & Learn Foreign Languages': 2, 'Movies by Flixster, with Rotten Tomatoes': 3, 'IMDb Movies & TV': 3, 'Netflix': 5, 'Tubi TV - Free Movies & TV': 3, 'Crunchyroll - Everything Anime': 3, 'STARZ': 3, 'Crackle - Free TV & Movies': 3, 'CBS - Full Episodes & Live TV': 2, 'Nick': 6, 'Hulu: Stream TV, Movies & more': 4, 'FOX NOW - On Demand & Live TV': 3, 'The CW': 4, 'HISTORY: Watch TV Show Full Episodes & Specials': 3, 'HBO NOW: Stream TV & Movies': 4, 'A&E - Watch Full Episodes of TV Shows': 4, 'VH1': 3, 'Lifetime - Watch Full Episodes & Original Movies': 3, 'BET NOW - Watch Shows': 3, 'Food Network': 3, 'Viki: Asian TV Dramas & Movies': 3, 'Univision NOW - Live TV and On Demand': 2, 'SHOWTIME': 2, 'MTV': 2, 'Comedy Central': 2, 'FOX': 2, 'Telemundo Now': 2, 'Fandango Movies - Times + Tickets': 2, 'Google Pay': 4, 'Wells Fargo Daily Change': 2, 'Credit Karma': 3, 'Robinhood - Investing, No Fees': 2, 'Digit Save Money Automatically': 2, 'Acorns - Invest Spare Change': 2, 'Money Lover: Expense Tracker, Budget Planner': 2, 'Mint: Budget, Bills, Finance': 3, 'Simple - Better Banking': 2, 'PayPal': 2, 'Wells Fargo Mobile': 2, 'Capital One® Mobile': 2, 'Grubhub: Food Delivery': 2, 'Postmates Food Delivery: Order Eats & Alcohol': 2, \"Domino's Pizza USA\": 2, 'Chick-fil-A': 3, 'Zomato - Restaurant Finder and Food Delivery App': 2, 'Run with Map My Run': 3, 'Weight Loss Running by Verv': 3, 'Nike+ Run Club': 4, 'Runtastic Running App & Mile Tracker': 3, '8fit Workouts & Meal Planner': 2, 'Daily Yoga - Yoga Fitness Plans': 3, 'Pocket Yoga': 2, 'Calorie Counter - MyFitnessPal': 5, 'Seven - 7 Minute Workout Training Challenge': 2, 'Weight Watchers Mobile': 3, 'Walk with Map My Walk': 2, 'Workout Trainer: fitness coach': 2, 'Nike Training Club - Workouts & Fitness Plans': 3, 'Fitbit Coach': 2, 'Endomondo - Running & Walking': 2, 'Runkeeper - GPS Track Run Walk': 2, 'Lose It! - Calorie Counter': 3, 'Calorie Counter - MyNetDiary': 2, '10 Best Foods for You': 2, 'MyPlate Calorie Tracker': 2, 'Weight Loss Tracker - RecStyle': 2, 'Calorie Counter by FatSecret': 2, 'Calorie Counter - Macros': 2, 'My Diet Diary Calorie Counter': 2, 'Lark - 24/7 Health Coach': 2, 'Calorie Counter & Diet Tracker': 2, 'MealLogger-Photo Food Journal': 2, 'Health and Nutrition Guide': 2, 'Food Calorie Calculator': 2, 'Relax Meditation: Sleep with Sleep Sounds': 2, 'Meditation Music - Relax, Yoga': 2, '21-Day Meditation Experience': 2, 'Fabulous: Motivate Me! Meditate, Relax, Sleep': 2, 'Calm - Meditate, Sleep, Relax': 2, 'Relax Melodies: Sleep Sounds': 2, 'Simple Habit Meditation': 2, 'Headspace: Meditation & Mindfulness': 2, 'Houzz Interior Design Ideas': 4, 'Mortgage by Zillow: Calculator & Rates': 2, 'Redfin Real Estate': 2, 'Apartment List: Housing, Apt, and Property Rentals': 2, 'Realtor.com Real Estate: Homes for Sale and Rent': 2, 'Trulia Real Estate & Rentals': 2, 'Zillow: Find Houses for Sale & Apartments for Rent': 2, 'Apartments & Rentals - Zillow': 2, 'Trulia Rent Apartments & Homes': 2, 'Apartments.com Rental Search': 2, 'Vaniday - Beauty Booking App': 2, 'StyleSeat': 2, 'JOANN - Crafts & Coupons': 2, 'Fashion in Vogue': 3, 'Wheretoget: Shop in style': 2, 'My Dressing - Fashion closet': 2, 'Chictopia': 2, 'Scarf Fashion Designer': 2, 'Zara': 2, 'Subway Surfers': 6, 'ROBLOX': 9, 'Pou': 4, '8 Ball Pool': 7, 'Clash of Clans': 4, 'Candy Crush Saga': 7, 'Plants vs. Zombies FREE': 5, 'My Talking Angela': 4, 'Bubble Shooter': 6, 'Word Search': 4, 'Candy Crush Soda Saga': 3, 'Fishdom': 3, 'Block Puzzle': 4, 'Clash Royale': 4, 'Sniper 3D Gun Shooter: Free Shooting Games - FPS': 6, 'Granny': 5, 'Galaxy Attack: Alien Shooter': 3, 'Angry Birds Rio': 4, 'Zombie Catchers': 6, 'Zombie Hunter King': 4, 'Temple Run 2': 6, 'Zombie Tsunami': 5, 'Farm Heroes Saga': 5, 'Super Jim Jump - pixel 3d': 3, 'slither.io': 6, 'Angry Birds Classic': 5, 'Flow Free': 5, 'Helix Jump': 6, 'Toon Blast': 3, 'Kick the Buddy': 4, 'Magic Tiles 3': 4, 'Bowmasters': 6, 'Wordscapes': 4, 'Block Craft 3D: Building Simulator Games For Free': 3, 'PUBG MOBILE': 4, 'DRAGON BALL LEGENDS': 4, 'Harry Potter: Hogwarts Mystery': 2, 'MARVEL Strike Force': 3, 'Merge Dragons!': 2, 'Honkai Impact 3rd': 2, 'Toy Blast': 2, 'Homescapes': 2, 'Cooking Fever': 2, 'Gardenscapes': 2, 'Score! Hero': 3, 'Dream League Soccer 2018': 3, 'Fruits Bomb': 2, 'Talking Tom Gold Run': 4, 'My Talking Tom': 3, 'Hill Climb Racing': 4, 'Pixel Art: Color by Number Game': 3, 'Rider': 2, 'Garena Free Fire': 4, 'Miraculous Ladybug & Cat Noir - The Official Game': 3, 'Solitaire': 3, 'Traffic Racer': 2, 'Earn to Die 2': 2, 'Bubble Shooter 2': 2, 'Candy Crush Jelly Saga': 2, 'Cut the Rope FULL FREE': 3, 'Jewels Star: OZ adventure': 2, 'Hungry Shark Evolution': 3, 'Best Fiends - Free Puzzle Game': 2, 'Hill Climb Racing 2': 2, 'Swamp Attack': 2, 'Block Puzzle Classic Legend !': 2, 'DEAD TARGET: FPS Zombie Apocalypse Survival Games': 2, 'YouTube Kids': 4, 'Candy Bomb': 2, 'Princess Coloring Book': 2, 'Hello Kitty Nail Salon': 2, 'Dog Run - Pet Dog Simulator': 3, 'Coloring book moana': 2, 'Barbie™ Fashion Closet': 2, 'Minion Rush: Despicable Me Official Game': 4, 'No.Draw - Colors by Number 2018': 2, 'Super ABC! Learning games for kids! Preschool apps': 2, 'PJ Masks: Moonlight Heroes': 3, 'Hot Wheels: Race Off': 2, 'Farming Simulator 14': 2, 'Mcqueen Coloring pages': 2, 'Monster Truck Driver & Racing': 2, 'Strawberry Shortcake BerryRush': 3, 'DC Super Hero Girls™': 4, 'Toca Kitchen 2': 3, 'Disney Magic Kingdoms: Build Your Own Magical Park': 2, 'Toca Life: City': 2, 'Papumba Academy - Fun Learning For Kids': 3, 'Kids Balloon Pop Game Free 🎈': 2, 'Sounds for Toddlers FREE': 2, 'Elmo Calls by Sesame Street': 3, 'Sago Mini Friends': 3, 'Tee and Mo Bath Time Free': 2, 'Bita and the Animals - Pelos Ares': 2, 'TO-FU Oh!SUSHI': 2, 'DreamWorks Friends': 2, 'Avokiddo Emotions': 2, 'Nighty Night Circus': 2, 'Sago Mini Babies': 2, \"Dr. Panda & Toto's Treehouse\": 3, 'PlayKids - Educational cartoons and games for kids': 2, 'Baby Panda Care': 2, 'Monster High™': 2, 'Shopkins World!': 2, 'DisneyNOW – TV Shows & Games': 3, 'Equestria Girls': 3, 'Frozen Free Fall': 3, 'Thomas & Friends: Race On!': 2, 'Inside Out Thought Bubbles': 2, 'School of Dragons': 2, 'Peak – Brain Games & Training': 2, 'Period Tracker': 2, 'Vargo Anesthesia Mega App': 2, 'Monash Uni Low FODMAP Diet': 2, 'mySugr: the blood sugar tracker made just for you': 3, 'Human Anatomy Atlas 2018: Complete 3D Human Body': 3, 'ASCCP Mobile': 2, 'Paramedic Protocol Provider': 2, '2017 EMRA Antibiotic Guide': 2, 'Essential Anatomy 3': 2, 'EMT PASS': 2, 'Block Buddy': 2, 'EMT Review Plus': 2, 'Journal Club: Medicine': 2, 'Pedi STAT': 2, 'AnatomyMapp': 2, 'Diabetes & Diet Tracker': 2, 'A Manual of Acupuncture': 2, 'PTA Content Master': 2, 'Muscle Premium - Human Anatomy, Kinesiology, Bones': 2, 'Cardiac diagnosis (heart rate, arrhythmia)': 3, 'Medical ID - In Case of Emergency (ICE)': 2, 'IBM Micromedex Drug Info': 2, 'Advanced Comprehension Therapy': 2, 'Hospitalist Handbook': 2, 'Teladoc Member': 2, 'Ada - Your Health Guide': 2, 'Ovia Fertility Tracker & Ovulation Calculator': 2, 'Youper - AI Therapy': 3, 'MoodSpace': 2, 'Super Hearing Super Ear Amplifier': 2, 'Penn State Health OnDemand': 2, 'ScriptSave WellRx Rx Discounts': 2, 'Free Blood Pressure': 3, 'All Mental disorders': 2, 'Nurse Grid': 2, 'JH Blood Pressure Monitor': 2, 'Blood Pressure': 3, 'RT 516 VET': 2, 'Anthem Anywhere': 2, 'Sway Medical': 2, \"fred's Pharmacy\": 2, 'Breastfeeding Tracker Baby Log': 2, 'Banfield Pet Health Tracker': 2, '1800 Contacts - Lens Store': 2, 'TextNow - free text + calls': 2, 'Tumblr': 3, 'Snapchat': 4, 'Instagram': 4, 'Periscope - Live Video': 3, 'Pinterest': 3, 'MeetMe: Chat & Meet New People': 5, 'ooVoo Video Calls, Messaging & Stories': 2, 'LinkedIn': 2, 'Tango - Live Video Broadcast': 2, 'SayHi Chat, Meet New People': 3, 'Tapatalk - 100,000+ Forums': 2, 'Badoo - Free Chat & Dating App': 4, 'Nextdoor - Local neighborhood news & classifieds': 2, 'Meetup': 4, 'Text Free: WiFi Calling App': 3, 'textPlus: Free Text & Calls': 2, 'POF Free Dating App': 3, 'Tagged - Meet, Chat & Dating': 2, 'LOVOO': 2, 'SKOUT - Meet, Chat, Go Live': 2, 'Jaumo Dating, Flirt & Live Video': 2, 'Couple - Relationship App': 2, 'Wish - Shopping Made Fun': 5, 'SnipSnap Coupon App': 2, 'Extreme Coupon Finder': 3, 'Checkout 51: Grocery coupons': 3, 'The Coupons App': 4, 'RetailMeNot - Coupons, Deals & Discount Shopping': 3, 'Groupon - Shop Deals, Discounts & Coupons': 4, 'Stocard - Rewards Cards Wallet': 2, 'eBay: Buy & Sell this Summer - Discover Deals Now!': 5, 'Gyft - Mobile Gift Card Wallet': 3, 'Shopkick: Free Gift Cards, Shop Rewards & Deals': 2, 'Shopular: Coupons, Weekly Ads & Shopping Deals': 2, 'Carousell: Snap-Sell, Chat-Buy': 2, 'Walmart': 2, 'Ibotta: Cash Back Savings, Rewards & Coupons App': 2, 'AliExpress - Smarter Shopping, Better Living': 4, 'LivingSocial - Local Deals': 3, 'Amazon Shopping': 3, 'Poshmark - Buy & Sell Fashion': 2, 'Target - now with Cartwheel': 3, 'ZALORA Fashion Shopping': 2, 'Fancy': 3, \"Modcloth – Unique Indie Women's Fashion & Style\": 2, \"JackThreads: Men's Shopping\": 3, 'Zappos – Shoe shopping made simple': 2, 'Wanelo Shopping': 2, 'Etsy: Handmade & Vintage Goods': 2, 'Slickdeals: Coupons & Shopping': 3, 'ASOS': 2, 'Google Photos': 4, 'Shutterfly: Free Prints, Photo Books, Cards, Gifts': 4, 'InstaBeauty -Makeup Selfie Cam': 2, 'B612 - Beauty & Filter Camera': 3, 'BeautyPlus - Easy Photo Editor & Selfie Camera': 5, 'YouCam Perfect - Selfie Photo Editor': 3, 'Muzy - Share photos & collages': 2, 'QuickPic - Photo Gallery with Google Drive Support': 3, 'Flickr': 2, 'Open Camera': 3, 'Camera for Android': 3, 'Cymera Camera- Photo Editor, Filter,Collage,Layout': 4, 'Candy Camera - selfie, beauty camera, photo editor': 3, 'Camera360: Selfie Photo Editor with Funny Sticker': 3, 'Facetune - For Free': 3, 'Photo Editor Selfie Camera Filter & Mirror Image': 2, 'HD Camera for Android': 2, 'Photo Editor Pro': 2, 'YouCam Makeup - Magic Selfie Makeovers': 2, 'Photo Editor-': 2, 'Photo Editor': 2, 'Adobe Photoshop Express:Photo Editor Collage Maker': 2, 'InstaSize Photo Filters & Collage Editor': 2, 'CBS Sports App - Scores, News, Stats & Watch Live': 8, 'Yahoo Fantasy Sports - #1 Rated Fantasy App': 5, 'ESPN': 7, 'NFL': 3, 'Bleacher Report: sports news, scores, & highlights': 6, 'ESPN Fantasy Sports': 4, 'theScore: Live Sports Scores, News, Stats & Videos': 5, 'MLB At Bat': 5, 'WatchESPN': 4, 'Hole19: Golf GPS App, Rangefinder & Scorecard': 2, 'CBS Sports Fantasy': 2, 'Yahoo Sports - scores, stats, news, & highlights': 3, 'FotMob - Live Soccer Scores': 2, 'US Open Tennis Championships 2018': 2, 'FIFA - Tournaments, Soccer News & Live Scores': 2, 'Golfshot: Golf GPS + Tee Times': 2, 'BBC Sport': 2, 'MLB Ballpark': 2, 'FOX Sports: Live Streaming, Scores & News': 2, 'Fantasy Football': 2, 'PGA TOUR': 2, 'UFC': 2, 'trivago: Hotels & Travel': 3, 'Expedia Hotels, Flights & Car Rental Travel Deals': 4, 'TripAdvisor Hotels Flights Restaurants Attractions': 5, 'Skyscanner': 5, 'Booking.com Travel Deals': 3, 'Priceline Hotel Deals, Rental Cars & Flights': 3, 'United Airlines': 2, 'Southwest Airlines': 2, 'Hopper - Watch & Book Flights': 2, 'Fly Delta': 2, 'KAYAK Flights, Hotels & Cars': 3, 'American Airlines': 3, 'Orbitz - Hotels, Flights & Package Deals': 2, 'Hotels.com: Book Hotel Rooms & Find Vacation Deals': 2, 'Hostelworld: Hostels & Cheap Hotels Travel App': 2, 'Airbnb': 2, 'HotelTonight: Book amazing deals at great hotels': 3, 'Maps - Navigate & Explore': 3, 'Google Street View': 2, 'Calculator': 2, 'Gboard - the Google Keyboard': 3, 'ZEDGE™ Ringtones & Wallpapers': 4, 'Nova Launcher': 2, 'Apex Launcher': 3, 'Smart Launcher 5': 2, 'Google Keep': 4, 'Evernote – Organizer, Planner for Notes & Memos': 4, 'ES File Explorer File Manager': 3, 'Microsoft Word': 3, 'Google Drive': 4, 'Adobe Acrobat Reader': 3, 'Google PDF Viewer': 3, 'Microsoft Excel': 2, 'Google Docs': 3, 'Microsoft PowerPoint': 2, 'Microsoft OneNote': 3, 'Google Calendar': 3, 'Wunderlist: To-Do List & Tasks': 3, 'Any.do: To-do list, Calendar, Reminders & Planner': 3, 'Todoist: To-do lists for task management & errands': 3, 'Planner Pro-Personal Organizer': 2, 'Microsoft OneDrive': 2, 'Dropbox': 3, 'MX Player': 3, 'Video Editor': 3, 'Google News': 4, 'Flipboard: News For Our Time': 3, 'BBC News': 3, 'Fox News – Breaking News, Live Video & News Alerts': 3, 'USA TODAY': 3, 'CNN Breaking US & World News': 3, 'Twitter': 3, 'NPR News': 2, 'Haystack TV: Local & World News - Free': 2, 'ABC News - US & World News': 2, 'NBC News': 2, 'The Wall Street Journal: Business & Market News': 2, 'NYTimes - Latest News': 3, 'Newsroom: News Worth Sharing': 2, 'BuzzFeed: News, Tasty, Quizzes': 2, 'Flashlight': 2, 'Agar.io': 2, 'LEGO® Juniors Create & Cruise': 2, 'Google Translate': 2, 'Pokémon GO': 2, 'PAC-MAN': 2, 'Colorfy: Coloring Book for Adults - Free': 2, 'YouTube': 2, \"Alto's Adventure\": 2, 'Facebook': 2, 'VPN Free - Betternet Hotspot VPN & Private Browser': 2, 'EMT Tutor NREMT-B Study Guide': 2, 'EMT-B Pocket Prep': 2, 'Diary with lock': 2, 'C Programming': 2, 'CppDroid - C/C++ IDE': 2, 'Learn C++': 2, 'Google Duo - High Quality Video Calls': 2, 'Crossy Road': 2, 'E*TRADE Mobile': 2, 'WWE': 2, 'Amazon Kindle': 2, 'Microsoft Edge': 2, 'Microsoft Outlook': 2, 'Ebook Reader': 2, 'Flipkart Online Shopping App': 2, 'Facebook Lite': 2, 'Messenger Lite: Free Calls & Messages': 2, 'imo beta free calls and text': 2, 'Geometry Dash World': 2, 'Google+': 2, 'Google': 2, 'G Cloud Backup': 2, 'H&M': 2, 'H TV': 2, 'Talking Ben the Dog': 2, 'Sonic Dash': 2, 'Talkatone: Free Texts, Calls & Phone Number': 2, 'Textgram - write on photos': 2, 'Jetpack Joyride': 2, 'Anger of stick 5 : zombie': 2, 'Turbo FAST': 2, 'K PLUS': 2, 'PowerDirector Video Editor App: 4K, Slow Mo & More': 2, 'Fuzzy Numbers: Pre-K Number Foundation': 2, 'LiveMe - Video chat, new friends, and make money': 2, 'letgo: Buy & Sell Used Stuff, Cars & Real Estate': 2, 'Love Balls': 2, 'Last Day on Earth: Survival': 2, 'Minecraft': 2, 'MEGA': 2, 'I’m Expecting - Pregnancy App': 2, 'Diabetes:M': 2, 'PicsArt Photo Studio: Collage Maker & Pic Editor': 2, 'Quora': 2, 'SHAREit - Transfer & Share': 2, 'Topbuzz: Breaking News, Videos & Funny GIFs': 2, 'Twitch: Livestream Multiplayer Games & Esports': 2, 'myAT&T': 2, 'Truecaller: Caller ID, SMS spam blocking & Dialer': 2, 'Showtime Anytime': 2, 'Uber': 2, 'VLC for Android': 2, 'Vigo Video': 2, 'Wattpad 📖 Free Books': 2, 'Waze - GPS, Maps, Traffic Alerts & Live Navigation': 2, 'Dating App, Flirt & Chat : W-Match': 2, 'WPS Office - Word, Docs, PDF, Note, Slide & Sheet': 2, 'LINE WEBTOON - Free Comics': 2, 'WhatsApp Business': 2, 'We Heart It': 2, 'Telegram X': 2, 'Share Music & Transfer Files - Xender': 2, 'Yandex Browser with Protect': 2, 'YouTube Studio': 2, 'PBS KIDS Video': 2, 'YouTube Gaming': 2, 'GO Keyboard - Emoticon keyboard, Free Theme, GIF': 2, 'Zello PTT Walkie Talkie': 2, 'Z Camera - Photo Editor, Beauty Selfie, Collage': 2, 'Six Pack in 30 Days - Abs Workout': 2, 'Angry Birds 2': 2, 'AC - Tips & News for Android™': 2, 'CM Browser - Ad Blocker , Fast Download , Privacy': 2, 'Mobi Calculator free & AD free!': 2, 'Flipp - Weekly Shopping': 2, 'Camera FV-5 Lite': 2, 'All Football - Latest News & Videos': 2, 'Maricopa AH': 2, 'Animal Jam - Play Wild!': 2, 'RULES OF SURVIVAL': 2, 'Amazon for Tablets': 2, 'Final Fantasy XV: A New Empire': 2, 'The Sims™ FreePlay': 2, 'Text free - Free Text + Call': 2, '365Scores - Live Scores': 2, 'DINO HUNTER: DEADLY SHORES': 2, 'AP Mobile - Breaking News': 2, 'Reuters News': 2, 'AccuWeather: Daily Forecast & Live Weather Reports': 2, 'Moovit: Bus Time & Train Time Live Info': 2, 'Jurassic World™ Alive': 2, 'Overstock – Home Decor, Furniture Shopping': 2, 'Choices: Stories You Play': 2, 'Runtastic Sleep Better: Sleep Cycle & Smart Alarm': 2, 'Ringtone Maker': 2, 'Plants vs. Zombies™ Heroes': 2, 'CM FILE MANAGER HD': 2, 'realestate.com.au - Buy, Rent & Sell Property': 2, 'Video Player All Format': 2, 'DEER HUNTER 2018': 2, 'Google Play Games': 2, 'ai.type Free Emoji Keyboard': 2, 'Manga AZ - Manga Comic Reader': 2, 'British Airways': 2, 'Anthem BC Anywhere': 2, 'Transit: Real-Time Transit App': 2, 'PMHNP-BC Pocket Prep': 2, 'Backgrounds HD (Wallpapers)': 2, 'Blur Image Background': 2, 'Newegg Mobile': 2, 'English Dictionary - Offline': 2, 'English Grammar Test': 2, 'Daily Manga - Comic & Webtoon': 2, 'BBM - Free Calls & Messages': 2, 'BeyondMenu Food Delivery': 2, 'NOOK: Read eBooks & Magazines': 2, 'NOOK App for NOOK Devices': 2, 'HBO GO: Stream with TV Package': 2, 'No Crop & Square for Instagram': 2, 'Hungry Shark World': 2, 'iBP Blood Pressure': 2, 'Blood Pressure Log - MyDiary': 2, 'Blood Pressure(BP) Diary': 2, 'BP Journal - Blood Pressure Diary': 2, 'Blood Pressure Monitor': 2, 'Blood Pressure Companion': 2, 'High Blood Pressure Symptoms': 2, 'QR Scanner & Barcode Scanner 2018': 2, 'Camera FV-5': 2, 'Camera MX - Free Photo & Video Camera': 2, 'Cardboard': 2, 'Maps & GPS Navigation — OsmAnd': 2, 'Beautiful Widgets Pro': 2, 'Beautiful Widgets Free': 2, 'HD Widgets': 2, 'Color by Number – New Coloring Book': 2, 'Photo Editor by Aviary': 2, 'UNICORN - Color By Number & Pixel Art Coloring': 2, '420 BZ Budeze Delivery': 2, 'BZWBK24 mobile': 2, 'Zoosk Dating App: Meet Singles': 2, 'Cricbuzz - Live Cricket Scores & News': 2, 'Cheapflights – Flight Search': 2, 'Chrome Beta': 2, 'Chrome Dev': 2, 'CJmall': 2, 'Castle Clash: Heroes of the Empire US': 2, 'CM Launcher 3D - Theme, Wallpapers, Efficient': 2, 'CM Locker - Security Lockscreen': 2, 'CM Flashlight (Compass, SOS)': 2, 'Ruler': 2, 'Cartoon Network App': 2, 'LEGO® TV': 2, 'Brit + Co': 2, 'CT Scan Cross Sectional Anatomy': 2, 'Shadow Fight 2': 2, 'Curriculum vitae App CV Builder Free Resume Maker': 2, 'CW Seed': 2, 'Camera360 Lite - Selfie Camera': 2, 'Mapy.cz - Cycling & Hiking offline maps': 2, 'Face Filter, Selfie Editor - Sweet Camera': 2, 'Metal Soldiers 2': 2, \"COOKING MAMA Let's Cook!\": 2, 'Run Sausage Run!': 2, 'Knife Hit': 2, 'DC Comics': 2, 'MARVEL Contest of Champions': 2, 'wetter.com - Weather and Radar': 2, 'CallApp: Caller ID, Blocker & Phone Call Recorder': 2, 'LINE Camera - Photo editor': 2, 'Racing in Car 2': 2, 'Dungeon Hunter Champions: Epic Online Action RPG': 2, 'Red Bull TV: Live Sports, Music & Entertainment': 2, 'Idle Heroes': 2, 'Free phone calls, free texting SMS on free number': 2, 'Phone Tracker : Family Locator': 2, 'My Photo Keyboard': 2, 'Whoscall - Caller ID & Block': 2, 'Google Sheets': 2, 'Video Downloader': 2, 'Notepad & To do list': 2, 'Polaris Office - Word, Docs, Sheets, Slide, PDF': 2, 'Do It Later: Tasks & To-Dos': 2, 'To-Do Calendar Planner': 2, 'TickTick: To Do List with Reminder, Day Planner': 2, 'ColorNote Notepad Notes': 2, 'Dude Perfect 2': 2, 'Dairy Queen': 2, 'SONIC Drive-In': 2, \"McDonald's\": 2, 'Wendy’s – Food and Offers': 2, \"Dunkin' Donuts\": 2, 'SUBWAY®': 2, 'Panera Bread': 2, 'Starbucks': 2, 'Cache Cleaner-DU Speed Booster (booster & cleaner)': 2, 'DU Browser—Browse fast & fun': 2, 'Real Racing 3': 2, 'My Little Pony Celebration': 2, 'My Little Pony: Harmony Quest': 2, 'The Emirates App': 2, 'Phogy, 3D Camera': 2, 'Weather by eltiempo.es': 2, 'The Game of Life': 2, 'Spanish English Translator': 2, \"Game for KIDS: KIDS match'em\": 2, 'Dictionary - Merriam-Webster': 2, 'Edmodo': 2, 'Chess Free': 2, 'Oxford Dictionary of English : Free': 2, 'Masha and the Bear Child Games': 2, 'Episode - Choose Your Story': 2, 'The NBC App - Watch Live TV and Full Episodes': 2, 'Moto File Manager': 2, 'Moneycontrol – Stocks, Sensex, Mutual Funds, IPO': 2, 'CNBC: Breaking Business News & Live Market Data': 2, 'Google Earth': 2, 'Amino: Communities and Chats': 2, 'Hangouts Dialer - Call Phones': 2, 'Offline Maps & Navigation': 2, 'Strawberry Shortcake Ice Cream Island': 2, 'Home Workout - No Equipment': 2, 'Home Security Camera WardenCam - reuse old phones': 2, 'Web Browser for Android': 2, 'Airway Ex - Intubate. Anesthetize. Train.': 2, 'FilterGrid - Cam&Photo Editor': 2, 'Messages, Text and Video Chat for Messenger': 2, 'All Social Networks': 2, 'Premier League - Official App': 2, 'Fallout Shelter': 2, 'Facebook Pages Manager': 2, 'Facebook Ads Manager': 2, 'Who Viewed My Facebook Profile - Stalkers Visitors': 2, 'The 5th Stand': 2, 'osmino Wi-Fi: free WiFi': 2, 'Fun Kid Racing - Motocross': 2, 'Podcast App: Free & Offline Podcasts by Player FM': 2, 'Motorola FM Radio': 2, 'FarmersOnly Dating': 2, 'FP Notebook': 2, 'AAFP': 2}\n"
     ]
    }
   ],
   "source": [
    "def duplicate_entries_count(dataset,n):\n",
    "    duplicate_entries=[]\n",
    "    unique_entries=[]\n",
    "    duplicate_entries_freq={}\n",
    "    duplicate_entries_index=[]\n",
    "    for row in dataset:\n",
    "        name=row[n]\n",
    "        index=dataset.index(row)\n",
    "        if name in unique_entries:\n",
    "            duplicate_entries.append(name)\n",
    "            \n",
    "            duplicate_entries_index.append(index)\n",
    "        else:\n",
    "            unique_entries.append(name)\n",
    "        \n",
    "    for name in duplicate_entries:    \n",
    "        if name in duplicate_entries_freq:\n",
    "            duplicate_entries_freq[name]+=1\n",
    "        else:\n",
    "            duplicate_entries_freq[name]=2\n",
    "    print('length of duplicate entries:',len(duplicate_entries),'length of unique entries:', len(unique_entries))\n",
    "    print(len(duplicate_entries_index))\n",
    "    print(len(duplicate_entries_freq))\n",
    "    print(duplicate_entries_freq)        \n",
    "print('Apple Dataset Duplicate Data','\\n')\n",
    "duplicate_entries_count(dataset_apple,1)\n",
    "\n",
    "\n",
    "print('\\n','Google Dataset Duplicate Data','\\n')\n",
    "duplicate_entries_count(dataset_google,0)\n",
    "\n"
   ]
  },
  {
   "cell_type": "markdown",
   "metadata": {},
   "source": [
    "After printing a few rows of duplication instances, we learn that while some entries are duplicated due to difference in \"number of reviews\" in google dataset (index=3) thus denoting a \"later entry\" for instance 'Instagram', others are duplicated due to oversight despite being similar in content, for instance 'ZOOM Cloud Meetings'. In apple dataset, we see that duplication is due to a number of differences in column entries, but the most important difference is in size_bytes of duplicate entries. We have to develop criteria for removing both kind of duplications.    \n"
   ]
  },
  {
   "cell_type": "markdown",
   "metadata": {},
   "source": [
    "Example entry: \"Instagram\" in which instances of duplication are differentiated by \"number of reviews\" (index=3)"
   ]
  },
  {
   "cell_type": "code",
   "execution_count": 9,
   "metadata": {},
   "outputs": [
    {
     "name": "stdout",
     "output_type": "stream",
     "text": [
      "\n",
      " ['App', 'Category', 'Rating', 'Reviews', 'Size', 'Installs', 'Type', 'Price', 'Content Rating', 'Genres', 'Last Updated', 'Current Ver', 'Android Ver'] \n",
      "\n",
      "2545\n",
      "['Instagram', 'SOCIAL', '4.5', '66577313', 'Varies with device', '1,000,000,000+', 'Free', '0', 'Teen', 'Social', 'July 31, 2018', 'Varies with device', 'Varies with device']\n",
      "2604\n",
      "['Instagram', 'SOCIAL', '4.5', '66577446', 'Varies with device', '1,000,000,000+', 'Free', '0', 'Teen', 'Social', 'July 31, 2018', 'Varies with device', 'Varies with device']\n",
      "2545\n",
      "['Instagram', 'SOCIAL', '4.5', '66577313', 'Varies with device', '1,000,000,000+', 'Free', '0', 'Teen', 'Social', 'July 31, 2018', 'Varies with device', 'Varies with device']\n",
      "3909\n",
      "['Instagram', 'SOCIAL', '4.5', '66509917', 'Varies with device', '1,000,000,000+', 'Free', '0', 'Teen', 'Social', 'July 31, 2018', 'Varies with device', 'Varies with device']\n"
     ]
    }
   ],
   "source": [
    "print('\\n',google_header,'\\n')      \n",
    "for row in dataset_google:\n",
    "    name=row[0]\n",
    "    if name=='Instagram':\n",
    "        print(dataset_google.index(row))\n",
    "        print(row)\n",
    "        "
   ]
  },
  {
   "cell_type": "markdown",
   "metadata": {},
   "source": [
    "Example entry: \"Zoom Cloud Meetings\" in which instances of duplication are identical"
   ]
  },
  {
   "cell_type": "code",
   "execution_count": 10,
   "metadata": {},
   "outputs": [
    {
     "name": "stdout",
     "output_type": "stream",
     "text": [
      "\n",
      " ['App', 'Category', 'Rating', 'Reviews', 'Size', 'Installs', 'Type', 'Price', 'Content Rating', 'Genres', 'Last Updated', 'Current Ver', 'Android Ver'] \n",
      "\n",
      "213\n",
      "['ZOOM Cloud Meetings', 'BUSINESS', '4.4', '31614', '37M', '10,000,000+', 'Free', '0', 'Everyone', 'Business', 'July 20, 2018', '4.1.28165.0716', '4.0 and up']\n",
      "213\n",
      "['ZOOM Cloud Meetings', 'BUSINESS', '4.4', '31614', '37M', '10,000,000+', 'Free', '0', 'Everyone', 'Business', 'July 20, 2018', '4.1.28165.0716', '4.0 and up']\n"
     ]
    }
   ],
   "source": [
    "print('\\n',google_header,'\\n')      \n",
    "for row in dataset_google:\n",
    "    name=row[0]\n",
    "    if name=='ZOOM Cloud Meetings':\n",
    "        print(dataset_google.index(row))\n",
    "        print(row)\n",
    "        "
   ]
  },
  {
   "cell_type": "markdown",
   "metadata": {},
   "source": [
    "Apple Dataset: In \"Mannequin Challenge\" and \"VR Roller Coaster\" duplication are differentiated by \"size of applications\" (index=2)"
   ]
  },
  {
   "cell_type": "code",
   "execution_count": 11,
   "metadata": {},
   "outputs": [
    {
     "name": "stdout",
     "output_type": "stream",
     "text": [
      "\n",
      " ['id', 'track_name', 'size_bytes', 'currency', 'price', 'rating_count_tot', 'rating_count_ver', 'user_rating', 'user_rating_ver', 'ver', 'cont_rating', 'prime_genre', 'sup_devices.num', 'ipadSc_urls.num', 'lang.num', 'vpp_lic'] \n",
      "\n",
      "2948\n",
      "['1173990889', 'Mannequin Challenge', '109705216', 'USD', '0.0', '668', '87', '3.0', '3.0', '1.4', '9+', 'Games', '37', '4', '1', '1']\n",
      "4442\n",
      "['952877179', 'VR Roller Coaster', '169523200', 'USD', '0.0', '107', '102', '3.5', '3.5', '2.0.0', '4+', 'Games', '37', '5', '1', '1']\n",
      "4463\n",
      "['1178454060', 'Mannequin Challenge', '59572224', 'USD', '0.0', '105', '58', '4.0', '4.5', '1.0.1', '4+', 'Games', '38', '5', '1', '1']\n",
      "4831\n",
      "['1089824278', 'VR Roller Coaster', '240964608', 'USD', '0.0', '67', '44', '3.5', '4.0', '0.81', '4+', 'Games', '38', '0', '1', '1']\n"
     ]
    }
   ],
   "source": [
    "print('\\n',apple_header,'\\n')      \n",
    "for row in dataset_apple:\n",
    "    name=row[1]\n",
    "    if name=='Mannequin Challenge':\n",
    "        print(dataset_apple.index(row))\n",
    "        print(row)\n",
    "        \n",
    "    if name=='VR Roller Coaster':\n",
    "        print(dataset_apple.index(row))\n",
    "        print(row)    "
   ]
  },
  {
   "cell_type": "markdown",
   "metadata": {},
   "source": [
    "While executing the function `duplicate_entries_count(dataset,n)` for google dataset, we found that:  \n",
    "\n",
    "length of duplicate entries was: 1181 and length of unique entries: 9659\n",
    "While after executing `print(len(duplicate_entries_freq))` command within the above function, we found that the number of applications duplicated were *798*. \n",
    "We use the criteria of retaining entries with \"maximum number of reviews\" for google dataset, and create a dictionary `reviews_max`, which only contains the entries with greatest number of reviews. "
   ]
  },
  {
   "cell_type": "code",
   "execution_count": 12,
   "metadata": {},
   "outputs": [
    {
     "name": "stdout",
     "output_type": "stream",
     "text": [
      "Length of entries with maximum reviews: 9659\n"
     ]
    }
   ],
   "source": [
    "reviews_max = {}\n",
    "\n",
    "for row in dataset_google:\n",
    "    name = row[0]\n",
    "    n_reviews = float(row[3])\n",
    "    \n",
    "    if name in reviews_max and reviews_max[name] < n_reviews:\n",
    "        reviews_max[name] = n_reviews\n",
    "        \n",
    "    elif name not in reviews_max:\n",
    "        reviews_max[name] = n_reviews\n",
    "print('Length of entries with maximum reviews:',len(reviews_max))        "
   ]
  },
  {
   "cell_type": "markdown",
   "metadata": {},
   "source": [
    "While executing the function `duplicate_entries_count(dataset,n)` for apple dataset, we found that:  \n",
    "\n",
    "length of duplicate entries was: 2 and length of unique entries: 7195\n",
    "While after executing `print(len(duplicate_entries_freq))` command within the above function, we found that the number of applications duplicated were *2*. \n",
    "We use the criteria of retaining entries with \"maximum size\" for apple dataset, and create a dictionary `size_max`, which only contains the entries with greatest number of reviews. "
   ]
  },
  {
   "cell_type": "code",
   "execution_count": 13,
   "metadata": {},
   "outputs": [
    {
     "name": "stdout",
     "output_type": "stream",
     "text": [
      "Length of entries with maximum size: 7195\n"
     ]
    }
   ],
   "source": [
    "size_max = {}\n",
    "\n",
    "for row in dataset_apple:\n",
    "    name = row[1]\n",
    "    size = float(row[2])\n",
    "    \n",
    "    if name in size_max and size_max[name] < size:\n",
    "        size_max[name] = size\n",
    "        \n",
    "    elif name not in size_max:\n",
    "        size_max[name] = size\n",
    "print('Length of entries with maximum size:',len(size_max))    "
   ]
  },
  {
   "cell_type": "markdown",
   "metadata": {},
   "source": [
    "We now create a new datset named `google_dataset_clean` using the dictionary `reviews_max` created above. This dataset will only contain unique entries with maximum number of reviews. In order to ensure thas entries with similar content such as \"ZOOM Cloud Meetings\" do not find their way in clean dataset, we create another list named already_added and use the code: \n",
    "```\n",
    "if (reviews_max[name] == n_reviews) and (name not in already_added):\n",
    "    google_dataset_clean.append(row)\n",
    "    already_added.append(name)\n",
    "```\n",
    "The supplementary clause with `if` statement ensures that entries with similar content are added to `google_dataset_clean` only once. \n",
    "With the `print(len(google_dataset_clean))` command, we can see that the length of clean dataset is *\"9659\"* as expected."
   ]
  },
  {
   "cell_type": "code",
   "execution_count": 14,
   "metadata": {},
   "outputs": [
    {
     "name": "stdout",
     "output_type": "stream",
     "text": [
      "9659\n"
     ]
    }
   ],
   "source": [
    "google_dataset_clean=[]\n",
    "already_added=[]\n",
    "for row in dataset_google:\n",
    "    name=row[0]\n",
    "    n_reviews = float(row[3])\n",
    "    if (reviews_max[name] == n_reviews) and (name not in already_added):\n",
    "        google_dataset_clean.append(row)\n",
    "        already_added.append(name)\n",
    "print(len(google_dataset_clean))        \n",
    "    "
   ]
  },
  {
   "cell_type": "markdown",
   "metadata": {},
   "source": [
    "For apple, We also  create a new datset named `apple_dataset_clean` using the dictionary `size_max`created above. This dataset will only contain unique entries with maximum size. In order to ensure thas entries with similar content do not find their way in clean dataset, we create another list named already_added (there are none but still as a coding best practice, we include this step)  and use the code: \n",
    "```\n",
    "if (size_max[name] == size) and (name not in already_added):\n",
    "    apple_dataset_clean.append(row)\n",
    "    already_added.append(name)\n",
    "```\n",
    "The supplementary clause with `if` statement ensures that entries with similar content are added to `apple_dataset_clean` only once.\n",
    "With the `print(len(apple_dataset_clean))` command, we can see that the length of clean dataset is *\"7195\"* as expected."
   ]
  },
  {
   "cell_type": "code",
   "execution_count": 15,
   "metadata": {
    "scrolled": true
   },
   "outputs": [
    {
     "name": "stdout",
     "output_type": "stream",
     "text": [
      "7195\n"
     ]
    }
   ],
   "source": [
    "apple_dataset_clean=[]\n",
    "already_added=[]\n",
    "for row in dataset_apple:\n",
    "    name=row[1]\n",
    "    size = float(row[2])\n",
    "    if (size_max[name] == size) and (name not in already_added):\n",
    "        apple_dataset_clean.append(row)\n",
    "        already_added.append(name)\n",
    "print(len(apple_dataset_clean))        \n",
    "    "
   ]
  },
  {
   "cell_type": "markdown",
   "metadata": {},
   "source": [
    "## Non-English Entries\n",
    "After removal of short-length entries, next step is to remove entries in both data sets i.e. `google_dataset_clean` and `apple_dataset_clean` which contain names of applications which do not cater for an English speaking audience. We start by defining a function `english_app(name)` which loops over application name and checks each string character against the **maximum ASCII value** for English i.e. **127** using `ord(\"character')` command. If the value exceeds 127, the function returns `False` (or \"non-English app) else it returns `True` (or English-App). "
   ]
  },
  {
   "cell_type": "code",
   "execution_count": 16,
   "metadata": {},
   "outputs": [],
   "source": [
    "def english_app(name):\n",
    "    for character in name:\n",
    "        if ord(character)>127:\n",
    "            return False\n",
    "       \n",
    "    return True\n",
    "                           "
   ]
  },
  {
   "cell_type": "markdown",
   "metadata": {},
   "source": [
    "We check the output against few entries from both datasets and find that some English apps with special characters out of **ASCII range (127)** are being interpreted as non-English apps and are returning an output `False` when `english_app(name)` function is executed."
   ]
  },
  {
   "cell_type": "code",
   "execution_count": 17,
   "metadata": {
    "scrolled": true
   },
   "outputs": [
    {
     "name": "stdout",
     "output_type": "stream",
     "text": [
      "False\n",
      "True\n",
      "False\n",
      "False\n",
      "False\n",
      "False\n",
      "False\n",
      "8482\n",
      "128540\n"
     ]
    }
   ],
   "source": [
    "print(english_app(\"爱奇艺PPS -《欢乐颂2》电视剧热播\"))\n",
    "print(english_app(\"Instagram\"))\n",
    "print(english_app(\"Box播\"))\n",
    "print(english_app(google_dataset_clean[7940][0]))\n",
    "print(english_app(google_dataset_clean[4412][0]))\n",
    "print(english_app(\"Instachat 😜\"))\n",
    "print(english_app(\"Docs To Go™ Free Office Suite\"))\n",
    "print(ord('™'))\n",
    "print(ord('😜'))"
   ]
  },
  {
   "cell_type": "markdown",
   "metadata": {},
   "source": [
    "### Amended Function\n",
    "In order to cater for above anomaly, we define a criteria for retaining English apps with special characters by defining a function `english_app_0(name)`. The function is initialized by assigning a `variable non_ascii = 0` which is then looped over the string 'name'. If there are more than 3 non-English characters in name, the function interprets the app name to be English else it considers it non-English.  "
   ]
  },
  {
   "cell_type": "code",
   "execution_count": 18,
   "metadata": {},
   "outputs": [
    {
     "name": "stdout",
     "output_type": "stream",
     "text": [
      "True\n",
      "True\n"
     ]
    }
   ],
   "source": [
    "def english_app_0(name):\n",
    "    non_ascii = 0\n",
    "    \n",
    "    for character in name:\n",
    "        if ord(character) > 127:\n",
    "            non_ascii += 1\n",
    "    \n",
    "    if non_ascii > 3:\n",
    "        return False\n",
    "    else:\n",
    "        return True\n",
    "\n",
    "print(english_app_0('Docs To Go™ Free Office Suite'))\n",
    "print(english_app_0('Instachat 😜'))"
   ]
  },
  {
   "cell_type": "markdown",
   "metadata": {},
   "source": [
    "### Alternate Amended Function\n",
    "Alternately, we can define an 'Alternate Amended Function' `english_app_1(name)` which loops over the string name and assigns ASCII character values>127 to a `list ASCII_values`. The list is looped over the values exceeding 127 to generate a frequency table `ASCII_freq`. We check the length of the `ASCII_freq` and assign the condition that the application should be considered a non-English app, if the length of `ASCCII_freq` exceeds 4 (not 3 as done above, in order to get more entries for data analysis). We recheck the entries which were considered **non-English** when we checked them above, and find that they have now been reassigned as **English apps**."
   ]
  },
  {
   "cell_type": "code",
   "execution_count": 19,
   "metadata": {},
   "outputs": [],
   "source": [
    "def english_app_1(name):\n",
    "    ASCII_values=[]\n",
    "    ASCII_freq={}\n",
    "        \n",
    "    for character in name:\n",
    "        value=ord(character)      \n",
    "        if value>127:\n",
    "            ASCII_values.append(value)\n",
    "    for value in ASCII_values:\n",
    "        if value in ASCII_freq:\n",
    "            ASCII_freq[value]+=1\n",
    "        else:\n",
    "            ASCII_freq[value]=1\n",
    "    if len(ASCII_freq)>=4:\n",
    "        return False\n",
    "        \n",
    "    else:\n",
    "        return True \n",
    "    \n",
    "    "
   ]
  },
  {
   "cell_type": "code",
   "execution_count": 20,
   "metadata": {},
   "outputs": [
    {
     "name": "stdout",
     "output_type": "stream",
     "text": [
      "False\n",
      "True\n",
      "True\n",
      "False\n",
      "False\n",
      "True\n",
      "True\n"
     ]
    }
   ],
   "source": [
    "print(english_app_1(\"爱奇艺PPS -《欢乐颂2》电视剧热播\"))\n",
    "print(english_app_1(\"Instagram\"))\n",
    "print(english_app_1(\"Box\"))\n",
    "print(english_app_1(google_dataset_clean[7940][0]))\n",
    "print(english_app_1(google_dataset_clean[4412][0]))\n",
    "print(english_app_1(\"Instachat 😜\"))\n",
    "print(english_app_1(\"Docs To Go™ Free Office Suite\"))"
   ]
  },
  {
   "cell_type": "markdown",
   "metadata": {},
   "source": [
    "## English Apps Dataset\n",
    "We now use the alternate amended function `english_app_1` to generate two datasets `dataset_english_google` and `dataset_english_apple` by removing the non-English apps from datasets `google_dataset_clean` and `apple_dataset_clean`. For this we create empty lists and loop `google_dataset_clean` and `apple_dataset_clean` over the entries. If the function `english_app_1(name)` returns an English app both datasets i.e. `dataset_english_google` and `dataset_english_apple` are populated using separate for loops. We check the length of rows and columns and find that we now have 9619 entries for google and 6189 entries for apple.   "
   ]
  },
  {
   "cell_type": "code",
   "execution_count": 21,
   "metadata": {},
   "outputs": [
    {
     "name": "stdout",
     "output_type": "stream",
     "text": [
      "Google no of rows 9619\n",
      "Google no of columns 13\n",
      "Apple no of rows 6189\n",
      "Apple no of columns 16\n"
     ]
    }
   ],
   "source": [
    "dataset_english_google=[]\n",
    "dataset_english_apple=[]\n",
    "for row in google_dataset_clean:\n",
    "    name=row[0]\n",
    "    if english_app_1(name):\n",
    "        dataset_english_google.append(row)\n",
    "\n",
    "for row in apple_dataset_clean:\n",
    "    name=row[1]\n",
    "    if english_app_1(name):\n",
    "        dataset_english_apple.append(row)\n",
    "print('Google no of rows',len(dataset_english_google))\n",
    "print('Google no of columns',len(dataset_english_google[0]))\n",
    "print('Apple no of rows',len(dataset_english_apple)) \n",
    "print('Apple no of columns',len(dataset_english_apple[0]))"
   ]
  },
  {
   "cell_type": "markdown",
   "metadata": {},
   "source": [
    "### Alternate Method (Use of Function)\n",
    "We can also use the alternate amended function `english_app_1(name)`within a function `dataset_english_apps(dataset,n)` to generate the dataset `dataset_english`which can be used universally. The parameters of this function are **'dataset'** which can be any dataset and **'n'** which is the index of app name in dataset. We do this to enable us to use any number of datasets without having to write additional code each time, as done above. We also use a third function `explore_dataset(dataset,start,stop,rows_and_columns=False)` as defined in the beginning within the function `dataset_english_apps(dataset,n)`. From this We find the length of rows and columns to be 9619 entries (13 columns) for google and 6189 entries (16 columns) for apple (same as above)."
   ]
  },
  {
   "cell_type": "code",
   "execution_count": 22,
   "metadata": {},
   "outputs": [
    {
     "name": "stdout",
     "output_type": "stream",
     "text": [
      "Google Data\n",
      "['Photo Editor & Candy Camera & Grid & ScrapBook', 'ART_AND_DESIGN', '4.1', '159', '19M', '10,000+', 'Free', '0', 'Everyone', 'Art & Design', 'January 7, 2018', '1.0.0', '4.0.3 and up']\n",
      "\n",
      "\n",
      "['U Launcher Lite – FREE Live Cool Themes, Hide Apps', 'ART_AND_DESIGN', '4.7', '87510', '8.7M', '5,000,000+', 'Free', '0', 'Everyone', 'Art & Design', 'August 1, 2018', '1.2.4', '4.0.3 and up']\n",
      "\n",
      "\n",
      "['Sketch - Draw & Paint', 'ART_AND_DESIGN', '4.5', '215644', '25M', '50,000,000+', 'Free', '0', 'Teen', 'Art & Design', 'June 8, 2018', 'Varies with device', '4.2 and up']\n",
      "\n",
      "\n",
      "Number of rows 9619\n",
      "Number of Columns 13\n",
      "\n",
      " Apple Data\n",
      "['284882215', 'Facebook', '389879808', 'USD', '0.0', '2974676', '212', '3.5', '3.5', '95.0', '4+', 'Social Networking', '37', '1', '29', '1']\n",
      "\n",
      "\n",
      "['389801252', 'Instagram', '113954816', 'USD', '0.0', '2161558', '1289', '4.5', '4.0', '10.23', '12+', 'Photo & Video', '37', '0', '29', '1']\n",
      "\n",
      "\n",
      "['529479190', 'Clash of Clans', '116476928', 'USD', '0.0', '2130805', '579', '4.5', '4.5', '9.24.12', '9+', 'Games', '38', '5', '18', '1']\n",
      "\n",
      "\n",
      "Number of rows 6189\n",
      "Number of Columns 16\n",
      "9619\n"
     ]
    }
   ],
   "source": [
    "def dataset_english_apps(dataset,n):\n",
    "    dataset_english=[]\n",
    "    for row in dataset:\n",
    "        name=row[n]\n",
    "        if english_app_1(name):\n",
    "            dataset_english.append(row)\n",
    "    explore_dataset(dataset_english,0,3,True)\n",
    "    return dataset_english\n",
    "    \n",
    "\n",
    "print('Google Data')\n",
    "dataset_english_google=dataset_english_apps(google_dataset_clean,0)\n",
    "print('\\n','Apple Data')\n",
    "dataset_english_apple=dataset_english_apps(apple_dataset_clean,1)\n",
    "print(len(dataset_english_google))\n",
    "\n"
   ]
  },
  {
   "cell_type": "markdown",
   "metadata": {},
   "source": [
    "## Isolating Free Apps\n",
    "We create separate empty dictionaries dataset_free_google=[] and dataset_free_apple=[] and use a for loop separately for both datasets and loop over rows in dataset. The conditional: `if price=='0':` and  `if price=='0.0':`caters for different formats of price used in two datasets. After removing non-free applictaion we are left with **8869** entries for google dataset and **3227** for apple (see alternate method below). "
   ]
  },
  {
   "cell_type": "code",
   "execution_count": 23,
   "metadata": {
    "scrolled": false
   },
   "outputs": [
    {
     "name": "stdout",
     "output_type": "stream",
     "text": [
      "Google Free Apps Dataset Length 8869\n",
      "Apple Free Apps Dataset Length 3227\n"
     ]
    }
   ],
   "source": [
    "dataset_free_google=[]\n",
    "dataset_free_apple=[]\n",
    "\n",
    "for row in dataset_english_google:\n",
    "    price=row[7]\n",
    "    if price=='0':\n",
    "        dataset_free_google.append(row)\n",
    "    \n",
    "    \n",
    "for row in dataset_english_apple:\n",
    "    price=row[4]\n",
    "    if price=='0.0':\n",
    "        dataset_free_apple.append(row)    \n",
    "    \n",
    "    \n",
    "print('Google Free Apps Dataset Length',len(dataset_free_google))\n",
    "print('Apple Free Apps Dataset Length',len(dataset_free_apple))\n"
   ]
  },
  {
   "cell_type": "markdown",
   "metadata": {},
   "source": [
    "### Isolating Free Apps - Alternate Method (use of function)\n",
    "Since we are exploring more than one datasets, it is convenient to write a global function which would obviate the need to write code separately for each dataset. We define a function `dataset_free_apps(dataset,n)` in which **n** is the index of the price column. We create an empty dictionary `dataset_free` and loop over rows in dataset. The conditional: `if price=='Free'or price=='0.0'`caters for various formats of price used in different datasets. After removing non-free applictaion we are left with **8869** entries for google dataset and **3227** for apple (same as above) "
   ]
  },
  {
   "cell_type": "code",
   "execution_count": 24,
   "metadata": {},
   "outputs": [
    {
     "name": "stdout",
     "output_type": "stream",
     "text": [
      "Google Free Apps Dataset Length 8868\n",
      "Apple Free Apps Dataset Length 3227\n"
     ]
    }
   ],
   "source": [
    "def dataset_free_apps(dataset,n):\n",
    "    dataset_free=[]\n",
    "    for row in dataset:\n",
    "        price=row[n]\n",
    "        if price=='Free'or price=='0.0':\n",
    "            dataset_free.append(row)\n",
    "    return dataset_free \n",
    "\n",
    "dataset_free_google=dataset_free_apps(dataset_english_google,6)\n",
    "dataset_free_apple=dataset_free_apps(dataset_english_apple,4)\n",
    "print('Google Free Apps Dataset Length',len(dataset_free_google))\n",
    "print('Apple Free Apps Dataset Length',len(dataset_free_apple))\n",
    "        "
   ]
  },
  {
   "cell_type": "markdown",
   "metadata": {},
   "source": [
    "## Most Common Apps by Genre/Category\n",
    "Since we want to determine the kinds of apps that are likely to attract more users and in turn more ad revenue, we must examine the datasets for popularity of certain genres or categories. In google, we have columns for \"category\"(index=1) and \"genres\"(index=9) while in apple dataset, we have column for \"prime genre\"(index=11). "
   ]
  },
  {
   "cell_type": "code",
   "execution_count": 25,
   "metadata": {},
   "outputs": [
    {
     "name": "stdout",
     "output_type": "stream",
     "text": [
      "33\n",
      "114\n",
      "23\n"
     ]
    }
   ],
   "source": [
    "def freq_table(dataset,n):\n",
    "    frequency_table={}\n",
    "    for row in dataset:\n",
    "        value=row[n]\n",
    "        if value in frequency_table:\n",
    "            frequency_table[value]+=1\n",
    "        else:\n",
    "            frequency_table[value]=1\n",
    "    dataset_free_apps(dataset,n) #called this previously defined function which returns the final dataset such as \"dataset_free_google\"\n",
    "    frequency_table_percentage={}\n",
    "    for key in frequency_table:\n",
    "        percentage=(frequency_table[key]/len(dataset))*100\n",
    "        frequency_table_percentage[key]=percentage\n",
    "    return frequency_table_percentage\n",
    "freq_table_percentage_google_cat=freq_table(dataset_free_google,1)\n",
    "print(len(freq_table_percentage_google_cat))\n",
    "freq_table_percentage_google_gen=freq_table(dataset_free_google,9)\n",
    "print(len(freq_table_percentage_google_gen))\n",
    "freq_table_percentage_apple_gen=freq_table(dataset_free_apple,11)\n",
    "print(len(freq_table_percentage_apple_gen))\n"
   ]
  },
  {
   "cell_type": "markdown",
   "metadata": {},
   "source": [
    "### Display and Sorting in Descending Order"
   ]
  },
  {
   "cell_type": "code",
   "execution_count": 26,
   "metadata": {},
   "outputs": [],
   "source": [
    "def display_table(dataset,index):\n",
    "    freq_table_percentage=freq_table(dataset,index) #a function previously defined which returns frequency_table_percentage\n",
    "    table_display=[]\n",
    "    for key in freq_table_percentage:\n",
    "        key_val_as_tuple=(freq_table_percentage[key],key)\n",
    "        table_display.append(key_val_as_tuple)\n",
    "    table_sorted=sorted(table_display,reverse=True) \n",
    "    for entry in table_sorted:\n",
    "        print(entry[1],':',entry[0])"
   ]
  },
  {
   "cell_type": "code",
   "execution_count": 27,
   "metadata": {
    "scrolled": true
   },
   "outputs": [
    {
     "name": "stdout",
     "output_type": "stream",
     "text": [
      "Games : 58.13449023861171\n",
      "Entertainment : 7.871087697551905\n",
      "Photo & Video : 4.9581654787728535\n",
      "Education : 3.65664704059498\n",
      "Social Networking : 3.284784629687016\n",
      "Shopping : 2.6030368763557483\n",
      "Utilities : 2.5100712736287574\n",
      "Sports : 2.138208862720793\n",
      "Music : 2.045243259993802\n",
      "Health & Fitness : 2.014254725751472\n",
      "Productivity : 1.735357917570499\n",
      "Lifestyle : 1.6114037806011776\n",
      "News : 1.3325069724202045\n",
      "Travel : 1.270529903935544\n",
      "Finance : 1.1155872327238923\n",
      "Weather : 0.8676789587852495\n",
      "Food & Drink : 0.8366904245429191\n",
      "Reference : 0.5577936163619461\n",
      "Business : 0.5268050821196157\n",
      "Book : 0.43383947939262474\n",
      "Navigation : 0.18593120545398203\n",
      "Medical : 0.18593120545398203\n",
      "Catalogs : 0.12395413696932135\n"
     ]
    }
   ],
   "source": [
    "display_table(dataset_free_apple,11) #Prime Genre"
   ]
  },
  {
   "cell_type": "markdown",
   "metadata": {},
   "source": [
    "### Analysis of Apple \"Prime Genre\" Data\n",
    "There are **23 \"prime genres\"**. Approx 58% of free apps out of **3227 analzed** are games. Entertainment apps are close to 8%, photo and video apps are close to 5%, education 3.66%,  social networking apps 3.29% of the apps in our data set. Shopping, Sports, Music and Health between 2 and 3%. Productivity, Lifestyle and Travel all between 1 and 2%. We will return to this data later while analyzing genre popularity.\n",
    "\n",
    "### Google Apps Analysis"
   ]
  },
  {
   "cell_type": "code",
   "execution_count": 28,
   "metadata": {},
   "outputs": [
    {
     "name": "stdout",
     "output_type": "stream",
     "text": [
      "FAMILY : 18.910690121786196\n",
      "GAME : 9.720342805593143\n",
      "TOOLS : 8.457374830852503\n",
      "BUSINESS : 4.589535408209292\n",
      "LIFESTYLE : 3.9016689219666216\n",
      "PRODUCTIVITY : 3.8903924221921518\n",
      "FINANCE : 3.6986919260261617\n",
      "MEDICAL : 3.5295444294091114\n",
      "SPORTS : 3.394226432115471\n",
      "PERSONALIZATION : 3.3265674334686515\n",
      "COMMUNICATION : 3.236355435272891\n",
      "HEALTH_AND_FITNESS : 3.078484438430311\n",
      "PHOTOGRAPHY : 2.943166441136671\n",
      "NEWS_AND_MAGAZINES : 2.796571944068561\n",
      "SOCIAL : 2.661253946774921\n",
      "TRAVEL_AND_LOCAL : 2.334235453315291\n",
      "SHOPPING : 2.244023455119531\n",
      "BOOKS_AND_REFERENCE : 2.153811456923771\n",
      "DATING : 1.8606224627875507\n",
      "VIDEO_PLAYERS : 1.7929634641407306\n",
      "MAPS_AND_NAVIGATION : 1.4095624718087505\n",
      "FOOD_AND_DRINK : 1.2404149751917006\n",
      "EDUCATION : 1.1614794767704104\n",
      "ENTERTAINMENT : 0.9585024808299503\n",
      "LIBRARIES_AND_DEMO : 0.9359494812810103\n",
      "AUTO_AND_VEHICLES : 0.9246729815065404\n",
      "HOUSE_AND_HOME : 0.8231844835363104\n",
      "WEATHER : 0.8006314839873704\n",
      "EVENTS : 0.7104194857916103\n",
      "PARENTING : 0.6540369869192603\n",
      "ART_AND_DESIGN : 0.6427604871447903\n",
      "COMICS : 0.6202074875958503\n",
      "BEAUTY : 0.5976544880469102\n"
     ]
    }
   ],
   "source": [
    "display_table(dataset_free_google,1) #Category"
   ]
  },
  {
   "attachments": {
    "image.png": {
     "image/png": "[encoded data removed]"
    }
   },
   "cell_type": "markdown",
   "metadata": {},
   "source": [
    "### Analysis of Google \"Category\" Data\n",
    "There are **33 \"Categories\"**. Approx 19% of free apps out of **8868 analzed** belong to Family category followed by Games at nearly 10%. Health, Communication, Medical and Business are between 3-5%. Books, Shopping, Travel and Books are between 2-3%. Education, Food, Maps & Navigation and Dating are between 1-2%. **Categories** are how apps data is organized on the Play Stor and it provides an ease of access to the user. \n",
    "![image.png](attachment:image.png)\n",
    "\n",
    "### Google \"Genres\" Data"
   ]
  },
  {
   "cell_type": "code",
   "execution_count": 29,
   "metadata": {},
   "outputs": [
    {
     "name": "stdout",
     "output_type": "stream",
     "text": [
      "Tools : 8.446098331078034\n",
      "Entertainment : 6.078033378439333\n",
      "Education : 5.356337392873252\n",
      "Business : 4.589535408209292\n",
      "Productivity : 3.8903924221921518\n",
      "Lifestyle : 3.8903924221921518\n",
      "Finance : 3.6986919260261617\n",
      "Medical : 3.5295444294091114\n",
      "Sports : 3.4618854307622913\n",
      "Personalization : 3.3265674334686515\n",
      "Communication : 3.236355435272891\n",
      "Action : 3.1010374379792514\n",
      "Health & Fitness : 3.078484438430311\n",
      "Photography : 2.943166441136671\n",
      "News & Magazines : 2.796571944068561\n",
      "Social : 2.661253946774921\n",
      "Travel & Local : 2.322958953540821\n",
      "Shopping : 2.244023455119531\n",
      "Books & Reference : 2.153811456923771\n",
      "Simulation : 2.041046459179071\n",
      "Dating : 1.8606224627875507\n",
      "Arcade : 1.8493459630130809\n",
      "Video Players & Editors : 1.7704104645917909\n",
      "Casual : 1.7591339648173208\n",
      "Maps & Navigation : 1.4095624718087505\n",
      "Food & Drink : 1.2404149751917006\n",
      "Puzzle : 1.1276499774470004\n",
      "Racing : 0.9923319801533603\n",
      "Role Playing : 0.9359494812810103\n",
      "Libraries & Demo : 0.9359494812810103\n",
      "Auto & Vehicles : 0.9246729815065404\n",
      "Strategy : 0.9021199819576003\n",
      "House & Home : 0.8231844835363104\n",
      "Weather : 0.8006314839873704\n",
      "Events : 0.7104194857916103\n",
      "Adventure : 0.6765899864682002\n",
      "Comics : 0.6089309878213802\n",
      "Beauty : 0.5976544880469102\n",
      "Art & Design : 0.5976544880469102\n",
      "Parenting : 0.49616599007668016\n",
      "Card : 0.4510599909788002\n",
      "Casino : 0.4285069914298602\n",
      "Trivia : 0.4172304916553901\n",
      "Educational;Education : 0.39467749210645015\n",
      "Board : 0.38340099233198016\n",
      "Educational : 0.3721244925575102\n",
      "Education;Education : 0.3382949932341001\n",
      "Word : 0.2593594948128101\n",
      "Casual;Pretend Play : 0.2368064952638701\n",
      "Music : 0.20297699594046006\n",
      "Racing;Action & Adventure : 0.16914749661705006\n",
      "Puzzle;Brain Games : 0.16914749661705006\n",
      "Entertainment;Music & Video : 0.16914749661705006\n",
      "Casual;Brain Games : 0.13531799729364005\n",
      "Casual;Action & Adventure : 0.13531799729364005\n",
      "Arcade;Action & Adventure : 0.12404149751917004\n",
      "Action;Action & Adventure : 0.10148849797023003\n",
      "Educational;Pretend Play : 0.09021199819576003\n",
      "Simulation;Action & Adventure : 0.07893549842129004\n",
      "Parenting;Education : 0.07893549842129004\n",
      "Entertainment;Brain Games : 0.07893549842129004\n",
      "Board;Brain Games : 0.07893549842129004\n",
      "Parenting;Music & Video : 0.06765899864682003\n",
      "Educational;Brain Games : 0.06765899864682003\n",
      "Casual;Creativity : 0.06765899864682003\n",
      "Art & Design;Creativity : 0.06765899864682003\n",
      "Education;Pretend Play : 0.05638249887235002\n",
      "Role Playing;Pretend Play : 0.04510599909788002\n",
      "Education;Creativity : 0.04510599909788002\n",
      "Role Playing;Action & Adventure : 0.03382949932341001\n",
      "Puzzle;Action & Adventure : 0.03382949932341001\n",
      "Entertainment;Creativity : 0.03382949932341001\n",
      "Entertainment;Action & Adventure : 0.03382949932341001\n",
      "Educational;Creativity : 0.03382949932341001\n",
      "Educational;Action & Adventure : 0.03382949932341001\n",
      "Education;Music & Video : 0.03382949932341001\n",
      "Education;Brain Games : 0.03382949932341001\n",
      "Education;Action & Adventure : 0.03382949932341001\n",
      "Adventure;Action & Adventure : 0.03382949932341001\n",
      "Video Players & Editors;Music & Video : 0.02255299954894001\n",
      "Sports;Action & Adventure : 0.02255299954894001\n",
      "Simulation;Pretend Play : 0.02255299954894001\n",
      "Puzzle;Creativity : 0.02255299954894001\n",
      "Music;Music & Video : 0.02255299954894001\n",
      "Entertainment;Pretend Play : 0.02255299954894001\n",
      "Casual;Education : 0.02255299954894001\n",
      "Board;Action & Adventure : 0.02255299954894001\n",
      "Video Players & Editors;Creativity : 0.011276499774470004\n",
      "Trivia;Education : 0.011276499774470004\n",
      "Travel & Local;Action & Adventure : 0.011276499774470004\n",
      "Tools;Education : 0.011276499774470004\n",
      "Strategy;Education : 0.011276499774470004\n",
      "Strategy;Creativity : 0.011276499774470004\n",
      "Strategy;Action & Adventure : 0.011276499774470004\n",
      "Simulation;Education : 0.011276499774470004\n",
      "Role Playing;Brain Games : 0.011276499774470004\n",
      "Racing;Pretend Play : 0.011276499774470004\n",
      "Puzzle;Education : 0.011276499774470004\n",
      "Parenting;Brain Games : 0.011276499774470004\n",
      "Music & Audio;Music & Video : 0.011276499774470004\n",
      "Lifestyle;Pretend Play : 0.011276499774470004\n",
      "Lifestyle;Education : 0.011276499774470004\n",
      "Health & Fitness;Education : 0.011276499774470004\n",
      "Health & Fitness;Action & Adventure : 0.011276499774470004\n",
      "Entertainment;Education : 0.011276499774470004\n",
      "Communication;Creativity : 0.011276499774470004\n",
      "Comics;Creativity : 0.011276499774470004\n",
      "Casual;Music & Video : 0.011276499774470004\n",
      "Card;Action & Adventure : 0.011276499774470004\n",
      "Books & Reference;Education : 0.011276499774470004\n",
      "Art & Design;Pretend Play : 0.011276499774470004\n",
      "Art & Design;Action & Adventure : 0.011276499774470004\n",
      "Arcade;Pretend Play : 0.011276499774470004\n",
      "Adventure;Education : 0.011276499774470004\n"
     ]
    }
   ],
   "source": [
    "display_table(dataset_free_google,9) #Genre"
   ]
  },
  {
   "cell_type": "markdown",
   "metadata": {},
   "source": [
    "There are **114 \"Genres\"** and these seem to depict a further detailed classification during data compilation . These are dominated by Tools (8.4%), Entertainment(6%), Education (5.4%), and Business (4.5%). Since the basis of these classifications are too detailed and not explained, we will not use this classification further and focus on popular apps by \"Category\" classification as provided on Play Store. \n",
    "\n",
    "\n",
    "## Most Popular Apps by Genre/Category\n",
    "The number of applications in a genre or category is in no way the final determinant of a genre's popularity, as these may not be used by a significant number of users. We need to explore the genres and categories to determine the popularity of apps in those genres/categories. In order to find out what genres are the most popular (have the most users), we can calculate the average number of installs for each app genre. For the Google Play data set, we can find this information in the Installs column, but for the App Store data set this information is missing. We will use instead the total number of user ratings as a proxy in this case.\n",
    "We can use the freq_table(dataset,n) function defined earlier to determine average user ratings counts per genre in Apple Store and installs per category in google Play Store. \n",
    "\n",
    "### "
   ]
  },
  {
   "cell_type": "code",
   "execution_count": 30,
   "metadata": {
    "scrolled": true
   },
   "outputs": [
    {
     "name": "stdout",
     "output_type": "stream",
     "text": [
      "Social Networking : 71548.34905660378\n",
      "Photo & Video : 28441.54375\n",
      "Games : 22764.26172707889\n",
      "Music : 57326.530303030304\n",
      "Reference : 74942.11111111111\n",
      "Health & Fitness : 23298.015384615384\n",
      "Weather : 52279.892857142855\n",
      "Utilities : 18684.456790123455\n",
      "Travel : 27581.829268292684\n",
      "Shopping : 26919.690476190477\n",
      "News : 21248.023255813954\n",
      "Navigation : 86090.33333333333\n",
      "Lifestyle : 16168.73076923077\n",
      "Entertainment : 14029.830708661417\n",
      "Food & Drink : 32099.51851851852\n",
      "Sports : 23008.898550724636\n",
      "Book : 39758.5\n",
      "Finance : 31467.944444444445\n",
      "Education : 7003.983050847458\n",
      "Productivity : 21028.410714285714\n",
      "Business : 7491.117647058823\n",
      "Catalogs : 4004.0\n",
      "Medical : 612.0\n"
     ]
    }
   ],
   "source": [
    "rating_count_sum={}\n",
    "genre_len={}\n",
    "\n",
    "for row in dataset_free_apple:\n",
    "    genre_app=row[11]\n",
    "    rating_count=float(row[5])\n",
    "    if genre_app in rating_count_sum:\n",
    "        rating_count_sum[genre_app]+=rating_count\n",
    "    else:\n",
    "        rating_count_sum[genre_app]=rating_count\n",
    "    if genre_app in genre_len:\n",
    "        genre_len[genre_app]+=1\n",
    "    else:\n",
    "        genre_len[genre_app]=1\n",
    "for genre_app in rating_count_sum:         \n",
    "    avg_rating_genre=rating_count_sum[genre_app]/genre_len[genre_app]\n",
    "    print(genre_app,':',avg_rating_genre)\n"
   ]
  },
  {
   "cell_type": "code",
   "execution_count": 31,
   "metadata": {},
   "outputs": [],
   "source": [
    "def avg_rating(dataset,n1,n2): #n1=index of genre;n2=index of rating or instals\n",
    "    rating_count_sum={}\n",
    "    genre_len={}\n",
    "\n",
    "    for row in dataset:\n",
    "        genre_app=row[n1]\n",
    "        rating_count=float(row[n2])\n",
    "        if genre_app in rating_count_sum:\n",
    "            rating_count_sum[genre_app]+=rating_count\n",
    "        else:\n",
    "            rating_count_sum[genre_app]=rating_count\n",
    "        if genre_app in genre_len:\n",
    "            genre_len[genre_app]+=1\n",
    "        else:\n",
    "            genre_len[genre_app]=1\n",
    "    for genre_app in rating_count_sum:         \n",
    "        avg_rating_genre=rating_count_sum[genre_app]/genre_len[genre_app]\n",
    "        print(genre_app,':',avg_rating_genre)\n",
    "    print(genre_len)    \n",
    "        \n"
   ]
  },
  {
   "cell_type": "code",
   "execution_count": 32,
   "metadata": {
    "scrolled": true
   },
   "outputs": [
    {
     "name": "stdout",
     "output_type": "stream",
     "text": [
      "Social Networking : 71548.34905660378\n",
      "Photo & Video : 28441.54375\n",
      "Games : 22764.26172707889\n",
      "Music : 57326.530303030304\n",
      "Reference : 74942.11111111111\n",
      "Health & Fitness : 23298.015384615384\n",
      "Weather : 52279.892857142855\n",
      "Utilities : 18684.456790123455\n",
      "Travel : 27581.829268292684\n",
      "Shopping : 26919.690476190477\n",
      "News : 21248.023255813954\n",
      "Navigation : 86090.33333333333\n",
      "Lifestyle : 16168.73076923077\n",
      "Entertainment : 14029.830708661417\n",
      "Food & Drink : 32099.51851851852\n",
      "Sports : 23008.898550724636\n",
      "Book : 39758.5\n",
      "Finance : 31467.944444444445\n",
      "Education : 7003.983050847458\n",
      "Productivity : 21028.410714285714\n",
      "Business : 7491.117647058823\n",
      "Catalogs : 4004.0\n",
      "Medical : 612.0\n",
      "{'Social Networking': 106, 'Photo & Video': 160, 'Games': 1876, 'Music': 66, 'Reference': 18, 'Health & Fitness': 65, 'Weather': 28, 'Utilities': 81, 'Travel': 41, 'Shopping': 84, 'News': 43, 'Navigation': 6, 'Lifestyle': 52, 'Entertainment': 254, 'Food & Drink': 27, 'Sports': 69, 'Book': 14, 'Finance': 36, 'Education': 118, 'Productivity': 56, 'Business': 17, 'Catalogs': 4, 'Medical': 6}\n"
     ]
    }
   ],
   "source": [
    "avg_rating(dataset_free_apple,11,5)"
   ]
  },
  {
   "cell_type": "markdown",
   "metadata": {},
   "source": [
    "Above data when compared with our own objectives leads us to draw certain preliminary conclusions. First, we cannot develop apps in categories which require provision or exchange of commodities such as \"Food & Drink\", \"Shopping\", \"Health & Fitness\"; or certain speciality areas such as \"Music\", \"Productivity\", \"Medical\" and \"Navigation.\" Some categories such as \"Social Networking\", \"Games\" and Entertainment are occupied by corporate giants with whom we cannot compete as a start up. Some categories are of low interest to general public and can also be discarded such as \"Catalogs\" and \"Business.\" This leaves us with two very interesting categories to explore i.e. \"Travel\", \"Finance\" and \"Weather.\" "
   ]
  },
  {
   "cell_type": "code",
   "execution_count": 33,
   "metadata": {},
   "outputs": [
    {
     "name": "stdout",
     "output_type": "stream",
     "text": [
      "Google Earth 446185\n",
      "Yelp - Nearby Restaurants, Shopping & Services 223885\n",
      "GasBuddy 145549\n",
      "TripAdvisor Hotels Flights Restaurants 56194\n",
      "Uber 49466\n",
      "Lyft 46922\n",
      "HotelTonight - Great Deals on Last Minute Hotels 32341\n",
      "Hotels & Vacation Rentals by Booking.com 31261\n",
      "Southwest Airlines 30552\n",
      "Airbnb 22302\n",
      "Expedia Hotels, Flights & Vacation Package Deals 10278\n",
      "Fly Delta 8094\n",
      "Hopper - Predict, Watch & Book Flights 6944\n",
      "United Airlines 5748\n",
      "Skiplagged — Actually Cheap Flights & Hotels 1851\n",
      "Viator Tours & Activities 1839\n",
      "iExit Interstate Exit Guide 1798\n",
      "Gogo Entertainment 1482\n",
      "Google Street View 1450\n",
      "滴滴出行 1103\n",
      "Webcams – EarthCam 912\n",
      "HISTORY Here 685\n",
      "DB Navigator 512\n",
      "Mobike - Dockless Bike Share 494\n",
      "MiFlight™ – Airport security line wait times at checkpoints for domestic and international travelers 493\n",
      "BlaBlaCar - Trusted Carpooling 397\n",
      "Six Flags 353\n",
      "Google Trips – Travel planner 329\n",
      "Voyages-sncf.com : book train and bus tickets 268\n",
      "Trainline UK: Live Train Times, Tickets & Planner 248\n",
      "Urlaubspiraten 188\n",
      "铁路12306 177\n",
      "Ryanair - Cheapest Fares 175\n",
      "飞猪 154\n",
      "Fleet Air Travel Guide & Airport Directory 105\n",
      "FlixBus - bus travel in Europe 92\n",
      "Ab in den Urlaub – Pauschalreisen günstig buchen 22\n",
      "SNCF 7\n",
      "skyticket - Reserve Best Valued Air Tickets 0\n",
      "Fluege.de - Finde den billigsten Flug 0\n",
      "VoiceTra(Voice Translator) 0\n"
     ]
    }
   ],
   "source": [
    "for row in dataset_free_apple:\n",
    "    genre_app=row[11]\n",
    "    app_name=row[1]\n",
    "    rating_count=row[5]\n",
    "    if genre_app==\"Travel\":\n",
    "        print(app_name, rating_count)"
   ]
  },
  {
   "cell_type": "code",
   "execution_count": 34,
   "metadata": {
    "scrolled": true
   },
   "outputs": [
    {
     "name": "stdout",
     "output_type": "stream",
     "text": [
      "Chase Mobile℠ 233270\n",
      "Mint: Personal Finance, Budget, Bills & Money 232940\n",
      "Bank of America - Mobile Banking 119773\n",
      "PayPal - Send and request money safely 119487\n",
      "Credit Karma: Free Credit Scores, Reports & Alerts 101679\n",
      "Capital One Mobile 56110\n",
      "Citi Mobile® 48822\n",
      "Wells Fargo Mobile 43064\n",
      "Chase Mobile 34322\n",
      "Square Cash - Send Money for Free 23775\n",
      "Capital One for iPad 21858\n",
      "Venmo 21090\n",
      "USAA Mobile 19946\n",
      "TaxCaster – Free tax refund calculator 17516\n",
      "Amex Mobile 11421\n",
      "TurboTax Tax Return App - File 2016 income taxes 9635\n",
      "Bank of America - Mobile Banking for iPad 7569\n",
      "Wells Fargo for iPad 2207\n",
      "Stash Invest: Investing & Financial Education 1655\n",
      "Digit: Save Money Without Thinking About It 1506\n",
      "IRS2Go 1329\n",
      "Capital One CreditWise - Credit score and report 1019\n",
      "U by BB&T 790\n",
      "Paribus - Rebates When Prices Drop 768\n",
      "KeyBank Mobile 623\n",
      "VyStar Mobile Banking for iPhone 434\n",
      "Sparkasse - Your mobile branch 77\n",
      "VyStar Mobile Banking for iPad 57\n",
      "Zaim 44\n",
      "Ma Banque 17\n",
      "Lloyds Bank Mobile Banking 17\n",
      "Suica 10\n",
      "Halifax Mobile Banking 8\n",
      "La Banque Postale 8\n",
      "币优铺 0\n",
      "Impots.gouv 0\n"
     ]
    }
   ],
   "source": [
    "for row in dataset_free_apple:\n",
    "    genre_app=row[11]\n",
    "    app_name=row[1]\n",
    "    rating_count=row[5]\n",
    "    if genre_app==\"Finance\":\n",
    "        print(app_name, rating_count)    "
   ]
  },
  {
   "cell_type": "code",
   "execution_count": 35,
   "metadata": {},
   "outputs": [
    {
     "name": "stdout",
     "output_type": "stream",
     "text": [
      "The Weather Channel: Forecast, Radar & Alerts 495626\n",
      "The Weather Channel App for iPad – best local forecast, radar map, and storm tracking 208648\n",
      "WeatherBug - Local Weather, Radar, Maps, Alerts 188583\n",
      "MyRadar NOAA Weather Radar Forecast 150158\n",
      "AccuWeather - Weather for Life 144214\n",
      "Yahoo Weather 112603\n",
      "Weather Underground: Custom Forecast & Local Radar 49192\n",
      "NOAA Weather Radar - Weather Forecast & HD Radar 45696\n",
      "Weather Live Free - Weather Forecast & Alerts 35702\n",
      "Storm Radar 22792\n",
      "QuakeFeed Earthquake Map, Alerts, and News 6081\n",
      "Moji Weather - Free Weather Forecast 2333\n",
      "Hurricane by American Red Cross 1158\n",
      "Forecast Bar 375\n",
      "Hurricane Tracker WESH 2 Orlando, Central Florida 203\n",
      "FEMA 128\n",
      "iWeather - World weather forecast 80\n",
      "Weather - Radar - Storm with Morecast App 78\n",
      "Yurekuru Call 53\n",
      "Weather & Radar 37\n",
      "WRAL Weather Alert 25\n",
      "Météo-France 24\n",
      "JaxReady 22\n",
      "Freddy the Frogcaster's Weather Station 14\n",
      "Almanac Long-Range Weather Forecast 12\n",
      "TodayAir 0\n",
      "wetter.com 0\n",
      "WarnWetter 0\n"
     ]
    }
   ],
   "source": [
    "for row in dataset_free_apple:\n",
    "    genre_app=row[11]\n",
    "    app_name=row[1]\n",
    "    rating_count=row[5]\n",
    "    if genre_app==\"Weather\":\n",
    "        print(app_name, rating_count)"
   ]
  },
  {
   "cell_type": "markdown",
   "metadata": {},
   "source": [
    "### Preliminary Conclusions\n",
    "\"Travel\" has an average user rating of over 27,000, Finance over 31,000, and \"Weather\" over 52,000, all of which are promising. \"Travel\" ratings are skewed due to Google Earth which is not really a travel app. Similarly, Uber and Lyft are ride hailing services and not really travel apps. This leaves the category quite wide open with a couple of main players like Trip Advisor, Booking.com, Air bnb and Yelp. This category can be exploited if we work together with travel leaders such as \"Lonely Planet\" to turn their guides into apps for specific countries. The \"Finance\" category is dominated by banking apps and can be exploited by making home accounting which would automate a lot of accounting work at household level. Weather apps can be upgraded using an existing model to incorporate environmental services such as air quality, bio hazards, pollen amount etc. in combination with routine weather services. Let us see if these preliminary conclusions are also supported by google data. \n",
    "\n",
    "\n",
    "### Most Popular Genres - Google\n",
    "We will only look at the categories data compared against number of instals."
   ]
  },
  {
   "cell_type": "code",
   "execution_count": 36,
   "metadata": {},
   "outputs": [
    {
     "name": "stdout",
     "output_type": "stream",
     "text": [
      "1,000,000+ : 15.719440685611186\n",
      "100,000+ : 11.558412268831754\n",
      "10,000,000+ : 10.543527289129456\n",
      "10,000+ : 10.205232295895355\n",
      "1,000+ : 8.412268831754623\n",
      "100+ : 6.9237708615245825\n",
      "5,000,000+ : 6.822282363554352\n",
      "500,000+ : 5.559314388813712\n",
      "50,000+ : 4.769959404600812\n",
      "5,000+ : 4.510599909788001\n",
      "10+ : 3.5408209291835817\n",
      "500+ : 3.247631935047361\n",
      "50,000,000+ : 2.3004059539918806\n",
      "100,000,000+ : 2.1312584573748308\n",
      "50+ : 1.9170049616599005\n",
      "5+ : 0.7893549842129003\n",
      "1+ : 0.5074424898511503\n",
      "500,000,000+ : 0.2706359945872801\n",
      "1,000,000,000+ : 0.2255299954894001\n",
      "0+ : 0.04510599909788002\n"
     ]
    }
   ],
   "source": [
    "display_table(dataset_free_google, 5)"
   ]
  },
  {
   "cell_type": "markdown",
   "metadata": {},
   "source": [
    "We have to convert each install number to float for computation and also compute the average number of installs for each category. We define another function dataset_float_instal(dataset,n): #n=index of instals/ratings, and also use a previously defined function avg_rating(dataset,n1,n2) to determine average number of instals for each category."
   ]
  },
  {
   "cell_type": "code",
   "execution_count": 46,
   "metadata": {
    "scrolled": true
   },
   "outputs": [
    {
     "name": "stdout",
     "output_type": "stream",
     "text": [
      "ART_AND_DESIGN : 1986335.0877192982\n",
      "AUTO_AND_VEHICLES : 647317.8170731707\n",
      "BEAUTY : 513151.88679245283\n",
      "BOOKS_AND_REFERENCE : 8721912.356020942\n",
      "BUSINESS : 1712290.1474201474\n",
      "COMICS : 817657.2727272727\n",
      "COMMUNICATION : 38456119.167247385\n",
      "DATING : 854028.8303030303\n",
      "EDUCATION : 1833495.145631068\n",
      "ENTERTAINMENT : 11640705.88235294\n",
      "EVENTS : 253542.22222222222\n",
      "FINANCE : 1387692.475609756\n",
      "FOOD_AND_DRINK : 1924897.7363636363\n",
      "HEALTH_AND_FITNESS : 4188821.9853479853\n",
      "HOUSE_AND_HOME : 1331540.5616438356\n",
      "LIBRARIES_AND_DEMO : 638503.734939759\n",
      "LIFESTYLE : 1437816.2687861272\n",
      "GAME : 15588015.603248259\n",
      "FAMILY : 3693444.65712582\n",
      "MEDICAL : 120550.61980830671\n",
      "SOCIAL : 23253652.127118643\n",
      "SHOPPING : 7036877.311557789\n",
      "PHOTOGRAPHY : 17840110.40229885\n",
      "SPORTS : 3638640.1428571427\n",
      "TRAVEL_AND_LOCAL : 13984077.710144928\n",
      "TOOLS : 10801391.298666667\n",
      "PERSONALIZATION : 5183850.806779661\n",
      "PRODUCTIVITY : 16787331.344927534\n",
      "PARENTING : 542603.6206896552\n",
      "WEATHER : 5074486.197183099\n",
      "VIDEO_PLAYERS : 24727872.452830188\n",
      "NEWS_AND_MAGAZINES : 9549178.467741935\n",
      "MAPS_AND_NAVIGATION : 4025286.24\n",
      "{'ART_AND_DESIGN': 57, 'AUTO_AND_VEHICLES': 82, 'BEAUTY': 53, 'BOOKS_AND_REFERENCE': 191, 'BUSINESS': 407, 'COMICS': 55, 'COMMUNICATION': 287, 'DATING': 165, 'EDUCATION': 103, 'ENTERTAINMENT': 85, 'EVENTS': 63, 'FINANCE': 328, 'FOOD_AND_DRINK': 110, 'HEALTH_AND_FITNESS': 273, 'HOUSE_AND_HOME': 73, 'LIBRARIES_AND_DEMO': 83, 'LIFESTYLE': 346, 'GAME': 862, 'FAMILY': 1677, 'MEDICAL': 313, 'SOCIAL': 236, 'SHOPPING': 199, 'PHOTOGRAPHY': 261, 'SPORTS': 301, 'TRAVEL_AND_LOCAL': 207, 'TOOLS': 750, 'PERSONALIZATION': 295, 'PRODUCTIVITY': 345, 'PARENTING': 58, 'WEATHER': 71, 'VIDEO_PLAYERS': 159, 'NEWS_AND_MAGAZINES': 248, 'MAPS_AND_NAVIGATION': 125}\n"
     ]
    }
   ],
   "source": [
    "def dataset_float_instal(dataset,n): #n=index of instals/ratings\n",
    "\n",
    "    for row in dataset:\n",
    "    \n",
    "        row[n]=row[n].replace(',','')\n",
    "        row[n]=row[n].replace('+','')\n",
    "        float(row[n])\n",
    "    return dataset    \n",
    "\n",
    "dataset_float_instal_google=dataset_float_instal(dataset_free_google,5)    \n",
    "\n",
    "avg_rating(dataset_float_instal_google,1,5)\n",
    "    \n",
    " \n",
    "\n",
    "      \n",
    "\n",
    "    \n",
    "        \n",
    "\n",
    "\n"
   ]
  },
  {
   "cell_type": "markdown",
   "metadata": {},
   "source": [
    "\"Travel\" has an average instals of over 13 million with 207 apps, Finance over 1.3 million with 328 apps, and Weather with over 5 million instals and 71 apps. Let us examine these categories in detail.  "
   ]
  },
  {
   "cell_type": "code",
   "execution_count": 49,
   "metadata": {
    "scrolled": false
   },
   "outputs": [
    {
     "name": "stdout",
     "output_type": "stream",
     "text": [
      "trivago: Hotels & Travel 50000000\n",
      "Hopper - Watch & Book Flights 5000000\n",
      "TripIt: Travel Organizer 1000000\n",
      "Trip by Skyscanner - City & Travel Guide 500000\n",
      "CityMaps2Go Plan Trips Travel Guide Offline Maps 1000000\n",
      "KAYAK Flights, Hotels & Cars 10000000\n",
      "World Travel Guide by Triposo 500000\n",
      "Booking.com Travel Deals 100000000\n",
      "Hostelworld: Hostels & Cheap Hotels Travel App 1000000\n",
      "Google Trips - Travel Planner 5000000\n",
      "GPS Map Free 5000000\n",
      "GasBuddy: Find Cheap Gas 10000000\n",
      "Southwest Airlines 5000000\n",
      "AT&T Navigator: Maps, Traffic 10000000\n",
      "VZ Navigator 50000000\n",
      "KakaoMap - Map / Navigation 10000000\n",
      "AirAsia 10000000\n",
      "Expedia Hotels, Flights & Car Rental Travel Deals 10000000\n",
      "Goibibo - Flight Hotel Bus Car IRCTC Booking App 10000000\n",
      "Allegiant 1000000\n",
      "Amtrak 1000000\n",
      "JAL (Domestic and international flights) 1000000\n",
      "Flight & Hotel Booking App - ixigo 5000000\n",
      "VZ Navigator for Tablets 500000\n",
      "TripAdvisor Hotels Flights Restaurants Attractions 100000000\n",
      "HSL - Tickets, route planner and information 100000\n",
      "Wisepilot for XPERIA™ 5000000\n",
      "VZ Navigator for Galaxy S4 5000000\n",
      "MAIN 1000000\n",
      "Yoriza Pension - travel, lodging, pension, camping, caravan, pool villas accommodation discount 1000000\n",
      "Foursquare Swarm: Check In 10000000\n",
      "PagesJaunes - local search 10000000\n",
      "Flightradar24 Flight Tracker 10000000\n",
      "Yatra - Flights, Hotels, Bus, Trains & Cabs 10000000\n",
      "SNCF 5000000\n",
      "Fly Delta 5000000\n",
      "Skyscanner 10000000\n",
      "Despegar.com Hotels and Flights 10000000\n",
      "Navigation Plus 1000000\n",
      "2GIS: directory & navigator 50000000\n",
      "Poynt 5000000\n",
      "Gaode Map 1000000\n",
      "Priceline Hotel Deals, Rental Cars & Flights 5000000\n",
      "TravelPirates 1000000\n",
      "Free Radar Detector 1000000\n",
      "American Airlines 5000000\n",
      "Where to travel - ticket. hotel. train ticket. car ticket. travel. tickets 1000000\n",
      "United Airlines 5000000\n",
      "NTES 10000000\n",
      "Where is my Train : Indian Railway & PNR Status 10000000\n",
      "MakeMyTrip-Flight Hotel Bus Cab IRCTC Rail Booking 10000000\n",
      "Restaurant Finder 1000000\n",
      "Zagat 100000\n",
      "Gormey: Find Best Restaurants 1000\n",
      "Find Dining Restaurant Finder 100000\n",
      "Urbanspoon Restaurant Reviews 5000000\n",
      "Yelp: Food, Shopping, Services Nearby 10000000\n",
      "Qatar Airways 1000000\n",
      "Hipmunk Hotels & Flights 1000000\n",
      "Skiplagged — Exclusive Flights & Hotels 1000000\n",
      "CWT To Go 100000\n",
      "British Airways 1000000\n",
      "Cheap Flights & Hotels momondo 5000000\n",
      "CheapTickets – Hotels, Flights & Travel Deals 1000000\n",
      "JetBlue 1000000\n",
      "Flights 1000000\n",
      "Cheapflights – Flight Search 5000000\n",
      "KLM - Royal Dutch Airlines 1000000\n",
      "Orbitz - Hotels, Flights & Package Deals 1000000\n",
      "Lufthansa 1000000\n",
      "easyJet: Travel App 10000000\n",
      "IndiGo 5000000\n",
      "LateRooms: Find Hotel Deals 1000000\n",
      "Choice Hotels 1000000\n",
      "Couchsurfing Travel App 1000000\n",
      "Hotwire Hotel & Car Rental App 1000000\n",
      "HOTEL DEALS 100000\n",
      "HomeAway Vacation Rentals 5000000\n",
      "IHG®: Hotel Deals & Rewards 1000000\n",
      "SPG: Starwood Hotels & Resorts 1000000\n",
      "Hotels.com: Book Hotel Rooms & Find Vacation Deals 10000000\n",
      "HotelTonight: Book amazing deals at great hotels 5000000\n",
      "Airbnb 10000000\n",
      "Hotels Combined - Cheap deals 5000000\n",
      "Agoda – Hotel Booking Deals 10000000\n",
      "Turo - Better Than Car Rental 1000000\n",
      "Ascape VR: 360° Virtual Travel 100000\n",
      "Cheap hotel deals and discounts — Hotellook 1000000\n",
      "Maps - Navigate & Explore 1000000000\n",
      "GPS Status & Toolbox 10000000\n",
      "Airport + Flight Tracker Radar 1000000\n",
      "Scout GPS Navigation & Meet Up 5000000\n",
      "Street Panorama View 1000000\n",
      "Geo Tracker - GPS tracker 1000000\n",
      "DreamTrips 500000\n",
      "Navmii GPS USA (Navfree) 500000\n",
      "Sygic Truck GPS Navigation 1000000\n",
      "Google Street View 1000000000\n",
      "Air Transat CinePlus B 50000\n",
      "U-Haul 100000\n",
      "Octo U: Your driving companion 50000\n",
      "Flexiroam X 100000\n",
      "Connect.ae - Local Search UAE 10000\n",
      "Toppen af Danmark 5000\n",
      "Alabama Road Trips 10000\n",
      "Official AL Fishing & Hunting 50000\n",
      "Where Am I At? 10000\n",
      "Where Am I? GPS Loc 10000\n",
      "Live Camera Viewer ★ World Webcam & IP Cam Streams 10000000\n",
      "Portal AR - Step Into Scotland 5000\n",
      "Casino AZ/Talking Stick Resort 10000\n",
      "Explore Sedona & Northern AZ 10000\n",
      "Arizona Trail 5000\n",
      "Phoenix and Arizona Cameras 10000\n",
      "Experience BA 100\n",
      "BA Status 100\n",
      "Avios for Android 100000\n",
      "Explore British Columbia - BC Travel Guide 500\n",
      "BC Highways - Road Conditions 10000\n",
      "Victoria, BC | Tour City 1000\n",
      "British Columbia Tourist Places (Guide) 100\n",
      "BG Metro - Red voznje 1000\n",
      "BG Guide 100\n",
      "trip.bg 1000\n",
      "Belo Horizonte Map offline 1000\n",
      "BH Mission Playbook 100\n",
      "BH Rocking 100\n",
      "Digital Tourist BH Itinerary 500\n",
      "BL info 5000\n",
      "BPme - Mobile Fuel Payment & BP Driver Rewards app 10000\n",
      "Wherever BQ 50\n",
      "BU Dental GoGoldman 100\n",
      "BU Questrom Launch 100\n",
      "BU School of Public Health 10\n",
      "BV Aventure 100\n",
      "BV Rando 100\n",
      "Best Western To Go 100000\n",
      "BW Map mobile 10000\n",
      "Best Western e-Concierge Hotel 10000\n",
      "24/7 BZ Reis 100000\n",
      "BZ Vesper-App 1000\n",
      "Restaurantführer Südbaden 1000\n",
      "BZ Straußenführer 10000\n",
      "California Cameras - Traffic 10000\n",
      "Kiosque CD 5\n",
      "US 115th CD 5\n",
      "CE AH VLJ 1000\n",
      "search.ch 500000\n",
      "CJ's Coffee Cafe 500\n",
      "Camping and Co - Camping in Europe 1000\n",
      "CQ Hotels 10000\n",
      "SHUTTLLS CQ - Connect Ride Go 5\n",
      "Cathay Pacific 1000000\n",
      "Map of Cyprus offline 10000\n",
      "DB BAHN 500\n",
      "DB FahrtProfi 1000\n",
      "DC Metro Transit - Free 500000\n",
      "DC Trails-Hop On Hop Off Tours 5000\n",
      "Can I pack that? - DG App 10000\n",
      "DG Cars 10000\n",
      "DK Eyewitness Audio Walks 1000\n",
      "DM Transfers Dalaman Transfers 10000\n",
      "US DV Lottery 2020 Apply 10000\n",
      "US DV Lottery 2019 1000\n",
      "DW Maps 10000\n",
      "junainfo.dy.fi 100\n",
      "Siyaha Dz 10000\n",
      "IRIS : Customer Service - DZ Algeria 1000\n",
      "DZ Fly Algérie Horaire Vols 10000\n",
      "EA Plus 1000\n",
      "EB Events 10000\n",
      "Audiowalk EB 10\n",
      "EF Go Ahead Tour Companion 1000\n",
      "EF Summits 100\n",
      "EG SIM CARD (EGSIMCARD) 10000\n",
      "The Emirates App 1000000\n",
      "Ek-yatri: Travel where you Belong 1\n",
      "EL AL Flights 100000\n",
      "DreamStream By EL AL 100000\n",
      "El Dorado App 10000\n",
      "EO Hotels 100\n",
      "Fill 'er Up 5000\n",
      "MAPS.ME – Offline Map and Travel Navigation 50000000\n",
      "Google Earth 100000000\n",
      "Offline Maps & Navigation 5000000\n",
      "myLPG.eu 50000\n",
      "Passenger rights 50000\n",
      "taxi.eu 100000\n",
      "To-U - free EV public charging 1000\n",
      "Bird - Enjoy The Ride 500000\n",
      "eCooltra: scooter sharing. Share electric scooters 100000\n",
      "XE Currency 10000000\n",
      "Etihad Airways 500000\n",
      "EZ TAG Express 10000\n",
      "Santa Fe Map and Walks 1000\n",
      "Santa Fe VIP Tours 100\n",
      "Toyota Cruisers & Trucks Mag 500\n",
      "FL State Parks Guide 100000\n",
      "Florida Travel Guide 1000\n",
      "The Florida Trail Guide 5000\n",
      "Florida Keys 10000\n",
      "Florida Travel Guide - TOURIAS 10000\n",
      "Florida map 5000\n",
      "Florida Beach Wallpapers HD 100\n",
      "ORLANDO FLORIDA MAP 1000\n",
      "Florida Offline Road Map 10000\n",
      "Florida Map offline 1000\n"
     ]
    }
   ],
   "source": [
    "for row in dataset_float_instal_google:\n",
    "    category_app=row[1]\n",
    "    app_name=row[0]\n",
    "    instals=row[5]\n",
    "    if category_app==\"TRAVEL_AND_LOCAL\":\n",
    "        print(app_name, instals)"
   ]
  },
  {
   "cell_type": "markdown",
   "metadata": {},
   "source": [
    "### Conclusion\n",
    "It can be seen that \"Travel\" category is very jumbled up with hotel bookings, airline reservations and mapping apps. There are virtually no \"travel guides\", so this remains a promising area. "
   ]
  },
  {
   "cell_type": "code",
   "execution_count": 52,
   "metadata": {},
   "outputs": [
    {
     "name": "stdout",
     "output_type": "stream",
     "text": [
      "K PLUS 10000000\n",
      "ING Banking 1000000\n",
      "Citibanamex Movil 5000000\n",
      "The postal bank 5000000\n",
      "KTB Netbank 5000000\n",
      "Mobile Bancomer 10000000\n",
      "Nedbank Money 500000\n",
      "SCB EASY 5000000\n",
      "CASHIER 10000000\n",
      "Rabo Banking 1000000\n",
      "Capitec Remote Banking 1000000\n",
      "Itau bank 10000000\n",
      "Nubank 5000000\n",
      "The Societe Generale App 1000000\n",
      "IKO 1000000\n",
      "Cash App 10000000\n",
      "Standard Bank / Stanbic Bank 1000000\n",
      "Bualuang mBanking 5000000\n",
      "Intesa Sanpaolo Mobile 1000000\n",
      "UBA Mobile Banking 1000000\n",
      "BBVA Spain 5000000\n",
      "MyMo by GSB 1000000\n",
      "VTB-Online 5000000\n",
      "Ecobank Mobile Banking 1000000\n",
      "Banorte Movil 1000000\n",
      "Zenith Bank Mobile App 1000000\n",
      "GCash - Buy Load, Pay Bills, Send Money 1000000\n",
      "Post Bank 1000000\n",
      "İşCep 10000000\n",
      "People's Bank 1000000\n",
      "Transfer 5000000\n",
      "T-Mobile in 1000000\n",
      "TrueMoney Wallet 5000000\n",
      "Alfa-Bank (Alfa-Bank) 1000000\n",
      "Bank of Brazil 10000000\n",
      "WiseBanyan - Invest For Free 10000\n",
      "Robinhood - Investing, No Fees 1000000\n",
      "Wells Fargo Daily Change 100000\n",
      "Even - organize your money, get paid early 100000\n",
      "Digit Save Money Automatically 100000\n",
      "Stash: Invest. Learn. Save. 1000000\n",
      "Expense IQ Money Manager 1000000\n",
      "Money Manager Expense & Budget 5000000\n",
      "Prism Pay Bills, Track Money, Personal Finance 500000\n",
      "Monefy - Money Manager 1000000\n",
      "Simple - Better Banking 100000\n",
      "Chime - Mobile Banking 500000\n",
      "Bluebird by American Express 1000000\n",
      "Walmart MoneyCard 1000000\n",
      "Moven - Smart Finances 100000\n",
      "Qapital - Save Small. Live Large 100000\n",
      "Experian - Free Credit Report 1000000\n",
      "Branch 1000000\n",
      "WalletHub - Free Credit Score, Report & Monitoring 50000\n",
      "CreditWise from Capital One 1000000\n",
      "NerdWallet: Personal Finance, Credit Score & Cash 100000\n",
      "my face 100000\n",
      "Credit Sesame 1000000\n",
      "Fresh EBT - Food Stamp Balance 1000000\n",
      "Hurdlr: Track Mileage, Expenses, and Log Receipts 100000\n",
      "Mobills: Budget Planner 1000000\n",
      "Everlance: Free Mileage Log 100000\n",
      "MileIQ - Free Mileage Tracker for Business 1000000\n",
      "QuickBooks Self-Employed:Mileage Tracker and Taxes 1000000\n",
      "FREE Stock Market Trading Tips 50000\n",
      "MetaTrader 5 1000000\n",
      "MetaTrader 4 5000000\n",
      "Stock Quote 500000\n",
      "Seeking Alpha 1000000\n",
      "Stock Trainer: Virtual Trading (Stock Markets) 1000000\n",
      "Stocks: Realtime Quotes Charts 1000000\n",
      "Stocks, Forex, Bitcoin, Ethereum: Portfolio & News 5000000\n",
      "US Stock Market 100000\n",
      "Bloomberg Professional 500000\n",
      "E*TRADE Mobile 1000000\n",
      "MSN Money- Stock Quotes & News 1000000\n",
      "Fox Business 500000\n",
      "NSE Mobile Trading 1000000\n",
      "Yahoo Finance 5000000\n",
      "JStock - Stock Market, Portfolio & News 500000\n",
      "Acorns - Invest Spare Change 1000000\n",
      "Webull - Stock Quotes & Free Stock Trading 1000000\n",
      "Trading 212 - Forex, Stocks, CFDs 5000000\n",
      "Current debit card and app made for teens 50000\n",
      "Money Lover: Expense Tracker, Budget Planner 1000000\n",
      "Betterment 100000\n",
      "Citizens Bank Mobile Banking 1000000\n",
      "GoBank 500000\n",
      "NetSpend Prepaid 1000000\n",
      "BBVA Compass Banking 500000\n",
      "PayPal 50000000\n",
      "BankMobile Vibe App 1000000\n",
      "Netspend Skylight ONE 100000\n",
      "ACE Elite 100000\n",
      "U.S. Bank 1000000\n",
      "Huntington Mobile 1000000\n",
      "USAA Mobile 5000000\n",
      "Associated Credit Union Mobile 50000\n",
      "Bank of America Mobile Banking 10000000\n",
      "USE Credit Union Mobile 10000\n",
      "Discover Mobile 5000000\n",
      "Wells Fargo Mobile 10000000\n",
      "Capital One® Mobile 10000000\n",
      "Amex Mobile 1000000\n",
      "Citi Mobile® 5000000\n",
      "Navy Federal Credit Union 1000000\n",
      "Chase Mobile 10000000\n",
      "HDFC Bank MobileBanking 10000000\n",
      "Barclays US for Android 1000000\n",
      "A+ Mobile 10000\n",
      "Fortune City - A Finance App 500000\n",
      "B 50000\n",
      "E-NUM 500000\n",
      "Synd e-Passbook 1000000\n",
      "F & M Mobile Banking 5000\n",
      "m-Faisaa 10000\n",
      "Q Mobile Banking 10000\n",
      "R Bank 5000\n",
      "T. Rowe Price Personal® App 50000\n",
      "U by BB&T 1000000\n",
      "U of I Community Credit Union 5000\n",
      "AB Anywhere Mobile Banking 500\n",
      "Hesab.af - Send money in Afghanistan 1000\n",
      "EZ Ag Mobile 5000\n",
      "Alabama Ag Credit Ag Banking 100\n",
      "Tri-Ag (WV) FCU 100\n",
      "AJ Bell Youinvest 10000\n",
      "Google Pay 100000000\n",
      "loans.com.au Smart Money 1000\n",
      "mon guide au bank populaire -infos et instructions 1000\n",
      "App Seguridad AV Villas 50000\n",
      "AX Battery Saver 100000\n",
      "NB|AZ Mobile Banking 10000\n",
      "NB|AZ Business Mobile Banking 1000\n",
      "First Credit Union (AZ) Mobile 10000\n",
      "BD Bank Interest 5000\n",
      "Earn Money BD 5000\n",
      "be Produbanco 100000\n",
      "ePay.bg 100000\n",
      "BH Online 10\n",
      "BH INVEST 500\n",
      "ZiraatBank BH 10000\n",
      "Bi en Línea 100000\n",
      "BI Mobile Banking 10000\n",
      "BI APP 100\n",
      "BI Mobile 10000\n",
      "Mint: Budget, Bills, Finance 5000000\n",
      "Capital Bk Mobile Business Dep 100\n",
      "BK Gold App 50\n",
      "BL Banking DES 100\n",
      "BL Mobile Banking 1000\n",
      "B L Enterprises 10\n",
      "BM Wallet 50000\n",
      "bm Wallet 10000\n",
      "Mobilight-BM 500\n",
      "BM Assets 500\n",
      "BN Más Cerca de Usted 500000\n",
      "BNCR Token Celular 100000\n",
      "BN Bank Mobilbank 10000\n",
      "FX LITE BO 10000\n",
      "B R Telco FCU Mobile Banking 10000\n",
      "Banco Sabadell App. Your mobile bank 1000000\n",
      "BT Panorama 5000\n",
      "Meu Cartão BV 500000\n",
      "Standard Chartered Mobile (BW) 10000\n",
      "BW Mobilbanking für Smartphone und Tablet 100000\n",
      "Bitcoin BX Thailand 10000\n",
      "Bx Thailand Alert (Bitcoin) 100\n",
      "Bitcoin Bx (Thailand) 10000\n",
      "BX Thailand - Crypto Tracking & Analyse Bitcoin 100\n",
      "BxPort - Bitcoin Bx (Thailand) 50\n",
      "bX Thailand Simple Market Price and Alert 1000\n",
      "BX Diff - Crypto Coins Checker 5000\n",
      "bitcoin exchange bx thailand 5000\n",
      "Bitcoin & Cryptocurrency - Bx 1000\n",
      "Casa de Bolsa Bx+ Móvil 500\n",
      "Crypto Tracker by BitScreener 10000\n",
      "CoinMarketApp - CryptoCurrency Portfolio, News,ICO 500000\n",
      "Bitcoin Ticker Widget 500000\n",
      "BZWBK24 mobile 1000000\n",
      "Inwestor mobile 10000\n",
      "iBiznes24 mobile 5000\n",
      "CB-Mobile Banking 10000\n",
      "CB Bank Mobile Banking 100000\n",
      "Citizens Bank - CB Mobile 1000\n",
      "CB Mobile Access 1000\n",
      "CB Trader 1000\n",
      "CB Pay 10000\n",
      "CB Mobile GA 100\n",
      "CB Mobile Biz 500\n",
      "C-E Federal Credit Union 500\n",
      "CF Invest 500\n",
      "CF PD 100\n",
      "CF 100\n",
      "1st Fed CI Mobile Banking 500\n",
      "CI Capital - Dynamic 50\n",
      "Credit Karma 10000000\n",
      "CL e-bank 10000\n",
      "AND CO 10000\n",
      "REI Co-op Mastercard 10000\n",
      "Co-op Credit Union on the Go 1000\n",
      "Sprig by CO-OP 10000\n",
      "Central Bank and Trust Co. 5000\n",
      "Soo Co-op Mobile Banking 1000\n",
      "Co-Optima Mobile 10000\n",
      "Grenada Co-operative Bank 10000\n",
      "CP Federal Mobile 10000\n",
      "CQ Mobile 1000\n",
      "CQ SIGNAL PRO 5 10\n",
      "CT Checkout 50\n",
      "CU: UPI Payments, Chat & Call 100000\n",
      "CU of Colorado Mobile Banking 10000\n",
      "Tech CU Mobile Banking 10000\n",
      "Service CU Mobile Banking 100000\n",
      "Redwood CU v3.1.0 50000\n",
      "Cyprus CU Mobile Banking 10000\n",
      "BayPort CU Mobile Banking 10000\n",
      "CU SoCal Mobile Banking 10000\n",
      "Tropical Financial CU 10000\n",
      "Travis CU 10000\n",
      "Commonwealth CU Go Mobile 10000\n",
      "Public Service CU Mobile 10000\n",
      "Freedom CU 10000\n",
      "Meritrust CU Mobile Banking 50000\n",
      "Nusenda CU– Mobile Banking 50000\n",
      "Lake Michigan CU Mobile 50000\n",
      "Maps CU 10000\n",
      "Family Savings CU Mobile 10000\n",
      "FORUM Credit Union CU Online 10000\n",
      "Educators CU Mobile Banking 50000\n",
      "Space Coast CU Mobile 100000\n",
      "First Tech Federal CU 50000\n",
      "Southland CU 10000\n",
      "Tech CU Card Manager 1000\n",
      "Numerica CU 50000\n",
      "Red River CU 10000\n",
      "Firefighters First CU 5000\n",
      "MYCU TX Mobile Banking 100\n",
      "Cy-Fair FCU Mobile Banking 5000\n",
      "CY.SEND Online Top Up 10000\n",
      "Alpha Bank CY 1000\n",
      "EUROBANK CY 100\n",
      "Rewards 5000\n",
      "Bank Of Cyprus 100000\n",
      "Diario Financiero 10000\n",
      "Free coupons and vouchers 100\n",
      "NY mobilbank DK - Danske Bank 100000\n",
      "D.L. Evans Bank Mobile Banking 10000\n",
      "DM Accounting and Payroll 100\n",
      "DN Calculators 100\n",
      "DN Prasad 100\n",
      "dt Pro 1000\n",
      "Direct Express® 500000\n",
      "CCP DZ : Fill out a check | Number in letters DZD 10000\n",
      "Currency Exchange DZ 1000\n",
      "Devise Dz 1000\n",
      "ChangeDA - Cours du DZD sur le marché parallèle 10000\n",
      "Tunisian Dinar: Exchange rate 10000\n",
      "Exchange Bank - EB Mobile 1000\n",
      "EB-Banking (ersetzt) 1000\n",
      "Tamilnadu EB Online Payment 100000\n",
      "Online Kerala EB Bill Pay 5000\n",
      "TNEB Quick Pay Easy 10000\n",
      "TNEB Bill Checker / TNEB Bill Status 1000\n",
      "EC Tax 500\n",
      "EF-myHR 1000\n",
      "Education First FCU Mobile 10000\n",
      "Financial Calculator Pro EF 50000\n",
      "EF Financial Control Free 10000\n",
      "Bee Mobile EG 100000\n",
      "EG Tax Service 100\n",
      "Alipay 1000000\n",
      "EH National Mobile Banking 50\n",
      "EI Mobile 100000\n",
      "EI SmartMiles 1000\n",
      "Tigo Money El Salvador 100000\n",
      "The dollar in mexico 100000\n",
      "Western Union US - Send Money Transfers Quickly 5000000\n",
      "EO.TRADE - Coin sale 10000\n",
      "Cryptocurrency Trading - How To Trade Crypto 100\n",
      "EP FCU 100\n",
      "Lead'er 5000\n",
      "ET Markets : NSE & BSE India 1000000\n",
      "Moneycontrol – Stocks, Sensex, Mutual Funds, IPO 5000000\n",
      "CNBC: Breaking Business News & Live Market Data 1000000\n",
      "EU Mobile Money 100000\n",
      "EU Mobile Money Partenaire Commercial 10000\n",
      "Intra- and extra-EU trade data 100\n",
      "E W Bookkeeping & Accountancy 100\n",
      "Money Manager Ex for Android 100000\n",
      "EY TaxChat 1000\n",
      "EY Expenses 1000\n",
      "EY Forensics 1000\n",
      "EZ Receipts 100000\n",
      "F&M Bank - EZ Banking 10000\n",
      "EZ Financial Calculator 1000\n",
      "LEADS FA 1000\n",
      "Bank FD Interest Calculator 10000\n",
      "FD Community FCU Mobile 1000\n",
      "Policy And FD Manager 500\n",
      "FD Calculator | Term Deposit | Fixed Deposit 1000\n",
      "Financial Calculator India 1000000\n",
      "FD Calculator (EMI, SIP, RD & Loan Eligilibility) 1000\n",
      "EMI, FD, RD - Bank Calculator 5000\n",
      "RD/FD Calculator 10000\n",
      "Fix Deposit Calculator (FD) 1000\n",
      "FD Interest Calculator 5000\n",
      "Deposit Calculator FD & RD 10000\n",
      "Banking Calculator 100000\n",
      "EMI/FD/RD/PV/IRR/BEP/EOQ Calc 10000\n",
      "EMI Calculator | FD Calculator | RD calculator 10000\n",
      "Santa Fe FCU Mobile Banking 1000\n",
      "FE CREDIT - TET VUI 50000\n",
      "Caprock Santa Fe Credit Union 100\n",
      "FE CPS 10000\n",
      "FG Wallet 1000\n",
      "FH Wallet 1\n",
      "First Hawaiian Bank Mobile 10000\n",
      "FI CFL 10000\n",
      "PriorityONE Credit Union of Fl 1000\n",
      "First Federal Bank of Florida 10000\n",
      "SB · FN 1870 Mobile Banking 10000\n",
      "FO BOULANGER 50\n",
      "BankNordik 5000\n",
      "FP Markets 100\n",
      "FP Boss 1\n",
      "FP FCU 5000\n",
      "Gold Quote - Gold.fr 10000\n"
     ]
    }
   ],
   "source": [
    "for row in dataset_float_instal_google:\n",
    "    category_app=row[1]\n",
    "    app_name=row[0]\n",
    "    instals=row[5]\n",
    "    if category_app==\"FINANCE\":\n",
    "        print(app_name, instals)"
   ]
  },
  {
   "cell_type": "markdown",
   "metadata": {},
   "source": [
    "### Conclusion\n",
    "In Finance most applications are for mobile banking and virtually no personal accounting apps. This also remains a promising area. "
   ]
  },
  {
   "cell_type": "code",
   "execution_count": 53,
   "metadata": {},
   "outputs": [
    {
     "name": "stdout",
     "output_type": "stream",
     "text": [
      "The Weather Channel: Rain Forecast & Storm Alerts 50000000\n",
      "Weather forecast 1000000\n",
      "AccuWeather: Daily Forecast & Live Weather Reports 50000000\n",
      "Live Weather Pro 10000\n",
      "Weather by WeatherBug: Forecast, Radar & Alerts 10000000\n",
      "weather - weather forecast 1000000\n",
      "MyRadar NOAA Weather Radar 10000000\n",
      "SMHI Weather 1000000\n",
      "Free live weather on screen 1000000\n",
      "Weather Radar Widget 1000000\n",
      "Weather –Simple weather forecast 10000000\n",
      "Weather Crave 5000000\n",
      "Klara weather 500000\n",
      "Yahoo Weather 10000000\n",
      "Real time Weather Forecast 1000000\n",
      "METEO FRANCE 5000000\n",
      "APE Weather ( Live Forecast) 5000000\n",
      "Live Weather & Daily Local Weather Forecast 1000000\n",
      "Weather 10000000\n",
      "Rainfall radar - weather 5000000\n",
      "Yahoo! Weather for SH Forecast for understanding the approach of rain clouds Free 1000000\n",
      "The Weather Network 5000000\n",
      "Klart.se - Sweden's best weather 1000000\n",
      "GO Weather - Widget, Theme, Wallpaper, Efficient 50000000\n",
      "Info BMKG 1000000\n",
      "Weather From DMI/YR 100000\n",
      "wetter.com - Weather and Radar 10000000\n",
      "Storm Radar: Tornado Tracker & Hurricane Alerts 1000000\n",
      "Yandex.Weather 10000000\n",
      "Local Weather Forecast & Visual Widget 500000\n",
      "Wetter by t-online.de 1000000\n",
      "HTC Weather 10000000\n",
      "AEMET's time 1000000\n",
      "New 2018 Weather App & Widget 500000\n",
      "Météociel 500000\n",
      "Climatempo Lite - 15 day weather forecast 100000\n",
      "ForecaWeather 1000000\n",
      "HumorCast - Authentic Weather 100000\n",
      "W - Weather Forecast & Animated Radar Maps 5000\n",
      "Weather & Clock Widget for Android 50000000\n",
      "WeatherClear - Ad-free Weather, Minute forecast 50000\n",
      "Ag Weather Tools 500\n",
      "Wind & Weather Meter for Ag 1000\n",
      "Au Weather Free 100000\n",
      "Amber Weather 10000000\n",
      "ByssWeather for Wear OS 1000000\n",
      "Sun & Moon AR Locator 10000\n",
      "RadarNow! 5000000\n",
      "Skywatch BL 1000\n",
      "Weather BZ 100000\n",
      "Fu*** Weather (Funny Weather) 1000000\n",
      "WebCams 100000\n",
      "Windguru Lite 1000000\n",
      "World Webcams 1000000\n",
      "DS Barometer - Altimeter and Weather Information 100000\n",
      "DS Thermometer 100000\n",
      "Météo Algérie DZ 100000\n",
      "Local weather Forecast 1000000\n",
      "Weather 14 Days 10000000\n",
      "Weather by eltiempo.es 5000000\n",
      "Storm Shield 100000\n",
      "GO Weather EX Theme White 500000\n",
      "MIUI Style GO Weather EX 500000\n",
      "Moonlight GO Weather EX 1000000\n",
      "EZ Clock & Weather Widget 1000000\n",
      "Florida Storms 10000\n",
      "Clearwater, FL - weather and more 10\n",
      "St. Petersburg, FL - weather and more 10\n",
      "WSVN • South Florida's Source for Weather 1000\n",
      "My Earthquake Alerts - US & Worldwide Earthquakes 100000\n",
      "FR Tides 100000\n"
     ]
    }
   ],
   "source": [
    "for row in dataset_float_instal_google:\n",
    "    category_app=row[1]\n",
    "    app_name=row[0]\n",
    "    instals=row[5]\n",
    "    if category_app==\"WEATHER\":\n",
    "        print(app_name, instals)"
   ]
  },
  {
   "cell_type": "markdown",
   "metadata": {},
   "source": [
    "### Conclusion\n",
    "In Weather most applications are for and very little environmental variable related to human health and well being built in. So, we can also explore this area for building a hybrid app. "
   ]
  }
 ],
 "metadata": {
  "kernelspec": {
   "display_name": "Python 3",
   "language": "python",
   "name": "python3"
  },
  "language_info": {
   "codemirror_mode": {
    "name": "ipython",
    "version": 3
   },
   "file_extension": ".py",
   "mimetype": "text/x-python",
   "name": "python",
   "nbconvert_exporter": "python",
   "pygments_lexer": "ipython3",
   "version": "3.7.6"
  }
 },
 "nbformat": 4,
 "nbformat_minor": 4
}
